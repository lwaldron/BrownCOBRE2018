{
 "cells": [
  {
   "cell_type": "markdown",
   "metadata": {},
   "source": [
    "# Genomic ranges for organizing and interrogating genome-scale data\n",
    "\n",
    "Period 2 has the following basic outline.  We want to understand the basic IRanges and GRanges infrastructure components and then use them to organize and interrogate genomic experiments."
   ]
  },
  {
   "cell_type": "markdown",
   "metadata": {},
   "source": [
    "```\n",
    "Period II. Working with general genomic features using GenomicRanges\n",
    "  IRanges introduced\n",
    "  Intra-range operations\n",
    "  Inter-range operations\n",
    "  GRanges\n",
    "  Calculating overlaps\n",
    "Range-oriented solutions for current experimental paradigms\n",
    "  SummarizedExperiment: for RNA-seq and 450k methylation\n",
    "  External storage for very large assays\n",
    "  GenomicFiles for families of BAM or BED\n",
    "  DNA Variants: VCF handling with VariantAnnotation and VariantTools\n",
    "  ```\n"
   ]
  },
  {
   "cell_type": "markdown",
   "metadata": {},
   "source": [
    "## Introducing IRanges\n",
    "\n",
    "The following schematic diagram should be read from the bottom up.  The horizontal scale can be regarded\n",
    "as genomic base positions.  \n",
    "\n",
    "### Intra-range operations\n",
    "\n",
    "We are working with the positions in the interval [5, 10].  We will learn how to interpret the methods\n",
    "`shift`, `narrow`, `flank`, `resize`, and various arithmetic operations."
   ]
  },
  {
   "cell_type": "markdown",
   "metadata": {},
   "source": [
    "<img src=\"iranges.png\" height=\"450\" width=\"450\" />"
   ]
  },
  {
   "cell_type": "markdown",
   "metadata": {},
   "source": [
    "We create our basic IRanges instance:"
   ]
  },
  {
   "cell_type": "code",
   "execution_count": null,
   "metadata": {},
   "outputs": [],
   "source": [
    "suppressPackageStartupMessages({\n",
    "    library(IRanges)\n",
    "    library(Homo.sapiens)\n",
    "    library(GenomicRanges)\n",
    "    })\n",
    "ir = IRanges(5, 10)\n",
    "ir"
   ]
  },
  {
   "cell_type": "markdown",
   "metadata": {},
   "source": [
    "Now function calls for selected 'intra-range' operations."
   ]
  },
  {
   "cell_type": "code",
   "execution_count": null,
   "metadata": {},
   "outputs": [],
   "source": [
    "shift(ir, -2)"
   ]
  },
  {
   "cell_type": "code",
   "execution_count": null,
   "metadata": {},
   "outputs": [],
   "source": [
    "resize(ir, 1)"
   ]
  },
  {
   "cell_type": "markdown",
   "metadata": {},
   "source": [
    "### Multi-range objects\n",
    "\n",
    "We can create a family of ranges using vector inputs to the IRanges method."
   ]
  },
  {
   "cell_type": "code",
   "execution_count": null,
   "metadata": {},
   "outputs": [],
   "source": [
    "ir <- IRanges(c(3, 8, 14, 15, 19, 34, 40),\n",
    "  width = c(12, 6, 6, 15, 6, 2, 7))\n",
    "ir"
   ]
  },
  {
   "cell_type": "markdown",
   "metadata": {},
   "source": [
    "This range set is displayed in the figure below.  The intra-range operations will be applied elementwise."
   ]
  },
  {
   "cell_type": "code",
   "execution_count": null,
   "metadata": {},
   "outputs": [],
   "source": [
    "resize(ir,1)  # leftmost width-1 position "
   ]
  },
  {
   "cell_type": "markdown",
   "metadata": {},
   "source": [
    "### Inter-range operations"
   ]
  },
  {
   "cell_type": "markdown",
   "metadata": {},
   "source": [
    "Information about inter-range operations can be obtained using `?\"inter-range-methods\"`.  For example, for a multi-range instance `ir`, `reduce(ir)`\n",
    "produces a new IRanges instance representing the merging of all locations occupied by any range."
   ]
  },
  {
   "cell_type": "code",
   "execution_count": null,
   "metadata": {},
   "outputs": [],
   "source": [
    "reduce(ir)"
   ]
  },
  {
   "cell_type": "markdown",
   "metadata": {},
   "source": [
    "<img src=\"multirange.png\" height=\"500\" width=\"500\" />"
   ]
  },
  {
   "cell_type": "markdown",
   "metadata": {},
   "source": [
    "### Metadata and indexing for ranges\n",
    "\n",
    "We can give names to ranges, associate multiple fields of metadata to each range (using `mcols`), and use bracket-style indexing."
   ]
  },
  {
   "cell_type": "code",
   "execution_count": null,
   "metadata": {},
   "outputs": [],
   "source": [
    "names(ir) = letters[1:7]\n",
    "ir[c(\"a\", \"d\")]"
   ]
  },
  {
   "cell_type": "code",
   "execution_count": null,
   "metadata": {},
   "outputs": [],
   "source": [
    "mcols(ir) = mtcars[1:7,1:3]\n",
    "ir"
   ]
  },
  {
   "cell_type": "code",
   "execution_count": null,
   "metadata": {},
   "outputs": [],
   "source": [
    "resize(ir,1) # metadata are propagated for intra-range operations"
   ]
  },
  {
   "cell_type": "code",
   "execution_count": null,
   "metadata": {},
   "outputs": [],
   "source": [
    "gaps(ir) # not for inter-range operations"
   ]
  },
  {
   "cell_type": "markdown",
   "metadata": {},
   "source": [
    "`IRanges` is the name of a formal class, and we can enumerate all known methods on this class:"
   ]
  },
  {
   "cell_type": "code",
   "execution_count": null,
   "metadata": {},
   "outputs": [],
   "source": [
    "length(methods(class=\"IRanges\"))"
   ]
  },
  {
   "cell_type": "markdown",
   "metadata": {},
   "source": [
    "Clearly there is substantial infrastructure defined for this concept.  The roles of some of these\n",
    "methods in genome-scale analysis becomes clearer in the next section."
   ]
  },
  {
   "cell_type": "markdown",
   "metadata": {},
   "source": [
    "## GRanges to handle the context of genomic coordinates\n",
    "\n",
    "Base positions and intervals on genomic sequences can be modeled using IRanges, but it is essential\n",
    "to add metadata that establish a number of contextual details.  It is typical to maintain information\n",
    "about chromosome identity and chromosome length, along with labels for genome build and origin.\n",
    "We saw one example early on: apply the `genes` method to `Homo.sapiens`."
   ]
  },
  {
   "cell_type": "code",
   "execution_count": null,
   "metadata": {},
   "outputs": [],
   "source": [
    "library(Homo.sapiens)\n",
    "hg = genes(Homo.sapiens)\n",
    "hg"
   ]
  },
  {
   "cell_type": "markdown",
   "metadata": {},
   "source": [
    "There is an obligatory metadata construct called `seqnames` that gives the chromosome occupied by the gene whose start and end positions are modeled by the associated `IRanges`.  Strand is also recorded.  \n",
    "\n",
    "Plus strand features have the biological direction from left to right on the number line, and minus strand features have the biological direction from right to left. In terms of the IRanges, plus strand features go from start to end, and minus strand features go from end to start. This is required because width is defined as end - start + 1, and negative width ranges are not allowed. Because DNA has two strands, which have an opposite directionality, strand is necessary for uniquely referring to DNA.\n",
    "\n",
    "Strand may have values `+`, `-`, or `*` for unspecified.  `seqinfo` collects information on the chromosome names, lengths, circularity, and reference build.\n",
    "\n",
    "### Vector operations\n",
    "\n",
    "GRanges can be treated as any standard vector."
   ]
  },
  {
   "cell_type": "code",
   "execution_count": null,
   "metadata": {},
   "outputs": [],
   "source": [
    "hg[1:4] # first four in the lexical ordering of `names(hg)`"
   ]
  },
  {
   "cell_type": "code",
   "execution_count": null,
   "metadata": {},
   "outputs": [],
   "source": [
    "sort(hg)[1:4]  # physical ordering on plus strand"
   ]
  },
  {
   "cell_type": "code",
   "execution_count": null,
   "metadata": {},
   "outputs": [],
   "source": [
    "savestrand = strand(hg)\n",
    "strand(hg) = \"*\"\n",
    "sort(hg)[1:4] # different!"
   ]
  },
  {
   "cell_type": "code",
   "execution_count": null,
   "metadata": {
    "collapsed": true
   },
   "outputs": [],
   "source": [
    "strand(hg) = savestrand  # restore"
   ]
  },
  {
   "cell_type": "markdown",
   "metadata": {},
   "source": [
    "### Multichromosome context\n",
    "\n",
    "`seqinfo` is an important method for/component of well-annotated GenomicRanges instances."
   ]
  },
  {
   "cell_type": "code",
   "execution_count": null,
   "metadata": {},
   "outputs": [],
   "source": [
    "seqinfo(hg)"
   ]
  },
  {
   "cell_type": "code",
   "execution_count": null,
   "metadata": {},
   "outputs": [],
   "source": [
    "sum(isCircular(hg), na.rm=TRUE) # how many circular chromosomes?"
   ]
  },
  {
   "cell_type": "code",
   "execution_count": null,
   "metadata": {},
   "outputs": [],
   "source": [
    "seqinfo(hg)[\"chrM\"]"
   ]
  },
  {
   "cell_type": "code",
   "execution_count": null,
   "metadata": {},
   "outputs": [],
   "source": [
    "# table(seqnames(hg)) # counts of genes per chromosome (or random/unmapped contig)"
   ]
  },
  {
   "cell_type": "code",
   "execution_count": null,
   "metadata": {},
   "outputs": [],
   "source": [
    "hg[ which(seqnames(hg)==\"chr22\") ]"
   ]
  },
  {
   "cell_type": "code",
   "execution_count": null,
   "metadata": {},
   "outputs": [],
   "source": [
    "hgs = keepStandardChromosomes(hg, pruning.mode=\"coarse\") # eliminate random/unmapped\n",
    "hgs"
   ]
  },
  {
   "cell_type": "code",
   "execution_count": null,
   "metadata": {},
   "outputs": [],
   "source": [
    "table(seqnames(hgs))"
   ]
  },
  {
   "cell_type": "markdown",
   "metadata": {},
   "source": [
    "### GRangesList for grouped genomic elements\n",
    "\n",
    "Exons are elements of gene models.  The `exons` method gives a flat sequence of GRanges recording exon positions.  `exonsBy` organizes the exons into genes, yielding a special structure called `GRangesList`."
   ]
  },
  {
   "cell_type": "code",
   "execution_count": null,
   "metadata": {},
   "outputs": [],
   "source": [
    "ebg = exonsBy(Homo.sapiens, by = \"gene\")\n",
    "ebg"
   ]
  },
  {
   "cell_type": "code",
   "execution_count": null,
   "metadata": {},
   "outputs": [],
   "source": [
    "elementNROWS(ebg)[1:10] # number of exons recorded per gene"
   ]
  },
  {
   "cell_type": "code",
   "execution_count": null,
   "metadata": {},
   "outputs": [],
   "source": [
    "# length(methods(class=\"GRangesList\"))"
   ]
  },
  {
   "cell_type": "code",
   "execution_count": null,
   "metadata": {},
   "outputs": [],
   "source": [
    "# keepStandardChromosomes(ebg, pruning.mode=\"coarse\")"
   ]
  },
  {
   "cell_type": "code",
   "execution_count": null,
   "metadata": {},
   "outputs": [],
   "source": [
    "plotGRanges = function (x, xlim = x, col = \"black\", sep = 0.5, xlimits = c(0, \n",
    "    60), ...) \n",
    "{\n",
    "    main = deparse(substitute(x))\n",
    "    ch = as.character(seqnames(x)[1])\n",
    "    x = ranges(x)\n",
    "    height <- 1\n",
    "    if (is(xlim, \"Ranges\")) \n",
    "        xlim <- c(min(start(xlim)), max(end(xlim)))\n",
    "    bins <- disjointBins(IRanges(start(x), end(x) + 1)) \n",
    "    plot.new()\n",
    "    plot.window(xlim = xlimits, c(0, max(bins) * (height + sep)))\n",
    "    ybottom <- bins * (sep + height) - height\n",
    "    rect(start(x) - 0.5, ybottom, end(x) + 0.5, ybottom + height, \n",
    "        col = col, ...)\n",
    "    title(main, xlab = ch) \n",
    "    axis(1)\n",
    "}\n",
    "    par(mfrow=c(4,1), mar=c(4,2,2,2))\n",
    "    library(GenomicRanges)\n",
    "gir = GRanges(seqnames=\"chr1\", ir, strand=c(rep(\"+\", 4), rep(\"-\",3)))\n",
    "plotGRanges(gir, xlim=c(0,60))\n",
    "plotGRanges(resize(gir,1), xlim=c(0,60),col=\"green\")\n",
    "plotGRanges(flank(gir,3), xlim=c(0,60), col=\"purple\")\n",
    "plotGRanges(flank(gir,2,start=FALSE), xlim=c(0,60), col=\"brown\")\n"
   ]
  },
  {
   "cell_type": "code",
   "execution_count": null,
   "metadata": {
    "collapsed": true
   },
   "outputs": [],
   "source": []
  }
 ],
 "metadata": {
  "kernelspec": {
   "display_name": "R",
   "language": "R",
   "name": "ir"
  },
  "language_info": {
   "codemirror_mode": "r",
   "file_extension": ".r",
   "mimetype": "text/x-r-source",
   "name": "R",
   "pygments_lexer": "r",
   "version": "3.5.0"
  }
 },
 "nbformat": 4,
 "nbformat_minor": 2
}
