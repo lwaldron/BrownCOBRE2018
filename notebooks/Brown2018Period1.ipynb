{
 "cells": [
  {
   "cell_type": "markdown",
   "metadata": {},
   "source": [
    "# Brown Univ. Introduction to Bioconductor 2018, Period 1\n",
    "\n",
    "## Motivations and core values\n",
    "\n",
    "### Why R?\n",
    "\n",
    "Bioconductor is based on R. Three key reasons for this are:\n",
    "\n",
    "- R is used by many statisticians and biostatisticians to create algorithms that advance our ability to understand complex experimental data.\n",
    "\n",
    "- R is highly interoperable, and fosters reuse of software components written in other languages.\n",
    "\n",
    "- R is portable to the key operating systems running on commodity computing equipment (Linux, MacOSX, Windows) and can be used immediately by beginners with access to any of these platforms.\n",
    "\n",
    "Other languages are starting to share these features.  However the large software ecosystems of R and Bioconductor will continue to play a role even as new languages and environments for genome-scale analysis start to take shape.\n",
    "\n",
    "### What is R?\n",
    "\n",
    "We'll see more clearly what R is as we work with it.  Two features that merit attention are its approach to *functional* and *object-oriented* programming.\n",
    "\n",
    "Before we get into these programming concepts, let's get clear on the approach we are taking to working with R.\n",
    "\n",
    "- We are using R *interactively* in the Jupyter notebook system for scientific computing\n",
    "- Our interaction with R is defined in notebook \"cells\"\n",
    "- We can put some code in a cell and ask the notebook server to execute the code\n",
    "- If there's an error or we want to modify the cell for some reason, we just change the content of the cell and request a new execution\n",
    "\n",
    "The next two cells introduce a simple R function and then pose some questions that you can answer by modifying the second cell.\n"
   ]
  },
  {
   "cell_type": "code",
   "execution_count": null,
   "metadata": {},
   "outputs": [],
   "source": [
    "# functional programming example\n",
    "cube = function(x) x^3\n",
    "cube(4)"
   ]
  },
  {
   "cell_type": "code",
   "execution_count": null,
   "metadata": {
    "collapsed": true
   },
   "outputs": [],
   "source": [
    "# Two exercises:\n",
    "# 1) what is the cube of 7?\n",
    "# 2) given the cube function, what is a concise way of defining a function that computes \n",
    "# the ninth power of its argument, without invoking the exponential directly?"
   ]
  },
  {
   "cell_type": "code",
   "execution_count": null,
   "metadata": {
    "collapsed": true
   },
   "outputs": [],
   "source": [
    "# towards object-oriented programming -- here we'll just use the concept"
   ]
  },
  {
   "cell_type": "code",
   "execution_count": null,
   "metadata": {},
   "outputs": [],
   "source": [
    "library(Homo.sapiens)\n",
    "methods(class=class(Homo.sapiens))"
   ]
  },
  {
   "cell_type": "code",
   "execution_count": null,
   "metadata": {},
   "outputs": [],
   "source": [
    "promoters(Homo.sapiens)"
   ]
  },
  {
   "cell_type": "code",
   "execution_count": null,
   "metadata": {
    "collapsed": true
   },
   "outputs": [],
   "source": [
    "# Exercise: Think of the biological definition of 'promoter'.  Does this suggest additional \n",
    "# parameters to the 'promoters' method?"
   ]
  },
  {
   "cell_type": "markdown",
   "metadata": {},
   "source": [
    "### Upshots\n",
    "\n",
    "We've seen two important facets of the language/ecosystem\n",
    "\n",
    "- improvised software creation through user-defined functions\n",
    "- acquisition of complex, biologically meaningful 'objects' and 'methods' with library()\n",
    "\n",
    "Use of library() is essential to acquire access to functions and documentation on library components.  This can be a stumbling block if you remember the name of a function of interest, but not the package in which it is defined.\n",
    "    \n",
    "Another feature worth bearing in mind: all computations in R proceed by evaluation of functions.  You may write scripts, but they will be sequences of function calls.\n",
    "\n",
    "Finally: There are many ways of using software in R.  \n",
    "\n",
    "- write scripts and execute them at a command line using Rscript or unix-like pipes.\n",
    "- use a bespoke interactive development environment like Rstudio\n",
    "- use R as a command-line interpreter\n",
    "- use jupyter notebooks\n",
    "- use R through online \"apps\", often composed using the shiny package.\n",
    "    \n",
    "We'll explore some of these alternate approaches as we proceed.\n",
    "\n",
    "## Putting it all together\n",
    "\n",
    "Bioconductor’s core developer group works hard to develop data structures that allow users to work conveniently with genomes and genome-scale data. Structures are devised to support the main phases of experimentation in genome scale biology:\n",
    "\n",
    "- Parse large-scale assay data as produced by microarray or sequencer flow-cell scanners.\n",
    "- Preprocess the (relatively) raw data to support reliable statistical interpretation.\n",
    "- Combine assay quantifications with sample-level data to test hypotheses about relationships between molecular processes and organism-level characteristics such as growth, disease state.\n",
    "- In this course we will review the objects and functions that you can use to perform these and related tasks in your own research."
   ]
  },
  {
   "cell_type": "markdown",
   "metadata": {},
   "source": [
    "## Bioconductor installation and documentation\n",
    "\n",
    "### Installation support\n",
    "\n",
    "Once you have R you can obtain a utility for adding Bioconductor packages with\n",
    "\n",
    "```\n",
    "source(\"http://www.bioconductor.org/biocLite.R\")\n",
    "```\n",
    "\n",
    "This is sensitive to the version of R that you are using.  It installs and loads the BiocInstaller\n",
    "package.  Let's illustrate its use."
   ]
  },
  {
   "cell_type": "code",
   "execution_count": null,
   "metadata": {},
   "outputs": [],
   "source": [
    "library(BiocInstaller)\n",
    "biocLite(\"genomicsclass/GSE5859Subset\")  # this will be used later"
   ]
  },
  {
   "cell_type": "markdown",
   "metadata": {},
   "source": [
    "### Documentation\n",
    "\n",
    "For novices, large-scale help resources are always important.  \n",
    "\n",
    "- Bioconductor's __[main portal](http://www.bioconductor.org)__ has sections devoted to installation, learning, using, and developing.  There is a twitter feed for those who need to keep close by.\n",
    "- The __[support site](http://support.bioconductor.org)__ is active and friendly\n",
    "- R has extensive help resources at __[CRAN](http://cran.r-project.org)__ and within any instance "
   ]
  },
  {
   "cell_type": "code",
   "execution_count": null,
   "metadata": {
    "collapsed": true
   },
   "outputs": [],
   "source": [
    "# help.start() -- may not work with notebooks but very useful in Rstudio or at command line"
   ]
  },
  {
   "cell_type": "markdown",
   "metadata": {},
   "source": [
    "Documentation on any base or Bioconductor function can be found using the ?-operator "
   ]
  },
  {
   "cell_type": "code",
   "execution_count": 15,
   "metadata": {
    "collapsed": true
   },
   "outputs": [],
   "source": [
    "?mean # use ?? to find documentation on functions in all installed packages"
   ]
  },
  {
   "cell_type": "markdown",
   "metadata": {},
   "source": [
    "All good manual pages include executable examples"
   ]
  },
  {
   "cell_type": "code",
   "execution_count": null,
   "metadata": {},
   "outputs": [],
   "source": [
    "example(lm)"
   ]
  },
  {
   "cell_type": "markdown",
   "metadata": {},
   "source": [
    "We can get 'package level' help -- a concise description and list of documented functions."
   ]
  },
  {
   "cell_type": "code",
   "execution_count": null,
   "metadata": {},
   "outputs": [],
   "source": [
    "help(package=\"genefilter\", help_type=\"html\") # generates embedded view of DESCRIPTION and function index"
   ]
  },
  {
   "cell_type": "markdown",
   "metadata": {},
   "source": [
    "Large-scale documentation that narrates and illustrates package (as opposed to function) capabilities is provided in vignettes."
   ]
  },
  {
   "cell_type": "code",
   "execution_count": null,
   "metadata": {
    "collapsed": true
   },
   "outputs": [],
   "source": [
    "vignette()"
   ]
  },
  {
   "cell_type": "code",
   "execution_count": null,
   "metadata": {},
   "outputs": [],
   "source": [
    "vignette(\"create_objects\", package=\"pasilla\")"
   ]
  },
  {
   "cell_type": "markdown",
   "metadata": {},
   "source": [
    "In summary: documentation for Bioconductor and R utilities is diverse but discovery is supported in many ways.  RTFM."
   ]
  },
  {
   "cell_type": "markdown",
   "metadata": {},
   "source": [
    "## Data structure and management for genome-scale experiments\n",
    "\n",
    "Data management is often regarded as a specialized and tedious dimension of scientific research. \n",
    "\n",
    "- Because failures of data management are extremely costly in terms of resources and reputation, highly reliable and efficient methods are essential. \n",
    "- Customary lab science practice of maintaining data in spreadsheets is regarded as risky. We want to add value to data by making it easier to follow reliable data management practices.\n",
    "\n",
    "In Bioconductor, principles that guide software development are applied in data management strategy. \n",
    "\n",
    "- High value accrues to data structures that are modular and extensible. \n",
    "- Packaging and version control protocols apply to data class definitions. \n",
    "- We will motivate and illustrate these ideas by \n",
    "    - giving examples of transforming spreadsheets to semantically rich objects, \n",
    "    - working with the NCBI GEO archive, \n",
    "    - dealing with families of BAM and BED files, and (optionally)\n",
    "    - using external storage to foster coherent interfaces to large multiomic archives like TCGA."
   ]
  },
  {
   "cell_type": "markdown",
   "metadata": {},
   "source": [
    "### Coordinating information from multiple tables\n",
    "\n",
    "With the GSE5859Subset package, we illustrate a \"natural\" approach to collecting microarray data and its annotation."
   ]
  },
  {
   "cell_type": "code",
   "execution_count": null,
   "metadata": {
    "collapsed": true
   },
   "outputs": [],
   "source": [
    "library(GSE5859Subset)\n",
    "data(GSE5859Subset) # will 'create' geneExpression, sampleInfo, geneAnnotation"
   ]
  },
  {
   "cell_type": "code",
   "execution_count": 22,
   "metadata": {},
   "outputs": [
    {
     "data": {
      "text/html": [
       "<ol class=list-inline>\n",
       "\t<li>8793</li>\n",
       "\t<li>24</li>\n",
       "</ol>\n"
      ],
      "text/latex": [
       "\\begin{enumerate*}\n",
       "\\item 8793\n",
       "\\item 24\n",
       "\\end{enumerate*}\n"
      ],
      "text/markdown": [
       "1. 8793\n",
       "2. 24\n",
       "\n",
       "\n"
      ],
      "text/plain": [
       "[1] 8793   24"
      ]
     },
     "metadata": {},
     "output_type": "display_data"
    }
   ],
   "source": [
    "dim(geneExpression)"
   ]
  },
  {
   "cell_type": "code",
   "execution_count": 23,
   "metadata": {},
   "outputs": [
    {
     "data": {
      "text/html": [
       "<table>\n",
       "<thead><tr><th></th><th scope=col>GSM136508.CEL.gz</th><th scope=col>GSM136530.CEL.gz</th><th scope=col>GSM136517.CEL.gz</th><th scope=col>GSM136576.CEL.gz</th><th scope=col>GSM136566.CEL.gz</th></tr></thead>\n",
       "<tbody>\n",
       "\t<tr><th scope=row>1007_s_at</th><td>6.543954</td><td>6.401470</td><td>6.298943</td><td>6.837899</td><td>6.470689</td></tr>\n",
       "\t<tr><th scope=row>1053_at</th><td>7.546708</td><td>7.263547</td><td>7.201699</td><td>7.052761</td><td>6.980207</td></tr>\n",
       "\t<tr><th scope=row>117_at</th><td>5.402622</td><td>5.050546</td><td>5.024917</td><td>5.304313</td><td>5.214149</td></tr>\n",
       "\t<tr><th scope=row>121_at</th><td>7.892544</td><td>7.707754</td><td>7.461886</td><td>7.558130</td><td>7.819013</td></tr>\n",
       "\t<tr><th scope=row>1255_g_at</th><td>3.242779</td><td>3.222804</td><td>3.185605</td><td>3.195363</td><td>3.251915</td></tr>\n",
       "\t<tr><th scope=row>1294_at</th><td>7.531754</td><td>7.090270</td><td>7.466018</td><td>7.122145</td><td>7.058973</td></tr>\n",
       "</tbody>\n",
       "</table>\n"
      ],
      "text/latex": [
       "\\begin{tabular}{r|lllll}\n",
       "  & GSM136508.CEL.gz & GSM136530.CEL.gz & GSM136517.CEL.gz & GSM136576.CEL.gz & GSM136566.CEL.gz\\\\\n",
       "\\hline\n",
       "\t1007\\_s\\_at & 6.543954 & 6.401470 & 6.298943 & 6.837899 & 6.470689\\\\\n",
       "\t1053\\_at & 7.546708 & 7.263547 & 7.201699 & 7.052761 & 6.980207\\\\\n",
       "\t117\\_at & 5.402622 & 5.050546 & 5.024917 & 5.304313 & 5.214149\\\\\n",
       "\t121\\_at & 7.892544 & 7.707754 & 7.461886 & 7.558130 & 7.819013\\\\\n",
       "\t1255\\_g\\_at & 3.242779 & 3.222804 & 3.185605 & 3.195363 & 3.251915\\\\\n",
       "\t1294\\_at & 7.531754 & 7.090270 & 7.466018 & 7.122145 & 7.058973\\\\\n",
       "\\end{tabular}\n"
      ],
      "text/markdown": [
       "\n",
       "| <!--/--> | GSM136508.CEL.gz | GSM136530.CEL.gz | GSM136517.CEL.gz | GSM136576.CEL.gz | GSM136566.CEL.gz | \n",
       "|---|---|---|---|---|---|\n",
       "| 1007_s_at | 6.543954 | 6.401470 | 6.298943 | 6.837899 | 6.470689 | \n",
       "| 1053_at | 7.546708 | 7.263547 | 7.201699 | 7.052761 | 6.980207 | \n",
       "| 117_at | 5.402622 | 5.050546 | 5.024917 | 5.304313 | 5.214149 | \n",
       "| 121_at | 7.892544 | 7.707754 | 7.461886 | 7.558130 | 7.819013 | \n",
       "| 1255_g_at | 3.242779 | 3.222804 | 3.185605 | 3.195363 | 3.251915 | \n",
       "| 1294_at | 7.531754 | 7.090270 | 7.466018 | 7.122145 | 7.058973 | \n",
       "\n",
       "\n"
      ],
      "text/plain": [
       "          GSM136508.CEL.gz GSM136530.CEL.gz GSM136517.CEL.gz GSM136576.CEL.gz\n",
       "1007_s_at 6.543954         6.401470         6.298943         6.837899        \n",
       "1053_at   7.546708         7.263547         7.201699         7.052761        \n",
       "117_at    5.402622         5.050546         5.024917         5.304313        \n",
       "121_at    7.892544         7.707754         7.461886         7.558130        \n",
       "1255_g_at 3.242779         3.222804         3.185605         3.195363        \n",
       "1294_at   7.531754         7.090270         7.466018         7.122145        \n",
       "          GSM136566.CEL.gz\n",
       "1007_s_at 6.470689        \n",
       "1053_at   6.980207        \n",
       "117_at    5.214149        \n",
       "121_at    7.819013        \n",
       "1255_g_at 3.251915        \n",
       "1294_at   7.058973        "
      ]
     },
     "metadata": {},
     "output_type": "display_data"
    }
   ],
   "source": [
    "head(geneExpression[,1:5])"
   ]
  },
  {
   "cell_type": "code",
   "execution_count": 25,
   "metadata": {},
   "outputs": [
    {
     "data": {
      "text/html": [
       "<table>\n",
       "<thead><tr><th></th><th scope=col>ethnicity</th><th scope=col>date</th><th scope=col>filename</th><th scope=col>group</th></tr></thead>\n",
       "<tbody>\n",
       "\t<tr><th scope=row>107</th><td>ASN             </td><td>2005-06-23      </td><td>GSM136508.CEL.gz</td><td>1               </td></tr>\n",
       "\t<tr><th scope=row>122</th><td>ASN             </td><td>2005-06-27      </td><td>GSM136530.CEL.gz</td><td>1               </td></tr>\n",
       "\t<tr><th scope=row>113</th><td>ASN             </td><td>2005-06-27      </td><td>GSM136517.CEL.gz</td><td>1               </td></tr>\n",
       "\t<tr><th scope=row>163</th><td>ASN             </td><td>2005-10-28      </td><td>GSM136576.CEL.gz</td><td>1               </td></tr>\n",
       "\t<tr><th scope=row>153</th><td>ASN             </td><td>2005-10-07      </td><td>GSM136566.CEL.gz</td><td>1               </td></tr>\n",
       "\t<tr><th scope=row>161</th><td>ASN             </td><td>2005-10-07      </td><td>GSM136574.CEL.gz</td><td>1               </td></tr>\n",
       "</tbody>\n",
       "</table>\n"
      ],
      "text/latex": [
       "\\begin{tabular}{r|llll}\n",
       "  & ethnicity & date & filename & group\\\\\n",
       "\\hline\n",
       "\t107 & ASN              & 2005-06-23       & GSM136508.CEL.gz & 1               \\\\\n",
       "\t122 & ASN              & 2005-06-27       & GSM136530.CEL.gz & 1               \\\\\n",
       "\t113 & ASN              & 2005-06-27       & GSM136517.CEL.gz & 1               \\\\\n",
       "\t163 & ASN              & 2005-10-28       & GSM136576.CEL.gz & 1               \\\\\n",
       "\t153 & ASN              & 2005-10-07       & GSM136566.CEL.gz & 1               \\\\\n",
       "\t161 & ASN              & 2005-10-07       & GSM136574.CEL.gz & 1               \\\\\n",
       "\\end{tabular}\n"
      ],
      "text/markdown": [
       "\n",
       "| <!--/--> | ethnicity | date | filename | group | \n",
       "|---|---|---|---|---|---|\n",
       "| 107 | ASN              | 2005-06-23       | GSM136508.CEL.gz | 1                | \n",
       "| 122 | ASN              | 2005-06-27       | GSM136530.CEL.gz | 1                | \n",
       "| 113 | ASN              | 2005-06-27       | GSM136517.CEL.gz | 1                | \n",
       "| 163 | ASN              | 2005-10-28       | GSM136576.CEL.gz | 1                | \n",
       "| 153 | ASN              | 2005-10-07       | GSM136566.CEL.gz | 1                | \n",
       "| 161 | ASN              | 2005-10-07       | GSM136574.CEL.gz | 1                | \n",
       "\n",
       "\n"
      ],
      "text/plain": [
       "    ethnicity date       filename         group\n",
       "107 ASN       2005-06-23 GSM136508.CEL.gz 1    \n",
       "122 ASN       2005-06-27 GSM136530.CEL.gz 1    \n",
       "113 ASN       2005-06-27 GSM136517.CEL.gz 1    \n",
       "163 ASN       2005-10-28 GSM136576.CEL.gz 1    \n",
       "153 ASN       2005-10-07 GSM136566.CEL.gz 1    \n",
       "161 ASN       2005-10-07 GSM136574.CEL.gz 1    "
      ]
     },
     "metadata": {},
     "output_type": "display_data"
    }
   ],
   "source": [
    "head(sampleInfo)"
   ]
  },
  {
   "cell_type": "code",
   "execution_count": 26,
   "metadata": {},
   "outputs": [
    {
     "data": {
      "text/html": [
       "<table>\n",
       "<thead><tr><th></th><th scope=col>PROBEID</th><th scope=col>CHR</th><th scope=col>CHRLOC</th><th scope=col>SYMBOL</th></tr></thead>\n",
       "<tbody>\n",
       "\t<tr><th scope=row>1</th><td>1007_s_at </td><td>chr6      </td><td>  30852327</td><td>DDR1      </td></tr>\n",
       "\t<tr><th scope=row>30</th><td>1053_at   </td><td>chr7      </td><td> -73645832</td><td>RFC2      </td></tr>\n",
       "\t<tr><th scope=row>31</th><td>117_at    </td><td>chr1      </td><td> 161494036</td><td>HSPA6     </td></tr>\n",
       "\t<tr><th scope=row>32</th><td>121_at    </td><td>chr2      </td><td>-113973574</td><td>PAX8      </td></tr>\n",
       "\t<tr><th scope=row>33</th><td>1255_g_at </td><td>chr6      </td><td>  42123144</td><td>GUCA1A    </td></tr>\n",
       "\t<tr><th scope=row>34</th><td>1294_at   </td><td>chr3      </td><td> -49842638</td><td>UBA7      </td></tr>\n",
       "</tbody>\n",
       "</table>\n"
      ],
      "text/latex": [
       "\\begin{tabular}{r|llll}\n",
       "  & PROBEID & CHR & CHRLOC & SYMBOL\\\\\n",
       "\\hline\n",
       "\t1 & 1007\\_s\\_at & chr6          &   30852327    & DDR1         \\\\\n",
       "\t30 & 1053\\_at   & chr7        &  -73645832  & RFC2       \\\\\n",
       "\t31 & 117\\_at    & chr1        &  161494036  & HSPA6      \\\\\n",
       "\t32 & 121\\_at    & chr2        & -113973574  & PAX8       \\\\\n",
       "\t33 & 1255\\_g\\_at & chr6          &   42123144    & GUCA1A       \\\\\n",
       "\t34 & 1294\\_at   & chr3        &  -49842638  & UBA7       \\\\\n",
       "\\end{tabular}\n"
      ],
      "text/markdown": [
       "\n",
       "| <!--/--> | PROBEID | CHR | CHRLOC | SYMBOL | \n",
       "|---|---|---|---|---|---|\n",
       "| 1 | 1007_s_at  | chr6       |   30852327 | DDR1       | \n",
       "| 30 | 1053_at    | chr7       |  -73645832 | RFC2       | \n",
       "| 31 | 117_at     | chr1       |  161494036 | HSPA6      | \n",
       "| 32 | 121_at     | chr2       | -113973574 | PAX8       | \n",
       "| 33 | 1255_g_at  | chr6       |   42123144 | GUCA1A     | \n",
       "| 34 | 1294_at    | chr3       |  -49842638 | UBA7       | \n",
       "\n",
       "\n"
      ],
      "text/plain": [
       "   PROBEID   CHR  CHRLOC     SYMBOL\n",
       "1  1007_s_at chr6   30852327 DDR1  \n",
       "30 1053_at   chr7  -73645832 RFC2  \n",
       "31 117_at    chr1  161494036 HSPA6 \n",
       "32 121_at    chr2 -113973574 PAX8  \n",
       "33 1255_g_at chr6   42123144 GUCA1A\n",
       "34 1294_at   chr3  -49842638 UBA7  "
      ]
     },
     "metadata": {},
     "output_type": "display_data"
    }
   ],
   "source": [
    "head(geneAnnotation)"
   ]
  },
  {
   "cell_type": "markdown",
   "metadata": {},
   "source": [
    "Here we have three objects in R that are conceptually linked.  We notice that `sampleInfo` has an ethnicity token and that the column names for the `geneExpression` table are similar in format to the `filename` field of `sampleInfo`.  Let's check that they in fact agree:"
   ]
  },
  {
   "cell_type": "code",
   "execution_count": 27,
   "metadata": {},
   "outputs": [
    {
     "data": {
      "text/html": [
       "TRUE"
      ],
      "text/latex": [
       "TRUE"
      ],
      "text/markdown": [
       "TRUE"
      ],
      "text/plain": [
       "[1] TRUE"
      ]
     },
     "metadata": {},
     "output_type": "display_data"
    }
   ],
   "source": [
    "all(sampleInfo$filename == colnames(geneExpression))"
   ]
  },
  {
   "cell_type": "code",
   "execution_count": 29,
   "metadata": {},
   "outputs": [
    {
     "data": {
      "text/plain": [
       "\n",
       " 0  1 \n",
       "12 12 "
      ]
     },
     "metadata": {},
     "output_type": "display_data"
    }
   ],
   "source": [
    "table(sampleInfo$group)"
   ]
  },
  {
   "cell_type": "markdown",
   "metadata": {},
   "source": []
  }
 ],
 "metadata": {
  "kernelspec": {
   "display_name": "R",
   "language": "R",
   "name": "ir"
  },
  "language_info": {
   "codemirror_mode": "r",
   "file_extension": ".r",
   "mimetype": "text/x-r-source",
   "name": "R",
   "pygments_lexer": "r",
   "version": "3.5.0"
  }
 },
 "nbformat": 4,
 "nbformat_minor": 2
}
