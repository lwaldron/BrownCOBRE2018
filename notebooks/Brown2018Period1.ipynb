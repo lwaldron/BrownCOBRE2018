{
 "cells": [
  {
   "cell_type": "markdown",
   "metadata": {},
   "source": [
    "# Brown Univ. Introduction to Bioconductor 2018, Period 1\n",
    "\n",
    "## Motivations and core values"
   ]
  },
  {
   "cell_type": "code",
   "execution_count": 7,
   "metadata": {
    "collapsed": true
   },
   "outputs": [],
   "source": [
    "# a quick setup to avoid extraneous messages\n",
    "suppressPackageStartupMessages({\n",
    "    library(Homo.sapiens)\n",
    "    library(GEOquery)\n",
    "    library(GSE5859Subset)\n",
    "    library(Biobase)\n",
    "})"
   ]
  },
  {
   "cell_type": "markdown",
   "metadata": {},
   "source": [
    "### Why R?\n",
    "\n",
    "Bioconductor is based on R. Three key reasons for this are:\n",
    "\n",
    "- R is used by many statisticians and biostatisticians to create algorithms that advance our ability to understand complex experimental data.\n",
    "\n",
    "- R is highly interoperable, and fosters reuse of software components written in other languages.\n",
    "\n",
    "- R is portable to the key operating systems running on commodity computing equipment (Linux, MacOSX, Windows) and can be used immediately by beginners with access to any of these platforms.\n",
    "\n",
    "Other languages are starting to share these features.  However the large software ecosystems of R and Bioconductor will continue to play a role even as new languages and environments for genome-scale analysis start to take shape.\n",
    "\n",
    "### What is R?\n",
    "\n",
    "We'll see more clearly what R is as we work with it.  Two features that merit attention are its approach to *functional* and *object-oriented* programming.\n",
    "\n",
    "Before we get into these programming concepts, let's get clear on the approach we are taking to working with R.\n",
    "\n",
    "- We are using R *interactively* in the Jupyter notebook system for scientific computing\n",
    "- Our interaction with R is defined in notebook \"cells\"\n",
    "- We can put some code in a cell and ask the notebook server to execute the code\n",
    "- If there's an error or we want to modify the cell for some reason, we just change the content of the cell and request a new execution"
   ]
  },
  {
   "cell_type": "markdown",
   "metadata": {},
   "source": [
    "#### Defining and using functions\n",
    "\n",
    "The next two cells introduce a simple R function and then pose some questions that you can answer by modifying the second cell."
   ]
  },
  {
   "cell_type": "code",
   "execution_count": 1,
   "metadata": {},
   "outputs": [
    {
     "data": {
      "text/html": [
       "64"
      ],
      "text/latex": [
       "64"
      ],
      "text/markdown": [
       "64"
      ],
      "text/plain": [
       "[1] 64"
      ]
     },
     "metadata": {},
     "output_type": "display_data"
    }
   ],
   "source": [
    "# functional programming example\n",
    "cube = function(x) x^3\n",
    "cube(4)"
   ]
  },
  {
   "cell_type": "markdown",
   "metadata": {},
   "source": [
    "#### Exercises"
   ]
  },
  {
   "cell_type": "markdown",
   "metadata": {},
   "source": [
    "Ex1. What is the cube of 7?  Use the `cube` function"
   ]
  },
  {
   "cell_type": "code",
   "execution_count": 2,
   "metadata": {},
   "outputs": [
    {
     "data": {
      "text/html": [
       "343"
      ],
      "text/latex": [
       "343"
      ],
      "text/markdown": [
       "343"
      ],
      "text/plain": [
       "[1] 343"
      ]
     },
     "metadata": {},
     "output_type": "display_data"
    }
   ],
   "source": [
    "cube(7)"
   ]
  },
  {
   "cell_type": "markdown",
   "metadata": {
    "collapsed": true
   },
   "source": [
    "Ex2. Given the cube function, what is a concise way of defining a function that computes \n",
    "the ninth power of its argument, without invoking the exponential directly?"
   ]
  },
  {
   "cell_type": "code",
   "execution_count": 5,
   "metadata": {},
   "outputs": [
    {
     "data": {
      "text/html": [
       "262144"
      ],
      "text/latex": [
       "262144"
      ],
      "text/markdown": [
       "262144"
      ],
      "text/plain": [
       "[1] 262144"
      ]
     },
     "metadata": {},
     "output_type": "display_data"
    },
    {
     "data": {
      "text/html": [
       "262144"
      ],
      "text/latex": [
       "262144"
      ],
      "text/markdown": [
       "262144"
      ],
      "text/plain": [
       "[1] 262144"
      ]
     },
     "metadata": {},
     "output_type": "display_data"
    }
   ],
   "source": [
    "nin = function(x) cube(cube(x))\n",
    "    nin(4)\n",
    "    4^9"
   ]
  },
  {
   "cell_type": "markdown",
   "metadata": {},
   "source": [
    "To review: \n",
    "- `g = function(x, y, ...) { --- }` is R syntax to define a new function named \\\"g\\\" accepting a series of arguments.  \n",
    "- The body of the function (denoted `{ --- }`) uses the inputs and R programming to compute new values.\n",
    "- All program actions in R result from evaluating functions.\n"
   ]
  },
  {
   "cell_type": "markdown",
   "metadata": {},
   "source": [
    "### What is Bioconductor?\n",
    "\n",
    "While Bioconductor is built on R, it is in some ways distinct:\n",
    "\n",
    "| R                                                                                                                                               | Bioconductor                                                                                                                |\n",
    "|-------------------------------------------------------------------------------------------------------------------------------------------------|-----------------------------------------------------------------------------------------------------------------------------|\n",
    "| a general-purpose programming for statistical computing and visualization                                                                       | R data structures, methods, and packages for Bioinformatics                                                                                                   |\n",
    "| a decentralized open-source project                                                                                                             | led by a Core Team of full-time developers                                                                                  |\n",
    "| provides methods primarily acting on generic data structures like `numeric`, `matrix`, `data.frame`, and \"tidyverse\" alternatives like `tibble` | provides methods primarily acting on integrative data structures for -omics like `GRanges` and `SummarizedExperiment`       |\n",
    "| is enhanced by the CRAN,ecosystem of >10K add-packages spanning all areas of science,,economics, computing, etc                                 | an ecosystem of >1,200 add-on packages                                                         |\n",
    "| CRAN enforces basic package requirements of man pages,and clean machine checks                                                                  | Bioconductor enforces additional package requirements of vignettes, re-use of core Bioconductor data structures, unit tests |"
   ]
  },
  {
   "cell_type": "markdown",
   "metadata": {},
   "source": [
    "#### Working with objects\n",
    "\n",
    "Genome-scale experiments and annotations are complex.  The discipline of object-oriented programming became\n",
    "popular in the 1990s as a way of managing program complexity.  Briefly, we think of a class of objects -- say 'organism'.  Methods that apply to directly to instances of the 'organism' class include 'genes', 'transcripts', 'promoters'.  \n",
    "\n",
    "This concept is implemented fairly directly in Bioconductor, but there are gaps in certain places.  Let's\n",
    "just explore to establish a little familiarity.  We'll attach the Homo.sapiens library, which gives us access to an \n",
    "object called `Homo.sapiens`, which answers to a certain collection of methods.\n",
    "\n",
    " \n",
    "\n"
   ]
  },
  {
   "cell_type": "code",
   "execution_count": 8,
   "metadata": {},
   "outputs": [
    {
     "data": {
      "text/plain": [
       " [1] asBED                 asGFF                 cds                  \n",
       " [4] cdsBy                 coerce<-              columns              \n",
       " [7] dbconn                dbfile                disjointExons        \n",
       "[10] distance              exons                 exonsBy              \n",
       "[13] extractUpstreamSeqs   fiveUTRsByTranscript  genes                \n",
       "[16] getTxDbIfAvailable    intronsByTranscript   isActiveSeq          \n",
       "[19] isActiveSeq<-         keys                  keytypes             \n",
       "[22] mapIds                mapToTranscripts      metadata             \n",
       "[25] microRNAs             promoters             resources            \n",
       "[28] select                selectByRanges        selectRangesById     \n",
       "[31] seqinfo               show                  taxonomyId           \n",
       "[34] threeUTRsByTranscript transcripts           transcriptsBy        \n",
       "[37] tRNAs                 TxDb                  TxDb<-               \n",
       "see '?methods' for accessing help and source code"
      ]
     },
     "metadata": {},
     "output_type": "display_data"
    }
   ],
   "source": [
    "library(Homo.sapiens)\n",
    "methods(class=class(Homo.sapiens))"
   ]
  },
  {
   "cell_type": "code",
   "execution_count": 9,
   "metadata": {},
   "outputs": [
    {
     "data": {
      "text/plain": [
       "GRanges object with 23056 ranges and 1 metadata column:\n",
       "        seqnames                 ranges strand |       GENEID\n",
       "           <Rle>              <IRanges>  <Rle> | <FactorList>\n",
       "      1    chr19 [ 58858172,  58874214]      - |            1\n",
       "     10     chr8 [ 18248755,  18258723]      + |           10\n",
       "    100    chr20 [ 43248163,  43280376]      - |          100\n",
       "   1000    chr18 [ 25530930,  25757445]      - |         1000\n",
       "  10000     chr1 [243651535, 244006886]      - |        10000\n",
       "    ...      ...                    ...    ... .          ...\n",
       "   9991     chr9 [114979995, 115095944]      - |         9991\n",
       "   9992    chr21 [ 35736323,  35743440]      + |         9992\n",
       "   9993    chr22 [ 19023795,  19109967]      - |         9993\n",
       "   9994     chr6 [ 90539619,  90584155]      + |         9994\n",
       "   9997    chr22 [ 50961997,  50964905]      - |         9997\n",
       "  -------\n",
       "  seqinfo: 93 sequences (1 circular) from hg19 genome"
      ]
     },
     "metadata": {},
     "output_type": "display_data"
    }
   ],
   "source": [
    "genes(Homo.sapiens)"
   ]
  },
  {
   "cell_type": "markdown",
   "metadata": {},
   "source": [
    "One benefit of the object-oriented discipline is that the same methods apply for different species -- once \n",
    "you have learned how to work with Homo.sapiens, the same tools apply for Mus.musculus, Rattus.norvegicus and \n",
    "so on."
   ]
  },
  {
   "cell_type": "markdown",
   "metadata": {},
   "source": [
    "The existence of a `promoters` method is curious.  This is a very complicated concept.  What do you get when you apply it?"
   ]
  },
  {
   "cell_type": "code",
   "execution_count": 10,
   "metadata": {},
   "outputs": [
    {
     "data": {
      "text/plain": [
       "GRanges object with 82960 ranges and 2 metadata columns:\n",
       "                seqnames           ranges strand |     tx_id     tx_name\n",
       "                   <Rle>        <IRanges>  <Rle> | <integer> <character>\n",
       "      [1]           chr1 [  9874,  12073]      + |         1  uc001aaa.3\n",
       "      [2]           chr1 [  9874,  12073]      + |         2  uc010nxq.1\n",
       "      [3]           chr1 [  9874,  12073]      + |         3  uc010nxr.1\n",
       "      [4]           chr1 [ 67091,  69290]      + |         4  uc001aal.1\n",
       "      [5]           chr1 [319084, 321283]      + |         5  uc001aaq.2\n",
       "      ...            ...              ...    ... .       ...         ...\n",
       "  [82956] chrUn_gl000237   [ 2487,  4686]      - |     82956  uc011mgu.1\n",
       "  [82957] chrUn_gl000241   [36676, 38875]      - |     82957  uc011mgv.2\n",
       "  [82958] chrUn_gl000243   [ 9501, 11700]      + |     82958  uc011mgw.1\n",
       "  [82959] chrUn_gl000243   [11608, 13807]      + |     82959  uc022brq.1\n",
       "  [82960] chrUn_gl000247   [ 5617,  7816]      - |     82960  uc022brr.1\n",
       "  -------\n",
       "  seqinfo: 93 sequences (1 circular) from hg19 genome"
      ]
     },
     "metadata": {},
     "output_type": "display_data"
    }
   ],
   "source": [
    "promoters(Homo.sapiens)"
   ]
  },
  {
   "cell_type": "markdown",
   "metadata": {},
   "source": [
    "#### Exercise"
   ]
  },
  {
   "cell_type": "code",
   "execution_count": 11,
   "metadata": {
    "collapsed": true
   },
   "outputs": [],
   "source": [
    "?promoters"
   ]
  },
  {
   "cell_type": "markdown",
   "metadata": {
    "collapsed": true
   },
   "source": [
    "Ex3. Think of the biological definition of 'promoter'.  Does this suggest additional \n",
    "parameters to the 'promoters' method?"
   ]
  },
  {
   "cell_type": "markdown",
   "metadata": {},
   "source": [
    "### Upshots\n",
    "\n",
    "We've seen three important facets of the language/ecosystem\n",
    "\n",
    "- improvised software creation through user-defined functions\n",
    "- high-level concepts can be expressed as methods applicable to objects\n",
    "- acquisition of complex, biologically meaningful 'objects' and 'methods' with library()\n",
    "\n",
    "Use of library() is essential to acquire access to functions and documentation on library components.  This can be a stumbling block if you remember the name of a function of interest, but not the package in which it is defined.\n",
    "    \n",
    "Another feature worth bearing in mind: all computations in R proceed by evaluation of functions.  You may write scripts, but they will be sequences of function calls.\n",
    "\n",
    "Finally: There are many ways of using software in R.  \n",
    "\n",
    "- write scripts and execute them at a command line using Rscript or unix-like pipes.\n",
    "- use a bespoke interactive development environment like Rstudio\n",
    "- use R as a command-line interpreter\n",
    "- use jupyter notebooks\n",
    "- use R through online \"apps\", often composed using the shiny package.\n",
    "    \n",
    "We'll explore some of these alternate approaches as we proceed.\n",
    "\n",
    "## Putting it all together\n",
    "\n",
    "Bioconductor’s core developer group works hard to develop data structures that allow users to work conveniently with genomes and genome-scale data. Structures are devised to support the main phases of experimentation in genome scale biology:\n",
    "\n",
    "- Parse large-scale assay data as produced by microarray or sequencer flow-cell scanners.\n",
    "- Preprocess the (relatively) raw data to support reliable statistical interpretation.\n",
    "- Combine assay quantifications with sample-level data to test hypotheses about relationships between molecular processes and organism-level characteristics such as growth, disease state.\n",
    "- In this course we will review the objects and functions that you can use to perform these and related tasks in your own research."
   ]
  },
  {
   "cell_type": "markdown",
   "metadata": {},
   "source": [
    "## Bioconductor installation and documentation\n",
    "\n",
    "### Installation support\n",
    "\n",
    "Once you have R you can obtain a utility for adding Bioconductor packages with\n",
    "\n",
    "```\n",
    "source(\"http://www.bioconductor.org/biocLite.R\")\n",
    "```\n",
    "\n",
    "This is sensitive to the version of R that you are using.  It installs and loads the BiocInstaller\n",
    "package.  Let's illustrate its use."
   ]
  },
  {
   "cell_type": "code",
   "execution_count": 12,
   "metadata": {},
   "outputs": [
    {
     "name": "stderr",
     "output_type": "stream",
     "text": [
      "Bioconductor version 3.7 (BiocInstaller 1.29.4), ?biocLite for help\n",
      "BioC_mirror: https://bioconductor.org\n",
      "Using Bioconductor 3.7 (BiocInstaller 1.29.4), R Under development (unstable)\n",
      "  (2017-12-28 r73968).\n",
      "Installing github package(s) 'genomicsclass/GSE5859Subset'\n",
      "Skipping install of 'GSE5859Subset' from a github remote, the SHA1 (8ada5f4f) has not changed since last install.\n",
      "  Use `force = TRUE` to force installation\n"
     ]
    }
   ],
   "source": [
    "library(BiocInstaller)\n",
    "biocLite(\"genomicsclass/GSE5859Subset\", suppressUpdates=TRUE, suppressAutoUpdate=TRUE)  # this will be used later"
   ]
  },
  {
   "cell_type": "markdown",
   "metadata": {},
   "source": [
    "### Documentation\n",
    "\n",
    "For novices, large-scale help resources are always important.  \n",
    "\n",
    "- Bioconductor's __[main portal](http://www.bioconductor.org)__ has sections devoted to installation, learning, using, and developing.  There is a twitter feed for those who need to keep close by.\n",
    "- The __[support site](http://support.bioconductor.org)__ is active and friendly\n",
    "- R has extensive help resources at __[CRAN](http://cran.r-project.org)__ and within any instance "
   ]
  },
  {
   "cell_type": "code",
   "execution_count": null,
   "metadata": {
    "collapsed": true
   },
   "outputs": [],
   "source": [
    "# help.start() -- may not work with notebooks but very useful in Rstudio or at command line"
   ]
  },
  {
   "cell_type": "markdown",
   "metadata": {},
   "source": [
    "Documentation on any base or Bioconductor function can be found using the ?-operator "
   ]
  },
  {
   "cell_type": "code",
   "execution_count": null,
   "metadata": {
    "collapsed": true
   },
   "outputs": [],
   "source": [
    "?mean # use ?? to find documentation on functions in all installed packages"
   ]
  },
  {
   "cell_type": "markdown",
   "metadata": {},
   "source": [
    "All good manual pages include executable examples"
   ]
  },
  {
   "cell_type": "code",
   "execution_count": null,
   "metadata": {
    "collapsed": true
   },
   "outputs": [],
   "source": [
    "example(lm)"
   ]
  },
  {
   "cell_type": "markdown",
   "metadata": {},
   "source": [
    "We can get 'package level' help -- a concise description and list of documented functions."
   ]
  },
  {
   "cell_type": "code",
   "execution_count": null,
   "metadata": {
    "collapsed": true
   },
   "outputs": [],
   "source": [
    "help(package=\"genefilter\", help_type=\"html\") # generates embedded view of DESCRIPTION and function index"
   ]
  },
  {
   "cell_type": "markdown",
   "metadata": {},
   "source": [
    "Large-scale documentation that narrates and illustrates package (as opposed to function) capabilities is provided in vignettes."
   ]
  },
  {
   "cell_type": "code",
   "execution_count": null,
   "metadata": {
    "collapsed": true
   },
   "outputs": [],
   "source": [
    "# vignette() # This will generate an HTML page in notebook"
   ]
  },
  {
   "cell_type": "code",
   "execution_count": null,
   "metadata": {
    "collapsed": true
   },
   "outputs": [],
   "source": [
    "# vignette(\"create_objects\", package=\"pasilla\") # this will start the browser to a vignette document"
   ]
  },
  {
   "cell_type": "markdown",
   "metadata": {},
   "source": [
    "In summary: documentation for Bioconductor and R utilities is diverse but discovery is supported in many ways.  RTFM."
   ]
  },
  {
   "cell_type": "markdown",
   "metadata": {},
   "source": [
    "## Data structure and management for genome-scale experiments\n",
    "\n",
    "Data management is often regarded as a specialized and tedious dimension of scientific research. \n",
    "\n",
    "- Because failures of data management are extremely costly in terms of resources and reputation, highly reliable and efficient methods are essential. \n",
    "- Customary lab science practice of maintaining data in spreadsheets is regarded as risky. We want to add value to data by making it easier to follow reliable data management practices.\n",
    "\n",
    "In Bioconductor, principles that guide software development are applied in data management strategy. \n",
    "\n",
    "- High value accrues to data structures that are modular and extensible. \n",
    "- Packaging and version control protocols apply to data class definitions. \n",
    "- We will motivate and illustrate these ideas by \n",
    "    - giving examples of transforming spreadsheets to semantically rich objects, \n",
    "    - working with the NCBI GEO archive, \n",
    "    - dealing with families of BAM and BED files, and (optionally)\n",
    "    - using external storage to foster coherent interfaces to large multiomic archives like TCGA."
   ]
  },
  {
   "cell_type": "markdown",
   "metadata": {},
   "source": [
    "### Coordinating information from multiple tables\n",
    "\n",
    "With the GSE5859Subset package, we illustrate a \"natural\" approach to collecting microarray data and its annotation."
   ]
  },
  {
   "cell_type": "code",
   "execution_count": null,
   "metadata": {
    "collapsed": true
   },
   "outputs": [],
   "source": [
    "library(GSE5859Subset)\n",
    "data(GSE5859Subset) # will 'create' geneExpression, sampleInfo, geneAnnotation\n",
    "ls()"
   ]
  },
  {
   "cell_type": "code",
   "execution_count": null,
   "metadata": {
    "collapsed": true
   },
   "outputs": [],
   "source": [
    "dim(geneExpression)"
   ]
  },
  {
   "cell_type": "code",
   "execution_count": null,
   "metadata": {
    "collapsed": true
   },
   "outputs": [],
   "source": [
    "head(geneExpression[,1:5])"
   ]
  },
  {
   "cell_type": "code",
   "execution_count": null,
   "metadata": {
    "collapsed": true
   },
   "outputs": [],
   "source": [
    "head(sampleInfo)"
   ]
  },
  {
   "cell_type": "code",
   "execution_count": null,
   "metadata": {
    "collapsed": true
   },
   "outputs": [],
   "source": [
    "head(geneAnnotation)"
   ]
  },
  {
   "cell_type": "markdown",
   "metadata": {},
   "source": [
    "Here we have three objects in R that are conceptually linked.  We notice that `sampleInfo` has an ethnicity token and that the column names for the `geneExpression` table are similar in format to the `filename` field of `sampleInfo`.  Let's check that they in fact agree:"
   ]
  },
  {
   "cell_type": "code",
   "execution_count": null,
   "metadata": {
    "collapsed": true
   },
   "outputs": [],
   "source": [
    "all(sampleInfo$filename == colnames(geneExpression))"
   ]
  },
  {
   "cell_type": "markdown",
   "metadata": {},
   "source": [
    "The class of `sampleInfo` is `data.frame`.  We can refer to columns using the `$` operator.  Thus we can tabulate the\n",
    "`group` field (which corresponds to gender):"
   ]
  },
  {
   "cell_type": "code",
   "execution_count": null,
   "metadata": {
    "collapsed": true
   },
   "outputs": [],
   "source": [
    "table(sampleInfo$group)"
   ]
  },
  {
   "cell_type": "markdown",
   "metadata": {
    "collapsed": true
   },
   "source": [
    "#### Exercises\n",
    "\n",
    "Ex4. Tabulate the ethnicity for samples in this dataset"
   ]
  },
  {
   "cell_type": "code",
   "execution_count": null,
   "metadata": {
    "collapsed": true
   },
   "outputs": [],
   "source": []
  },
  {
   "cell_type": "markdown",
   "metadata": {},
   "source": [
    "Ex5. We can compare distributions of expression of gene PAX8 by group as follows:"
   ]
  },
  {
   "cell_type": "code",
   "execution_count": null,
   "metadata": {
    "collapsed": true,
    "scrolled": true
   },
   "outputs": [],
   "source": [
    "boxplot(split(geneExpression[which(geneAnnotation$SYMBOL==\"PAX8\"),], sampleInfo$group), ylab=\"PAX8\", xlab=\"group\")"
   ]
  },
  {
   "cell_type": "markdown",
   "metadata": {},
   "source": [
    "Produce the same type of visual comparison for gene DDR1."
   ]
  },
  {
   "cell_type": "code",
   "execution_count": null,
   "metadata": {
    "collapsed": true
   },
   "outputs": [],
   "source": []
  },
  {
   "cell_type": "markdown",
   "metadata": {},
   "source": [
    "####  Unifying the tables with ExpressionSet in the Biobase package\n",
    "\n",
    "We can simplify interactions with gene expression experiments by using an object to unify the different\n",
    "information sources.  The ExpressionSet class is routinely used for microarray studies.  To begin, we will enhance\n",
    "the annotation of the metadata components"
   ]
  },
  {
   "cell_type": "code",
   "execution_count": null,
   "metadata": {
    "collapsed": true
   },
   "outputs": [],
   "source": [
    "rownames(sampleInfo) = sampleInfo$filename\n",
    "rownames(geneAnnotation) = geneAnnotation$PROBEID"
   ]
  },
  {
   "cell_type": "markdown",
   "metadata": {},
   "source": [
    "Now we build up the unified instance"
   ]
  },
  {
   "cell_type": "code",
   "execution_count": null,
   "metadata": {
    "collapsed": true
   },
   "outputs": [],
   "source": [
    "library(Biobase)  # provides the class definition\n",
    "es5859 = ExpressionSet(assayData=geneExpression)  # start the unification\n",
    "pData(es5859) = sampleInfo  # add sample-level data\n",
    "fData(es5859) = geneAnnotation  # add gene level data\n",
    "es5859  # get a report"
   ]
  },
  {
   "cell_type": "markdown",
   "metadata": {},
   "source": [
    "We can now program with a single data object to develop our comparative plots.  We need to know that methods `exprs`, \n",
    "`fData`, and `[[` behave in certain ways for instances of ExpressionSet."
   ]
  },
  {
   "cell_type": "code",
   "execution_count": null,
   "metadata": {
    "collapsed": true
   },
   "outputs": [],
   "source": [
    "twoSamplePlot = function(es, stratvar, symbol) {\n",
    "    boxplot(split(exprs(es[which(fData(es)$SYMBOL==symbol),]), \n",
    "                  es[[stratvar]]),xlab=stratvar, ylab=symbol)\n",
    "}\n",
    "twoSamplePlot(es5859, stratvar=\"group\", symbol=\"BRCA2\")"
   ]
  },
  {
   "cell_type": "markdown",
   "metadata": {},
   "source": [
    "#### Adding some metadata on publication origins\n",
    "\n",
    "The annotate package includes a function that retrieves information about the paper associated with\n",
    "an experiment."
   ]
  },
  {
   "cell_type": "code",
   "execution_count": null,
   "metadata": {
    "collapsed": true
   },
   "outputs": [],
   "source": [
    "library(annotate)\n",
    "mi = pmid2MIAME(\"17206142\")\n",
    "experimentData(es5859) = mi\n",
    "es5859"
   ]
  },
  {
   "cell_type": "markdown",
   "metadata": {},
   "source": [
    "We have now bound the textual abstract of the associated paper into the ExpressionSet."
   ]
  },
  {
   "cell_type": "code",
   "execution_count": null,
   "metadata": {
    "collapsed": true
   },
   "outputs": [],
   "source": [
    "abstract(es5859)"
   ]
  },
  {
   "cell_type": "markdown",
   "metadata": {},
   "source": [
    "### Working with NCBI GEO to retrieve experiments of interest\n",
    "\n",
    "Now that we have a unified representation of collections of microarrays, we can use it to manage\n",
    "information retrieved from GEO.  The GEOquery package makes it very easy to obtain series of\n",
    "microarray experiments.\n",
    "\n",
    "There are results of tens of thousands of experiments in GEO. The GEOmetadb includes tools to acquire and query a SQLite database with extensive annotation of GEO contents. The database retrieved in October 2017 was over 6 GB in size. Thus we do not require that you use this package. If you are interested, the vignette is very thorough.\n",
    "\n",
    "We used GEOmetadb to find the name (GSE accession number) of an experiment that studied the effects of applying a compound to\n",
    "cells derived from glioblastoma tumors."
   ]
  },
  {
   "cell_type": "code",
   "execution_count": 13,
   "metadata": {},
   "outputs": [
    {
     "name": "stderr",
     "output_type": "stream",
     "text": [
      "Found 1 file(s)\n",
      "GSE78703_series_matrix.txt.gz\n",
      "Parsed with column specification:\n",
      "cols(\n",
      "  ID_REF = col_character(),\n",
      "  GSM2072905 = col_double(),\n",
      "  GSM2072906 = col_double(),\n",
      "  GSM2072907 = col_double(),\n",
      "  GSM2072908 = col_double(),\n",
      "  GSM2072909 = col_double(),\n",
      "  GSM2072910 = col_double(),\n",
      "  GSM2072911 = col_double(),\n",
      "  GSM2072912 = col_double(),\n",
      "  GSM2072913 = col_double(),\n",
      "  GSM2072914 = col_double(),\n",
      "  GSM2072915 = col_double(),\n",
      "  GSM2072916 = col_double()\n",
      ")\n",
      "File stored at: \n",
      "/var/folders/5_/14ld0y7s0vbg_z0g2c9l8v300000gr/T//RtmpQy7o7u/GPL15207.soft\n"
     ]
    }
   ],
   "source": [
    "library(GEOquery)\n",
    "glioMA = getGEO(\"GSE78703\")[[1]]"
   ]
  },
  {
   "cell_type": "code",
   "execution_count": 2,
   "metadata": {},
   "outputs": [
    {
     "data": {
      "text/plain": [
       "ExpressionSet (storageMode: lockedEnvironment)\n",
       "assayData: 49395 features, 12 samples \n",
       "  element names: exprs \n",
       "protocolData: none\n",
       "phenoData\n",
       "  sampleNames: GSM2072905 GSM2072906 ... GSM2072916 (12 total)\n",
       "  varLabels: title geo_accession ... treated with:ch1 (35 total)\n",
       "  varMetadata: labelDescription\n",
       "featureData\n",
       "  featureNames: 11715100_at 11715101_s_at ... AFFX-TrpnX-M_at (49395\n",
       "    total)\n",
       "  fvarLabels: ID GeneChip Array ... SPOT_ID (24 total)\n",
       "  fvarMetadata: Column Description labelDescription\n",
       "experimentData: use 'experimentData(object)'\n",
       "Annotation: GPL15207 "
      ]
     },
     "metadata": {},
     "output_type": "display_data"
    }
   ],
   "source": [
    "glioMA"
   ]
  },
  {
   "cell_type": "markdown",
   "metadata": {},
   "source": [
    "This object responds to all the methods we've already used.  For example:"
   ]
  },
  {
   "cell_type": "code",
   "execution_count": null,
   "metadata": {
    "collapsed": true
   },
   "outputs": [],
   "source": [
    "head(fData(glioMA))"
   ]
  },
  {
   "cell_type": "code",
   "execution_count": null,
   "metadata": {
    "collapsed": true
   },
   "outputs": [],
   "source": [
    "head(pData(glioMA))"
   ]
  },
  {
   "cell_type": "markdown",
   "metadata": {},
   "source": []
  },
  {
   "cell_type": "code",
   "execution_count": 15,
   "metadata": {},
   "outputs": [
    {
     "data": {
      "text/plain": [
       "\n",
       "           DMSO control  LXR-623 5 uM for 24 hr \n",
       "                      6                       6 "
      ]
     },
     "metadata": {},
     "output_type": "display_data"
    }
   ],
   "source": [
    "table(glioMA$`treated with:ch1`)"
   ]
  },
  {
   "cell_type": "markdown",
   "metadata": {},
   "source": [
    "Now we can use our plotting function again -- with one caveat.  The fields of `fData` are different between\n",
    "the two ExpressionSets.  We can update our new one fairly easily:"
   ]
  },
  {
   "cell_type": "code",
   "execution_count": null,
   "metadata": {
    "collapsed": true
   },
   "outputs": [],
   "source": [
    "fData(glioMA)$SYMBOL = fData(glioMA)$\"Gene Symbol\" # our function assumes existence of SYMBOL in fData\n",
    "twoSamplePlot(glioMA, stratvar=\"treated with:ch1\", symbol=\"ABCA1\")"
   ]
  },
  {
   "cell_type": "markdown",
   "metadata": {},
   "source": [
    "### Summary\n",
    "\n",
    "- ExpressionSets unify sample-level data with molecular assays\n",
    "- exprs(), fData(), pData() and associated shortcuts extract key components\n",
    "- GEOquery retrieves ExpressionSets from GEO\n",
    "- GEOmetadb indexes GEO and helps you find experiments for retrieval\n",
    "- *SummarizedExperiment* and *RangedSummarizedExperiment* are more modern alternatives to *ExpressionSet*, and have different methods"
   ]
  },
  {
   "cell_type": "code",
   "execution_count": null,
   "metadata": {
    "collapsed": true
   },
   "outputs": [],
   "source": []
  }
 ],
 "metadata": {
  "kernelspec": {
   "display_name": "R",
   "language": "R",
   "name": "ir"
  },
  "language_info": {
   "codemirror_mode": "r",
   "file_extension": ".r",
   "mimetype": "text/x-r-source",
   "name": "R",
   "pygments_lexer": "r",
   "version": "3.5.0"
  }
 },
 "nbformat": 4,
 "nbformat_minor": 2
}
