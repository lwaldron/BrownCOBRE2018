{
 "cells": [
  {
   "cell_type": "markdown",
   "metadata": {},
   "source": [
    "# Period 4: Visualization of genome-scale data with R/Bioconductor\n",
    "\n",
    "## Overview of visualization\n",
    "\n",
    "The basic purpose of visualization is to expose the \"structure of variation\" in datasets.\n",
    "Even for simple data elements that might occupy a given vector in R\n",
    "can have intricate \"structure\" that visualization can help expose.  Before focusing\n",
    "sharply on tools for genomic visualization, we'll introduce\n",
    "some basic concepts of statistical modeling to help formalize this concept\n",
    "of \"structured variation\".\n",
    "\n",
    "### Some comments on statistical models \n",
    "\n",
    "We will discuss histograms and density estimates for univariate continuous data, and\n",
    "some views of contingency tables for discrete multivariate data.\n",
    "\n",
    "#### The concept of a density function\n",
    "\n",
    "Basic model for continuous univariate measurement: $N$ data points denoted\n",
    "$x_i, i = 1, \\ldots, N$ \n",
    "\n",
    "- are _statistically independent_ (value of $x_i$ tells us\n",
    "nothing about the value of $x_j$, $j \\neq i$)\n",
    "- have relative frequencies prescribed by mathematical functions that have certain properties\n",
    "\n",
    "Example for students with some exposure to probability theory:  Define \n",
    "$$\n",
    "f(t) = \\frac{1}{\\sqrt{2\\pi}} e^{-\\frac{t^2}{2}}\n",
    "$$\n",
    "and let $F(x) = \\int\\limits_{-\\infty}^x f(t) dt$.  $F$ is known as the standard\n",
    "normal or Gaussian _distribution function_.  You can use R to explore this formalism."
   ]
  },
  {
   "cell_type": "code",
   "execution_count": null,
   "metadata": {},
   "outputs": [],
   "source": [
    "myf = function(t) (1/(sqrt(2*pi)))*exp(-t^2/2)\n",
    "myF = function(x) integrate(myf, -Inf, x)$value\n",
    "dom = seq(-3,3,.1)\n",
    "plot(dom, sapply(dom, myF), xlab=\"x\", ylab=\"F(x)\", type=\"l\")"
   ]
  },
  {
   "cell_type": "markdown",
   "metadata": {},
   "source": [
    "The function $f$ defined above is the standard Gaussian _density function_.  We have written code for it already.  It's a little easier to plot it because we coded it in a vectorized way.\n",
    "(As a mildly advanced exercise, recode `myF` so that it returns a vector of values $F(x)$ for a vector input.)\n",
    "\n",
    "The density function has a familiar display:"
   ]
  },
  {
   "cell_type": "code",
   "execution_count": null,
   "metadata": {},
   "outputs": [],
   "source": [
    "plot(dom, myf(dom), type=\"l\", xlab=\"x\", ylab=\"f(x)\")"
   ]
  },
  {
   "cell_type": "markdown",
   "metadata": {},
   "source": [
    "R has more general Gaussian density and distribution functions built in, in the sense that\n",
    "mean and variance values can also be specified to define location and spread."
   ]
  },
  {
   "cell_type": "code",
   "execution_count": null,
   "metadata": {},
   "outputs": [],
   "source": [
    "range(myf(dom)-dnorm(dom)) # dnorm is built in"
   ]
  },
  {
   "cell_type": "markdown",
   "metadata": {},
   "source": [
    "#### Histograms as estimates of densities\n",
    "\n",
    "A basic tool of exploratory visualization is the histogram.  This can be tuned\n",
    "in various ways, but let's consider how its default implementation can be used to think about the\n",
    "plausibility of a model for a given set of data.  We can simulate standard\n",
    "Gaussian observations in R, plot the histogram, and check its relationship to\n",
    "the theoretical density."
   ]
  },
  {
   "cell_type": "code",
   "execution_count": null,
   "metadata": {},
   "outputs": [],
   "source": [
    "dat = rnorm(1000) # simulated\n",
    "hist(dat, freq=FALSE)\n",
    "lines(dom, dnorm(dom), lty=2)\n",
    "lines(density(dat), lty=3)"
   ]
  },
  {
   "cell_type": "markdown",
   "metadata": {},
   "source": [
    "Both the default histogram and the default density estimate accurately characterize\n",
    "variation in the simulated data.  We will now apply them to a classic dataset."
   ]
  },
  {
   "cell_type": "markdown",
   "metadata": {},
   "source": [
    "#### Histogram and density with a dataset\n",
    "\n",
    "R.A. Fisher studied measurements of parts of three species of iris plants."
   ]
  },
  {
   "cell_type": "code",
   "execution_count": null,
   "metadata": {},
   "outputs": [],
   "source": [
    "head(iris)"
   ]
  },
  {
   "cell_type": "markdown",
   "metadata": {},
   "source": [
    "We'll use a histogram and default density estimate to visualize the distribution of petal width."
   ]
  },
  {
   "cell_type": "code",
   "execution_count": null,
   "metadata": {},
   "outputs": [],
   "source": [
    "hist(iris$Petal.Width, freq=FALSE)\n",
    "lines(density(iris$Petal.Width))"
   ]
  },
  {
   "cell_type": "markdown",
   "metadata": {},
   "source": [
    "Both the histogram and the density serve to demonstrate that a unimodal model \n",
    "will not work well for this dataset.  \n",
    "\n",
    "It is worth noting that the default density display seems particularly flawed in that\n",
    "it appears to support negative width measures.  (The density sketch extended smoothly\n",
    "at the left boundary will be positive.)  A density estimation tool that can respect\n",
    "constraints on the measurement range is available in the logspline package."
   ]
  },
  {
   "cell_type": "code",
   "execution_count": null,
   "metadata": {},
   "outputs": [],
   "source": [
    "library(logspline)  # tell logspline no negative values \n",
    "suppressWarnings(f1 <- logspline(iris$Petal.Width, lbound=0))\n",
    "hist(iris$Petal.Width, freq=FALSE)\n",
    "dom=seq(0,2.6,.01)\n",
    "lines(dom, dlogspline(dom, fit=f1), lty=2)\n",
    "lines(density(iris$Petal.Width), lty=3, col=\"gray\")\n",
    "legend(1.0, 1.1, legend=c(\"logspline\", \"default\"), \n",
    "       lty=c(2,3), col=c(\"black\", \"gray\"), bty=\"n\")"
   ]
  },
  {
   "cell_type": "markdown",
   "metadata": {},
   "source": [
    "The histogram is a form of 'nonparametric' density estimation -- it makes no assumptions about the functional form of the underlying distribution.  The logspline density estimate\n",
    "assumes that there is a smooth underlying density, and constraints like bounds\n",
    "on the observation space can be imposed.  The default density estimator in R\n",
    "can be tuned, see `?density`.\n",
    "\n",
    "As a concluding remark on the value of refined density estimation, we note that the logspline\n",
    "estimate was quite suggestive of a trimodal distribution.  We know more about the\n",
    "iris data -- it is in fact collected on three different species of plant.  The mean values\n",
    "of petal width for these species seem to lie close to the modes suggested by the\n",
    "logspline estimate.  This is much less apparent with the default density estimate."
   ]
  },
  {
   "cell_type": "code",
   "execution_count": null,
   "metadata": {},
   "outputs": [],
   "source": [
    "sapply(split(iris$Petal.Width, iris$Species), mean)"
   ]
  },
  {
   "cell_type": "code",
   "execution_count": null,
   "metadata": {},
   "outputs": [],
   "source": [
    "hist(iris$Petal.Width, freq=FALSE)\n",
    "dom=seq(0,2.6,.01)\n",
    "lines(dom, dlogspline(dom, fit=f1), lty=2)\n",
    "lines(density(iris$Petal.Width), lty=3, col=\"gray\")\n",
    "legend(1.0, 1.1, legend=c(\"logspline\", \"default\"), \n",
    "       lty=c(2,3), col=c(\"black\", \"gray\"), bty=\"n\")\n",
    "abline(v=c(.246, 1.326, 2.026), lty=4)"
   ]
  },
  {
   "cell_type": "markdown",
   "metadata": {},
   "source": [
    "#### Models and visualization for discrete data\n",
    "\n",
    "We'll briefly address categorical data that do not have a natural ordering.  A nice\n",
    "example dataset is the `HairEyeColor` array.\n"
   ]
  },
  {
   "cell_type": "code",
   "execution_count": null,
   "metadata": {},
   "outputs": [],
   "source": [
    "HairEyeColor"
   ]
  },
  {
   "cell_type": "markdown",
   "metadata": {},
   "source": [
    "We'd like to understand whether eye and hair color are associated, and whether\n",
    "the association varies by gender.  \n",
    "\n",
    "#### Two-dimensional problem\n",
    "\n",
    "To begin, we'll collapse over genders and consider \n",
    "a model for the $4 \\times 4$ table with hair color in rows and eye color in columns:"
   ]
  },
  {
   "cell_type": "code",
   "execution_count": null,
   "metadata": {},
   "outputs": [],
   "source": [
    "hae = apply(HairEyeColor,1:2,sum)\n",
    "hae"
   ]
  },
  {
   "cell_type": "markdown",
   "metadata": {},
   "source": [
    "Let $p_{ij}$ denote the joint probability of having hair color $i$ and eye color $j$, let $p_{i\\cdot}$\n",
    "denote the marginal probability of having hair color $i$, and let\n",
    "$p_{\\cdot j}$ denote the marginal probability of having eye color $j$.  The\n",
    "independence model asserts that $p_{ij} = p_{i\\cdot} p_{\\cdot j}$ for all $i$ and $j$.  Pearson's Chi-squared statistic measures the goodness of fit of this model.  The `assoc` function of the\n",
    "vcd package displays the magnitudes of residuals (normalized departures from values expected\n",
    "under the independence model, see ?assoc for details)."
   ]
  },
  {
   "cell_type": "code",
   "execution_count": null,
   "metadata": {},
   "outputs": [],
   "source": [
    "library(vcd)\n",
    "options(repr.plot.width=5, repr.plot.height=5)\n",
    "assoc(hae, ~Eye + Hair, shade=TRUE)"
   ]
  },
  {
   "cell_type": "markdown",
   "metadata": {},
   "source": [
    "#### Three-dimensional problem\n",
    "\n",
    "To address the full dataset,\n",
    "we'll use the `mosaicplot` function to examine relative frequencies of different\n",
    "(sex, eyecolor, haircolor) configurations in the data.  With the `shade` parameter\n",
    "set, we are presented with a collection of colored rectangles that depict the\n",
    "relative frequencies of the different categories.  Red boxes correspond to \n",
    "configurations that are relatively unusual under the assumption of independence.\n",
    "Blue boxes correspond to configurations that have unexpectedly high prevalence."
   ]
  },
  {
   "cell_type": "code",
   "execution_count": null,
   "metadata": {},
   "outputs": [],
   "source": [
    "options(repr.plot.width=5, repr.plot.height=5)\n",
    "mosaicplot(HairEyeColor, shade=TRUE)"
   ]
  },
  {
   "cell_type": "markdown",
   "metadata": {},
   "source": [
    "Thus there are fewer blond-haired brown-eyed individuals than expected under\n",
    "an assumption of independence, and black hair/brown eyes are more common than\n",
    "would be expected under this assumption.  The discipline of [log-linear modeling](https://books.google.com/books?id=Td5dhfwi31EC&source=gbs_book_other_versions)\n",
    "and [formalism on the chi-squared test](https://en.wikipedia.org/wiki/Pearson%27s_chi-squared_test) can be reviewed to get a deeper understanding of this technique."
   ]
  },
  {
   "cell_type": "markdown",
   "metadata": {},
   "source": [
    "## A quick survey of R's base graphics for multivariate data\n",
    "\n",
    "### Additional views of Fisher's iris data\n",
    "\n",
    "We focused before on a single feature.  The full dataset has four features and species label."
   ]
  },
  {
   "cell_type": "code",
   "execution_count": null,
   "metadata": {},
   "outputs": [],
   "source": [
    "head(iris)"
   ]
  },
  {
   "cell_type": "markdown",
   "metadata": {},
   "source": [
    "#### Marginal distributions\n",
    "\n",
    "Using base R to visualize a group of distributions can lead to complications even\n",
    "when something as simple as the boxplot is in use.  The defaults for the display below\n",
    "lead to dropping a species label in each plot.  We need to rotate the labels to have\n",
    "them fit in the available margin space."
   ]
  },
  {
   "cell_type": "code",
   "execution_count": null,
   "metadata": {},
   "outputs": [],
   "source": [
    "par(mfrow=c(2,2))\n",
    "for (i in 1:4) {\n",
    "      boxplot(split(iris[,i], iris$Species),\n",
    "         main=names(iris)[i], axes=FALSE)\n",
    "      axis(2)\n",
    "      text(1:3, par(\"usr\")[3] - 0.25, srt = 45, adj = 1,\n",
    "          labels = levels(iris$Species), xpd = TRUE)\n",
    "      }\n"
   ]
  },
  {
   "cell_type": "markdown",
   "metadata": {},
   "source": [
    "It is often of interest to visualize the individual data points.  The beeswarm\n",
    "algorithm is easy to use."
   ]
  },
  {
   "cell_type": "code",
   "execution_count": null,
   "metadata": {},
   "outputs": [],
   "source": [
    "library(beeswarm)\n",
    "par(mfrow=c(2,2))\n",
    "for (i in 1:4) beeswarm(iris[,i]~Species, \n",
    "        data=iris, main=names(iris)[i], ylab=\" \")"
   ]
  },
  {
   "cell_type": "markdown",
   "metadata": {},
   "source": [
    "Exercise.  Fix the code just above so that all species labels appear."
   ]
  },
  {
   "cell_type": "markdown",
   "metadata": {},
   "source": [
    "#### Bivariate distributions\n",
    "\n",
    "The formula notation is a natural one to use for simple scatterplots.  Because the\n",
    "data are recorded to only one decimal place, we use `jitter` to reduce overplotting."
   ]
  },
  {
   "cell_type": "code",
   "execution_count": null,
   "metadata": {},
   "outputs": [],
   "source": [
    "par(mfrow=c(1,1))\n",
    "options(repr.plot.width=4, repr.plot.height=4) # specific for jupyter\n",
    "plot(Sepal.Length~jitter(Sepal.Width), data=iris)"
   ]
  },
  {
   "cell_type": "markdown",
   "metadata": {},
   "source": [
    "Additional parameters can be given to alter the appearance."
   ]
  },
  {
   "cell_type": "code",
   "execution_count": null,
   "metadata": {},
   "outputs": [],
   "source": [
    "plot(Sepal.Length~jitter(Sepal.Width), data=iris, pch=19, col=Species)\n",
    "legend(1.9, 7.5, col=1:3, pch=19, legend=levels(iris$Species), bty=\"n\")"
   ]
  },
  {
   "cell_type": "markdown",
   "metadata": {},
   "source": [
    "For a modest number of features, `pairs` provides all pairwise scatterplots."
   ]
  },
  {
   "cell_type": "code",
   "execution_count": null,
   "metadata": {},
   "outputs": [],
   "source": [
    "pairs(iris[,-5], col=iris$Species, pch=19, cex.labels=.9)"
   ]
  },
  {
   "cell_type": "markdown",
   "metadata": {},
   "source": [
    "There are many parameters that control the display of standard R graphics.  See ?par for details.  Some frequently used are cex (character expansion factor), mar (set margins), mfrow (setup a multipanel display), pch (choose plotting glyph), las (alter angle of marginal label rendering)."
   ]
  },
  {
   "cell_type": "markdown",
   "metadata": {
    "collapsed": true
   },
   "source": [
    "```\n",
    "> sort(names(par()))\n",
    " [1] \"adj\"       \"ann\"       \"ask\"       \"bg\"        \"bty\"       \"cex\"      \n",
    " [7] \"cex.axis\"  \"cex.lab\"   \"cex.main\"  \"cex.sub\"   \"cin\"       \"col\"      \n",
    "[13] \"col.axis\"  \"col.lab\"   \"col.main\"  \"col.sub\"   \"cra\"       \"crt\"      \n",
    "[19] \"csi\"       \"cxy\"       \"din\"       \"err\"       \"family\"    \"fg\"       \n",
    "[25] \"fig\"       \"fin\"       \"font\"      \"font.axis\" \"font.lab\"  \"font.main\"\n",
    "[31] \"font.sub\"  \"lab\"       \"las\"       \"lend\"      \"lheight\"   \"ljoin\"    \n",
    "[37] \"lmitre\"    \"lty\"       \"lwd\"       \"mai\"       \"mar\"       \"mex\"      \n",
    "[43] \"mfcol\"     \"mfg\"       \"mfrow\"     \"mgp\"       \"mkh\"       \"new\"      \n",
    "[49] \"oma\"       \"omd\"       \"omi\"       \"page\"      \"pch\"       \"pin\"      \n",
    "[55] \"plt\"       \"ps\"        \"pty\"       \"smo\"       \"srt\"       \"tck\"      \n",
    "[61] \"tcl\"       \"usr\"       \"xaxp\"      \"xaxs\"      \"xaxt\"      \"xlog\"     \n",
    "[67] \"xpd\"       \"yaxp\"      \"yaxs\"      \"yaxt\"      \"ylbias\"    \"ylog\"     \n",
    "```"
   ]
  },
  {
   "cell_type": "code",
   "execution_count": null,
   "metadata": {
    "collapsed": true
   },
   "outputs": [],
   "source": []
  }
 ],
 "metadata": {
  "kernelspec": {
   "display_name": "R",
   "language": "R",
   "name": "ir"
  },
  "language_info": {
   "codemirror_mode": "r",
   "file_extension": ".r",
   "mimetype": "text/x-r-source",
   "name": "R",
   "pygments_lexer": "r",
   "version": "3.5.0"
  }
 },
 "nbformat": 4,
 "nbformat_minor": 2
}
