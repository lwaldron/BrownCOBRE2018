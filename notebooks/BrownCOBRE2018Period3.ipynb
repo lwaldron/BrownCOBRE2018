{
 "cells": [
  {
   "cell_type": "markdown",
   "metadata": {},
   "source": [
    "# Brown Univ. Introduction to Bioconductor 2018, Period 3\n",
    "\n",
    "## Genomic annotation with Bioconductor\n",
    "\n",
    "### A hierarchy of annotation concepts\n",
    "\n",
    "Bioconductor includes many different types of genomic annotation.\n",
    "We can think of these annotation resources in a hierarchical structure.\n",
    "\n",
    "- At the base is the __reference genomic sequence__ for an organism.\n",
    "This is always arranged into chromosomes, specified by linear\n",
    "sequences of nucleotides.\n",
    "- Above this is the organization of chromosomal sequence into\n",
    "__regions of interest__.  The most prominent regions of interest are\n",
    "genes, but other structures like SNPs or CpG sites are\n",
    "annotated as well.  Genes have internal structure,\n",
    "with parts that are transcribed and parts that are not,\n",
    "and \"gene models\" define the ways in which\n",
    "these structures are labeled and laid out in genomic coordinates.\n",
    "- Within this concept of __regions of interest__ we also identify\n",
    "__platform-oriented annotation__.  This type of annotation is typically\n",
    "provided first by the manufacturer of an assay, but then refined\n",
    "as research identifies ambiguities or updates to\n",
    "initially declared roles for assay probe elements.  The\n",
    "[brainarray project](http://brainarray.mbni.med.umich.edu/Brainarray/Database/CustomCDF/genomic_curated_CDF.asp) \n",
    "at University of Michigan illustrates this process for affymetrix array annotation.  We \n",
    "address this topic of platform-oriented annotation at the very end of this chapter.\n",
    "- Above this is the organization of regions (most often\n",
    "genes or gene products) into\n",
    "__groups with shared structural or functional properties__.  Examples\n",
    "include pathways, groups of genes found together in cells, or\n",
    "identified as cooperating in biological processes."
   ]
  },
  {
   "cell_type": "code",
   "execution_count": null,
   "metadata": {
    "collapsed": true
   },
   "outputs": [],
   "source": [
    "suppressPackageStartupMessages({\n",
    "    library(BSgenome)\n",
    "    library(DT)\n",
    "    library(Homo.sapiens)\n",
    "    library(TxDb.Hsapiens.UCSC.hg19.knownGene)\n",
    "    library(org.Hs.eg.db)\n",
    "    library(ensembldb)\n",
    "    library(EnsDb.Hsapiens.v75)\n",
    "    library(AnnotationHub)\n",
    "})"
   ]
  },
  {
   "cell_type": "markdown",
   "metadata": {},
   "source": [
    "### Discovering available reference genomes\n",
    "\n",
    "Bioconductor's collection of annotation packages brings\n",
    "all elements of this hierarchy into a programmable environment.\n",
    "Reference genomic sequences are managed using the infrastructure\n",
    "of the Biostrings and BSgenome packages, and the `available.genomes`\n",
    "function lists the reference genome build for humans and\n",
    "various model organisms now available."
   ]
  },
  {
   "cell_type": "code",
   "execution_count": null,
   "metadata": {},
   "outputs": [],
   "source": [
    "library(BSgenome)\n",
    "library(DT)\n",
    "ag = available.genomes()\n",
    "datatable(data.frame(packs=ag))"
   ]
  },
  {
   "cell_type": "markdown",
   "metadata": {},
   "source": [
    "### Reference build versions are important\n",
    "\n",
    "The reference build for an organism is created de novo\n",
    "and then refined as algorithms and sequenced data improve.\n",
    "For humans, the Genome Research Consortium signed off on\n",
    "build 37 in 2009, and on build 38 in 2013.\n",
    "\n",
    "Once a reference build is completed, it becomes easy to\n",
    "perform informative genomic sequence analysis on individuals, because one can\n",
    "focus on regions that are known to harbor allelic diversity.\n",
    "\n",
    "Note that the genome sequence packages have long names\n",
    "that include build versions.  It is very important to avoid\n",
    "mixing coordinates from different reference builds.\n",
    "In the liftOver video we show how to convert genomic coordinates of\n",
    "features between different reference builds, using the UCSC\n",
    "\"liftOver\" utility interfaced to R in the\n",
    "rtracklayer package.\n",
    "\n",
    "To help users avoid mixing up data collected on incompatible\n",
    "genomic coordinate systems from different reference builds, we\n",
    "include a \"genome\" tag that can be filled out for most objects\n",
    "that hold sequence information.  We'll see some examples of\n",
    "this shortly.  Software for sequence comparison can check\n",
    "for compatible tags on the sequences\n",
    "being compared, and thereby help to ensure meaningful results.\n",
    "\n",
    "<a name=\"hsap\"></a>\n",
    "\n",
    "## A reference genomic sequence for H. sapiens\n",
    "\n",
    "The reference sequence for *Homo sapiens* is acquired by installing\n",
    "and attaching\n",
    "a single package.  This is in contrast to downloading and parsing\n",
    "FASTA files.  The package defines an object `Hsapiens`\n",
    "that is the source of chromosomal sequence, but when\n",
    "evaluated on its own\n",
    "provides a report of the origins of the sequence data that\n",
    "it contains."
   ]
  },
  {
   "cell_type": "code",
   "execution_count": null,
   "metadata": {},
   "outputs": [],
   "source": [
    "library(BSgenome.Hsapiens.UCSC.hg19)\n",
    "Hsapiens"
   ]
  },
  {
   "cell_type": "markdown",
   "metadata": {},
   "source": [
    "We acquire a chromosome's sequence using the `$` operator."
   ]
  },
  {
   "cell_type": "code",
   "execution_count": null,
   "metadata": {},
   "outputs": [],
   "source": [
    "Hsapiens$chr17"
   ]
  },
  {
   "cell_type": "markdown",
   "metadata": {},
   "source": [
    "<a name=\"txUCSCnENSEMBLE\"></a>\n",
    "\n",
    "## The transcripts and genes for a reference sequence\n",
    "\n",
    "### UCSC annotation\n",
    "\n",
    "The `TxDb` family of packages and data objects manages\n",
    "information on transcripts and gene models.  We consider\n",
    "those derived from annotation tables prepared for the\n",
    "UCSC genome browser."
   ]
  },
  {
   "cell_type": "code",
   "execution_count": null,
   "metadata": {},
   "outputs": [],
   "source": [
    "library(TxDb.Hsapiens.UCSC.hg19.knownGene)\n",
    "txdb = TxDb.Hsapiens.UCSC.hg19.knownGene # abbreviate\n",
    "txdb"
   ]
  },
  {
   "cell_type": "markdown",
   "metadata": {},
   "source": [
    "We can use `genes()` to get the addresses of genes using\n",
    "Entrez Gene IDs."
   ]
  },
  {
   "cell_type": "code",
   "execution_count": null,
   "metadata": {},
   "outputs": [],
   "source": [
    "ghs = genes(txdb)\n",
    "ghs"
   ]
  },
  {
   "cell_type": "markdown",
   "metadata": {},
   "source": [
    "Filtering is supported, with suitable identifiers.\n",
    "Here we select all exons identified for two\n",
    "different genes, identified by their Entrez Gene ids:"
   ]
  },
  {
   "cell_type": "code",
   "execution_count": null,
   "metadata": {},
   "outputs": [],
   "source": [
    "eForTwo = exons(txdb, columns=c(\"EXONID\", \"TXNAME\", \"GENEID\"),\n",
    "                  filter=list(gene_id=c(100, 101)))\n",
    "eForTwo"
   ]
  },
  {
   "cell_type": "code",
   "execution_count": null,
   "metadata": {},
   "outputs": [],
   "source": [
    "split(eForTwo, unlist(eForTwo$GENEID)) #notice that GENEID is a CharacterList"
   ]
  },
  {
   "cell_type": "markdown",
   "metadata": {},
   "source": [
    "### ENSEMBL annotation\n",
    "\n",
    "From the [Ensembl home page](http://www.ensembl.org/index.html):\n",
    "\"Ensembl creates, integrates and distributes reference datasets and\n",
    "analysis tools that enable genomics\".  This project is lodged\n",
    "at the [European Molecular Biology Lab](https://www.ebi.ac.uk/),\n",
    "which has been supportive of general interoperation of\n",
    "annotation resources with\n",
    "Bioconductor.\n",
    "\n",
    "The [ensembldb](http://www.bioconductor.org/packages/ensembldb) package includes a vignette\n",
    "with the following commentary:\n",
    "\n",
    "_The ensembldb package provides functions to create and use\n",
    "transcript centric annotation databases/packages. The annotation for the\n",
    "databases are\n",
    "directly fetched from Ensembl 1 using their Perl\n",
    "API. The functionality and data is similar to\n",
    "that of the TxDb packages from the  GenomicFeatures\n",
    "package, but, in addition to retrieve all gene/transcript models\n",
    "and annotations from the database, the\n",
    "ensembldb package provides also a filter framework allowing\n",
    "to retrieve annotations for specific entries like\n",
    "genes encoded on a chromosome region or transcript\n",
    "models of lincRNA genes. From version 1.7 on,\n",
    "EnsDb databases created by the ensembldb package contain\n",
    "also protein annotation data\n",
    "(see [Section 11](http://bioconductor.org/packages/release/bioc/vignettes/ensembldb/inst/doc/ensembldb.html#org35014ed) for\n",
    "the database layout and an\n",
    "overview of available attributes/columns). For more information\n",
    "on the use of the protein annotations refer to the proteins vignette._"
   ]
  },
  {
   "cell_type": "code",
   "execution_count": null,
   "metadata": {},
   "outputs": [],
   "source": [
    "library(ensembldb)\n",
    "library(EnsDb.Hsapiens.v75)\n",
    "names(listTables(EnsDb.Hsapiens.v75))"
   ]
  },
  {
   "cell_type": "markdown",
   "metadata": {},
   "source": [
    "As an illustration:"
   ]
  },
  {
   "cell_type": "code",
   "execution_count": null,
   "metadata": {},
   "outputs": [],
   "source": [
    "edb = EnsDb.Hsapiens.v75  # abbreviate\n",
    "txs <- transcripts(edb, filter = GenenameFilter(\"ZBTB16\"),\n",
    "                   columns = c(\"protein_id\", \"uniprot_id\", \"tx_biotype\"))\n",
    "txs"
   ]
  },
  {
   "cell_type": "markdown",
   "metadata": {},
   "source": [
    "## AnnotationHub -- curated access to reference annotation\n",
    "\n",
    "From the [AnnotationHub](http://www.bioconductor.org/packages/AnnotationHub) vignette:\n",
    "\n",
    "_The AnnotationHub server provides easy R / Bioconductor access to large collections of publicly available whole genome resources, e.g,. ENSEMBL genome fasta or gtf files, UCSC chain resources, ENCODE data tracks at UCSC, etc._\n",
    "\n",
    "We will get a general overview and then carry out a detailed query.  We start by loading the package\n",
    "and obtaining a hub object."
   ]
  },
  {
   "cell_type": "code",
   "execution_count": null,
   "metadata": {},
   "outputs": [],
   "source": [
    "library(AnnotationHub)\n",
    "ah = AnnotationHub()\n",
    "ah"
   ]
  },
  {
   "cell_type": "markdown",
   "metadata": {},
   "source": [
    "Note that there is a specific snapshot date.  The `mcols` method produces metadata about\n",
    "the various resources.  The `$` shortcut also works."
   ]
  },
  {
   "cell_type": "code",
   "execution_count": null,
   "metadata": {},
   "outputs": [],
   "source": [
    "dim(mcols(ah))"
   ]
  },
  {
   "cell_type": "markdown",
   "metadata": {},
   "source": [
    "The `rdataclass` field of the metadata tells us what kinds of representations are available."
   ]
  },
  {
   "cell_type": "code",
   "execution_count": null,
   "metadata": {},
   "outputs": [],
   "source": [
    "table(ah$rdataclass)"
   ]
  },
  {
   "cell_type": "code",
   "execution_count": null,
   "metadata": {},
   "outputs": [],
   "source": [
    "mcols(ah)[which(ah$rdataclass==\"VcfFile\"),]"
   ]
  },
  {
   "cell_type": "code",
   "execution_count": null,
   "metadata": {
    "collapsed": true
   },
   "outputs": [],
   "source": []
  }
 ],
 "metadata": {
  "kernelspec": {
   "display_name": "R",
   "language": "R",
   "name": "ir"
  },
  "language_info": {
   "codemirror_mode": "r",
   "file_extension": ".r",
   "mimetype": "text/x-r-source",
   "name": "R",
   "pygments_lexer": "r",
   "version": "3.5.0"
  }
 },
 "nbformat": 4,
 "nbformat_minor": 2
}
