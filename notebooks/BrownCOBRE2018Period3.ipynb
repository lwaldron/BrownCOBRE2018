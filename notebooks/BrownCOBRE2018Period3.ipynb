{
 "cells": [
  {
   "cell_type": "markdown",
   "metadata": {},
   "source": [
    "# Brown Univ. Introduction to Bioconductor 2018, Period 3\n",
    "\n",
    "## Genomic annotation with Bioconductor\n",
    "\n",
    "```\n",
    "Road map\n",
    "\n",
    "General overview of Bioconductor annotation\n",
    "  Levels: reference sequence, regions of interest, pathways\n",
    "  OrgDb: simple interface to annotation databases\n",
    "  Discovering reference sequence\n",
    "  A build of the human genome\n",
    "  Gene/Transcript/Exon catalogs from UCSC and Ensembl\n",
    "  Finding and managing gene sets\n",
    "  \n",
    "Specific annotation concerns\n",
    "  Ontology concepts and tools\n",
    "  Importing and exporting regions and scores\n",
    "  AnnotationHub: brokering thousands of annotation resources\n",
    "\n",
    "```\n",
    "\n",
    "### A hierarchy of annotation concepts\n",
    "\n",
    "Bioconductor includes many different types of genomic annotation.\n",
    "We can think of these annotation resources in a hierarchical structure.\n",
    "\n",
    "- At the base is the __reference genomic sequence__ for an organism.\n",
    "This is always arranged into chromosomes, consisting of linear\n",
    "sequences of nucleotides.\n",
    "- Above this is the organization of chromosomal sequence into\n",
    "__regions of interest__.  The most prominent regions of interest are\n",
    "genes, but other structures like SNPs or CpG sites are\n",
    "annotated as well.  Genes have internal structure,\n",
    "with parts that are transcribed and parts that are not,\n",
    "and \"gene models\" define the ways in which\n",
    "these structures are labeled and laid out in genomic coordinates.\n",
    "- Within this concept of __regions of interest__ we also identify\n",
    "__platform-oriented annotation__.  This type of annotation is typically\n",
    "provided first by the manufacturer of an assay, but then refined\n",
    "as research identifies ambiguities or updates to\n",
    "initially declared roles for assay probe elements.  The\n",
    "[brainarray project](http://brainarray.mbni.med.umich.edu/Brainarray/Database/CustomCDF/genomic_curated_CDF.asp) \n",
    "at University of Michigan illustrates this process for affymetrix array annotation.  We \n",
    "address this topic of platform-oriented annotation at the very end of this chapter.\n",
    "- Above this is the organization of regions (most often\n",
    "genes or gene products) into\n",
    "__groups with shared structural or functional properties__.  Examples\n",
    "include pathways, groups of genes found together in cells, or\n",
    "identified as cooperating in biological processes."
   ]
  },
  {
   "cell_type": "code",
   "execution_count": null,
   "metadata": {
    "collapsed": true
   },
   "outputs": [],
   "source": [
    "suppressPackageStartupMessages({\n",
    "    library(BSgenome)\n",
    "    library(DT)\n",
    "    library(Homo.sapiens)\n",
    "    library(TxDb.Hsapiens.UCSC.hg19.knownGene)\n",
    "    library(org.Hs.eg.db)\n",
    "    library(ensembldb)\n",
    "    library(EnsDb.Hsapiens.v75)\n",
    "    library(AnnotationHub)\n",
    "    library(GO.db)\n",
    "    library(KEGGREST)\n",
    "    library(grid)\n",
    "    library(DT)\n",
    "    # use biocLite(\"genomicsclass/ph525x\")\n",
    "    library(GSEABase)\n",
    "    library(ph525x)\n",
    "    library(annotate)\n",
    "    library(ontoProc)\n",
    "    library(ontologyPlot)\n",
    "    library(ERBS) # from genomicsclass github\n",
    "    library(rtracklayer)\n",
    "})"
   ]
  },
  {
   "cell_type": "markdown",
   "metadata": {},
   "source": [
    "## An easy way in to annotation for _H. sapiens_\n",
    "\n",
    "Gene-level annotation is distributed over various resources -- in part this is a\n",
    "consequence of resource limitations at the time the project was started.  The modular\n",
    "layout that has endured is not too hard to master.  In the next few cells we will use org.Hs.eg.db to do basic identifier mapping, GO.db to obtain details about Gene Ontology\n",
    "mappings, and KEGGREST to obtain details about pathways.\n",
    "\n",
    "Simple translations between identifier types, and mappings from gene identifiers to pathway or\n",
    "gene set concepts, are available using NCBI's Entrez resources, packaged in\n",
    "[org.Hs.eg.db](http:www.bioconductor.org/packages/org.Hs.eg.db).  \n",
    "\n",
    "The main operation is `select`, which is defined in various contexts.  You may,\n",
    "particularly if dplyr is on the search path, have to disambiguate your usage with\n",
    "`AnnotationDbi::select`.\n",
    "\n",
    "### Working with org.Hs.eg.db \n",
    "\n",
    "We begin by listing the types of keys that can be used for lookups.\n"
   ]
  },
  {
   "cell_type": "code",
   "execution_count": null,
   "metadata": {
    "collapsed": true
   },
   "outputs": [],
   "source": [
    "library(org.Hs.eg.db) # following just compacts the display a little; just call keytypes()\n",
    "data.frame(split(keytypes(org.Hs.eg.db), rep(c(1,2),c(13,13))))"
   ]
  },
  {
   "cell_type": "markdown",
   "metadata": {},
   "source": [
    "A typical application is to acquire the Entrez ID or Ensembl ID for a gene whose symbol is known."
   ]
  },
  {
   "cell_type": "code",
   "execution_count": null,
   "metadata": {
    "collapsed": true
   },
   "outputs": [],
   "source": [
    "select(org.Hs.eg.db, keys=c(\"BRCA2\", \"ORMDL3\"), keytype=\"SYMBOL\", columns=c(\"ENTREZID\", \"ENSEMBL\"))"
   ]
  },
  {
   "cell_type": "markdown",
   "metadata": {},
   "source": [
    "This can be elaborated to obtain additional information.  For example, to determine Gene Ontology and KEGG pathway annotations\n",
    "for this gene:"
   ]
  },
  {
   "cell_type": "code",
   "execution_count": null,
   "metadata": {
    "collapsed": true
   },
   "outputs": [],
   "source": [
    "# columns(org.Hs.eg.db) # learn available field names for tabulation\n",
    "brcatab = select(org.Hs.eg.db, keys=\"BRCA2\", keytype=\"SYMBOL\", columns=c(\"ENTREZID\", \"GO\", \"PATH\"))\n",
    "dim(brcatab)"
   ]
  },
  {
   "cell_type": "markdown",
   "metadata": {},
   "source": [
    "There are numerous annotations for BRCA2.  "
   ]
  },
  {
   "cell_type": "code",
   "execution_count": null,
   "metadata": {
    "collapsed": true
   },
   "outputs": [],
   "source": [
    "head(brcatab)"
   ]
  },
  {
   "cell_type": "markdown",
   "metadata": {},
   "source": [
    "When we ask for GO annotations, we also receive an evidence code.  'TAS' stands for 'traceable author statement', and we will confine attention to these annotations.  "
   ]
  },
  {
   "cell_type": "code",
   "execution_count": null,
   "metadata": {
    "collapsed": true
   },
   "outputs": [],
   "source": [
    "brcatab[brcatab$EVIDENCE==\"TAS\",]"
   ]
  },
  {
   "cell_type": "markdown",
   "metadata": {},
   "source": [
    "The values for 'PATH' are 'organism-independent' pathway tags in KEGG.  To focus on a given organism, a three-letter abbreviation must be prepended: hsaNNNNN for human, mmuNNNNN for mouse, and so on."
   ]
  },
  {
   "cell_type": "markdown",
   "metadata": {},
   "source": [
    "### Using GO.db\n",
    "\n",
    "To learn the interpretation of the GO annotation tags, we use [GO.db](http://www.bioconductor.org/packages/GO.db):"
   ]
  },
  {
   "cell_type": "code",
   "execution_count": null,
   "metadata": {
    "collapsed": true
   },
   "outputs": [],
   "source": [
    "select(GO.db, keys=c(\"GO:0000731\", \"GO:0000732\", \"GO:0005654\"), keytype=\"GOID\", columns=\"TERM\")"
   ]
  },
  {
   "cell_type": "markdown",
   "metadata": {},
   "source": [
    "### Using KEGG through the RESTful interface \n",
    "\n",
    "\n",
    "We can decode KEGG pathway codes with an internet connection, using [KEGGREST](http://www.bioconductor.org/packages/KEGGREST)"
   ]
  },
  {
   "cell_type": "code",
   "execution_count": null,
   "metadata": {
    "collapsed": true,
    "scrolled": true
   },
   "outputs": [],
   "source": [
    "library(KEGGREST)\n",
    "lkOne = keggGet(\"hsa03440\")[[1]] # one list element per query element\n",
    "# str(lkOne)\n",
    "lkOne[1:2]\n",
    "krg2df = function(x){\n",
    "    ans = data.frame(t(matrix(x, nrow=2)))\n",
    "    names(ans) = c(\"ENTREZ\", \"ANNO\")\n",
    "    ans\n",
    "    }\n",
    "datatable(krg2df(lkOne$GENE))"
   ]
  },
  {
   "cell_type": "markdown",
   "metadata": {},
   "source": [
    "It is easy to retrieve a PNG image of the pathway of interest, as curated by KEGG."
   ]
  },
  {
   "cell_type": "code",
   "execution_count": null,
   "metadata": {
    "collapsed": true
   },
   "outputs": [],
   "source": [
    "img = keggGet(\"hsa05200\", \"image\")\n",
    "library(grid)\n",
    "grid.raster(img)"
   ]
  },
  {
   "cell_type": "markdown",
   "metadata": {},
   "source": [
    "## The Ensembl resources for _H. sapiens_\n",
    "\n",
    "A compatible approach is available using Ensembl resources.\n",
    "\n",
    "From the [Ensembl home page](http://www.ensembl.org/index.html):\n",
    "\"Ensembl creates, integrates and distributes reference datasets and\n",
    "analysis tools that enable genomics\".  This project is lodged\n",
    "at the [European Molecular Biology Lab](https://www.ebi.ac.uk/),\n",
    "which has been supportive of general interoperation of\n",
    "annotation resources with\n",
    "Bioconductor.\n",
    "\n",
    "The [ensembldb](http://www.bioconductor.org/packages/ensembldb) package includes a vignette\n",
    "with the following commentary:\n",
    "\n",
    "_The ensembldb package provides functions to create and use\n",
    "transcript centric annotation databases/packages. The annotation for the\n",
    "databases are\n",
    "directly fetched from Ensembl 1 using their Perl\n",
    "API. The functionality and data is similar to\n",
    "that of the TxDb packages from the  GenomicFeatures\n",
    "package, but, in addition to retrieve all gene/transcript models\n",
    "and annotations from the database, the\n",
    "ensembldb package provides also a filter framework allowing\n",
    "to retrieve annotations for specific entries like\n",
    "genes encoded on a chromosome region or transcript\n",
    "models of lincRNA genes. From version 1.7 on,\n",
    "EnsDb databases created by the ensembldb package contain\n",
    "also protein annotation data\n",
    "(see [Section 11](http://bioconductor.org/packages/release/bioc/vignettes/ensembldb/inst/doc/ensembldb.html#org35014ed) for\n",
    "the database layout and an\n",
    "overview of available attributes/columns). For more information\n",
    "on the use of the protein annotations refer to the proteins vignette._"
   ]
  },
  {
   "cell_type": "code",
   "execution_count": null,
   "metadata": {
    "collapsed": true
   },
   "outputs": [],
   "source": [
    "library(ensembldb)\n",
    "library(EnsDb.Hsapiens.v75)\n",
    "#data.frame(tabs=names(listTables(EnsDb.Hsapiens.v75)))"
   ]
  },
  {
   "cell_type": "markdown",
   "metadata": {},
   "source": [
    "As an illustration, we'll obtain location and protein sequence for ORMDL3."
   ]
  },
  {
   "cell_type": "code",
   "execution_count": null,
   "metadata": {
    "collapsed": true
   },
   "outputs": [],
   "source": [
    "edb = EnsDb.Hsapiens.v75  # abbreviate\n",
    "#columns(edb)  # learn the names of the columns\n",
    "select(edb, keytype=\"SYMBOL\", keys=\"ORMDL3\", \n",
    "        columns=c(\"GENEID\", \"GENENAME\", \"SEQNAME\", \"GENESEQSTART\", \"GENESEQEND\", \"TXID\", \"PROTEINSEQUENCE\"))"
   ]
  },
  {
   "cell_type": "markdown",
   "metadata": {},
   "source": [
    "## Genomic sequence and gene models for model organisms\n",
    "\n",
    "### Discovering available reference genomes\n",
    "\n",
    "Bioconductor's collection of annotation packages brings\n",
    "all elements of this hierarchy into a programmable environment.\n",
    "Reference genomic sequences are managed using the infrastructure\n",
    "of the Biostrings and BSgenome packages, and the `available.genomes`\n",
    "function lists the reference genome build for humans and\n",
    "various model organisms now available."
   ]
  },
  {
   "cell_type": "code",
   "execution_count": null,
   "metadata": {
    "collapsed": true
   },
   "outputs": [],
   "source": [
    "library(BSgenome)\n",
    "library(DT)\n",
    "ag = available.genomes()\n",
    "datatable(data.frame(packs=ag))"
   ]
  },
  {
   "cell_type": "markdown",
   "metadata": {},
   "source": [
    "### Reference build versions are important\n",
    "\n",
    "The reference build for an organism is created de novo\n",
    "and then refined as algorithms and sequenced data improve.\n",
    "For humans, the Genome Research Consortium signed off on\n",
    "build 37 in 2009, and on build 38 in 2013.\n",
    "\n",
    "Once a reference build is completed, it becomes easy to\n",
    "perform informative genomic sequence analysis on individuals, because one can\n",
    "focus on regions that are known to harbor allelic diversity.\n",
    "\n",
    "Note that the genome sequence packages have long names\n",
    "that include build versions.  It is very important to avoid\n",
    "mixing coordinates from different reference builds.\n",
    "In the liftOver video we show how to convert genomic coordinates of\n",
    "features between different reference builds, using the UCSC\n",
    "\"liftOver\" utility interfaced to R in the\n",
    "rtracklayer package.\n",
    "\n",
    "To help users avoid mixing up data collected on incompatible\n",
    "genomic coordinate systems from different reference builds, we\n",
    "include a \"genome\" tag that can be filled out for most objects\n",
    "that hold sequence information.  We'll see some examples of\n",
    "this shortly.  Software for sequence comparison can check\n",
    "for compatible tags on the sequences\n",
    "being compared, and thereby help to ensure meaningful results.\n",
    "\n",
    "<a name=\"hsap\"></a>\n",
    "\n",
    "## A reference genomic sequence for H. sapiens\n",
    "\n",
    "The reference sequence for *Homo sapiens* is acquired by installing\n",
    "and attaching\n",
    "a single package.  This is in contrast to downloading and parsing\n",
    "FASTA files.  The package defines an object `Hsapiens`\n",
    "that is the source of chromosomal sequence, but when\n",
    "evaluated on its own\n",
    "provides a report of the origins of the sequence data that\n",
    "it contains."
   ]
  },
  {
   "cell_type": "code",
   "execution_count": null,
   "metadata": {
    "collapsed": true
   },
   "outputs": [],
   "source": [
    "library(BSgenome.Hsapiens.UCSC.hg19)\n",
    "Hsapiens"
   ]
  },
  {
   "cell_type": "markdown",
   "metadata": {},
   "source": [
    "We acquire a chromosome's sequence using the `$` operator."
   ]
  },
  {
   "cell_type": "code",
   "execution_count": null,
   "metadata": {
    "collapsed": true
   },
   "outputs": [],
   "source": [
    "Hsapiens$chr17"
   ]
  },
  {
   "cell_type": "markdown",
   "metadata": {},
   "source": [
    "<a name=\"txUCSCnENSEMBLE\"></a>\n",
    "\n",
    "## The transcripts and genes for a reference sequence\n",
    "\n",
    "### UCSC annotation\n",
    "\n",
    "The `TxDb` family of packages and data objects manages\n",
    "information on transcripts and gene models.  We consider\n",
    "those derived from annotation tables prepared for the\n",
    "UCSC genome browser."
   ]
  },
  {
   "cell_type": "code",
   "execution_count": null,
   "metadata": {
    "collapsed": true
   },
   "outputs": [],
   "source": [
    "library(TxDb.Hsapiens.UCSC.hg19.knownGene)\n",
    "txdb = TxDb.Hsapiens.UCSC.hg19.knownGene # abbreviate\n",
    "txdb"
   ]
  },
  {
   "cell_type": "markdown",
   "metadata": {},
   "source": [
    "We can use `genes()` to get the addresses of genes using\n",
    "Entrez Gene IDs."
   ]
  },
  {
   "cell_type": "code",
   "execution_count": null,
   "metadata": {
    "collapsed": true
   },
   "outputs": [],
   "source": [
    "ghs = genes(txdb)\n",
    "ghs"
   ]
  },
  {
   "cell_type": "markdown",
   "metadata": {},
   "source": [
    "Filtering is supported, with suitable identifiers.\n",
    "Here we select all exons identified for two\n",
    "different genes, identified by their Entrez Gene ids:"
   ]
  },
  {
   "cell_type": "code",
   "execution_count": null,
   "metadata": {
    "collapsed": true
   },
   "outputs": [],
   "source": [
    "eForTwo = exons(txdb, columns=c(\"EXONID\", \"TXNAME\", \"GENEID\"),\n",
    "                  filter=list(gene_id=c(100, 101)))\n",
    "eForTwo"
   ]
  },
  {
   "cell_type": "code",
   "execution_count": null,
   "metadata": {
    "collapsed": true
   },
   "outputs": [],
   "source": [
    "split(eForTwo, unlist(eForTwo$GENEID)) #notice that GENEID is a CharacterList"
   ]
  },
  {
   "cell_type": "markdown",
   "metadata": {},
   "source": [
    "## Finding and managing gene sets\n",
    "\n",
    "We've had a brief look at how to use org.Hs.eg.db, GO.db and KEGGREST to identify gene sets defined by ontology categories or pathways.\n",
    "\n",
    "org.Hs.eg.db (and org.Mm.eg.db, org.Sc.sgd.db, etc.) provide GO Annotation mappings as determined by the curating\n",
    "organizations (NCBI, SGD, etc.).  In this context gene sets are essentially vectors of identifiers.\n",
    "\n",
    "KEGGREST delivers more information about its pathways.  Pathways include genes and references to higher-level modules.\n",
    "References to literature and disease association are also provided."
   ]
  },
  {
   "cell_type": "code",
   "execution_count": null,
   "metadata": {
    "collapsed": true
   },
   "outputs": [],
   "source": [
    "str(lkOne)"
   ]
  },
  {
   "cell_type": "markdown",
   "metadata": {},
   "source": [
    "A major repository of curated gene sets is the Broad Institute MSigDb.  We use the [GSEABase](http://www.bioconductor.org/packages/GSEABase) package to examine a snapshot of gene sets\n",
    "annotated to glioblastoma."
   ]
  },
  {
   "cell_type": "code",
   "execution_count": null,
   "metadata": {
    "collapsed": true
   },
   "outputs": [],
   "source": [
    "library(GSEABase)\n",
    "glioG = getGmt(system.file(\"gmt/glioSets.gmt\", package=\"ph525x\"))\n",
    "glioG"
   ]
  },
  {
   "cell_type": "markdown",
   "metadata": {},
   "source": [
    "There are 3671 genes grouped into 47 sets.  The names of the sets and their sizes can be reckoned through"
   ]
  },
  {
   "cell_type": "code",
   "execution_count": null,
   "metadata": {
    "collapsed": true
   },
   "outputs": [],
   "source": [
    "datatable(data.frame(setnms=names(glioG), sizes=\n",
    "                        vapply(glioG, function(x) length(geneIds(x)), numeric(1))))"
   ]
  },
  {
   "cell_type": "markdown",
   "metadata": {},
   "source": [
    "To determine the overlap among gene sets, use code such as the following:"
   ]
  },
  {
   "cell_type": "code",
   "execution_count": null,
   "metadata": {
    "collapsed": true
   },
   "outputs": [],
   "source": [
    "intersect(geneIds(glioG[[8]]), geneIds(glioG[[47]]))"
   ]
  },
  {
   "cell_type": "markdown",
   "metadata": {},
   "source": [
    "### Exercise.  \n",
    "\n",
    "How many genes are shared between the TCGA \"copy number up\" and Classical gene set identified by Verhaak?"
   ]
  },
  {
   "cell_type": "code",
   "execution_count": null,
   "metadata": {
    "collapsed": true
   },
   "outputs": [],
   "source": []
  },
  {
   "cell_type": "markdown",
   "metadata": {},
   "source": [
    "The full structure of the GSEABase GeneSet class allows for inclusion of considerable metadata."
   ]
  },
  {
   "cell_type": "code",
   "execution_count": null,
   "metadata": {
    "collapsed": true
   },
   "outputs": [],
   "source": [
    "details(glioG[[44]])"
   ]
  },
  {
   "cell_type": "markdown",
   "metadata": {},
   "source": [
    "Unfortunately, very little metadata are recorded.  We can add some, recognizing that the Verhaak paper\n",
    "has PMID 20129251, and that the geneIdType is \"symbol\"."
   ]
  },
  {
   "cell_type": "code",
   "execution_count": null,
   "metadata": {
    "collapsed": true
   },
   "outputs": [],
   "source": [
    "vhNeur = glioG[[44]]\n",
    "pubMedIds(vhNeur) = \"20129251\"\n",
    "details(vhNeur)"
   ]
  },
  {
   "cell_type": "markdown",
   "metadata": {},
   "source": [
    "One utility of recording the PMID  is that it simplifies retrieving the abstract of the associated paper:"
   ]
  },
  {
   "cell_type": "code",
   "execution_count": null,
   "metadata": {
    "collapsed": true
   },
   "outputs": [],
   "source": [
    "library(annotate)\n",
    "vhM = pmid2MIAME(\"20129251\")\n",
    "abstract(vhM)"
   ]
  },
  {
   "cell_type": "markdown",
   "metadata": {},
   "source": [
    "Another nice feature of GSEABase is that it simplifies translation between elements of gene sets.  To\n",
    "make use of this, we have to set the identifier type."
   ]
  },
  {
   "cell_type": "code",
   "execution_count": null,
   "metadata": {
    "collapsed": true
   },
   "outputs": [],
   "source": [
    "geneIdType(vhNeur) = SymbolIdentifier()\n",
    "geneIdType(vhNeur) = AnnotationIdentifier(\"org.Hs.eg.db\")\n",
    "vhNeur"
   ]
  },
  {
   "cell_type": "markdown",
   "metadata": {},
   "source": [
    "### Exercise\n",
    "\n",
    "Notice that the translation of symbols to Entrez identifiers just demonstrated reduced the size of the\n",
    "gene set from 129 to 122.  Why?"
   ]
  },
  {
   "cell_type": "markdown",
   "metadata": {},
   "source": [
    "## Ontology concepts and tools with Bioconductor\n",
    "\n",
    "We've seen that GO.db provides gene ontology categories and tags, and org.Hs.eg.db provides mappings between categories and genes.  Many ontologies have been created in the biosciences, and the [ontologyIndex](https://cran.r-project.org/package=ontologyIndex) and [rols](http://www.bioconductor.org/packages/rols)\n",
    "packages are helpful for surveying the field.\n",
    "\n",
    "Here we'll have a look at the Cell Ontology using the [ontoProc](http://www.bioconductor.org/packages/ontoProc) helper package."
   ]
  },
  {
   "cell_type": "code",
   "execution_count": null,
   "metadata": {
    "collapsed": true
   },
   "outputs": [],
   "source": [
    "library(ontoProc)\n",
    "ot = getCellOnto()  # fixed date snapshot\n",
    "ot"
   ]
  },
  {
   "cell_type": "markdown",
   "metadata": {},
   "source": [
    "This shows that the Cell Ontology is composed of selections from a number of bioontologies.\n",
    "\n",
    "We can visualize relationships among terms using [ontologyPlot](https://cran.r-project.org/package=ontologyPlot).  We've selected five different terms related to neuron cells, and the plotting function expands the number of terms displayed to illustrate context."
   ]
  },
  {
   "cell_type": "code",
   "execution_count": null,
   "metadata": {
    "collapsed": true
   },
   "outputs": [],
   "source": [
    "library(ontologyPlot)\n",
    "onto_plot(ot, c(\"CL:0000095\", \"CL:0000679\", \"CL:2000028\", \"CL:1001509\", \"CL:2000031\"))"
   ]
  },
  {
   "cell_type": "markdown",
   "metadata": {},
   "source": [
    "## Round trips: your results as annotation objects\n",
    "\n",
    "We have some textual data in bedGraph format, produced by ENCODE.\n",
    "It gives regions and scores for ESRRA binding in the GM12878 B-cell\n",
    "line."
   ]
  },
  {
   "cell_type": "code",
   "execution_count": null,
   "metadata": {
    "collapsed": true
   },
   "outputs": [],
   "source": [
    "f1 = dir(system.file(\"extdata\",package=\"ERBS\"), full=TRUE)[1]\n",
    "f1\n",
    "readLines(f1, 4) # look at a few lines"
   ]
  },
  {
   "cell_type": "markdown",
   "metadata": {},
   "source": [
    "rtracklayer can be used to import this text to a GRanges instance."
   ]
  },
  {
   "cell_type": "code",
   "execution_count": null,
   "metadata": {
    "collapsed": true
   },
   "outputs": [],
   "source": [
    "library(rtracklayer)\n",
    "bg1 = import.bedGraph(f1)\n",
    "bg1"
   ]
  },
  {
   "cell_type": "markdown",
   "metadata": {},
   "source": [
    "Note that the fields (with the exception of 'score') are unnamed, and the reference genome build is unspecified.  The [narrowPeak format document](https://genome.ucsc.edu/FAQ/FAQformat.html#format12) provides some interpretive help.\n",
    "\n",
    "Clearly, if you had generated these results, you would want to clarify the\n",
    "interpretations of the fields and specify the reference genome build to\n",
    "which the addresses refer.\n",
    "Distributing your results as a GRanges would allow this binding of metadata\n",
    "to the experimental outcome.\n",
    "\n",
    "In the event you need to transform data that you have as a GRanges to\n",
    "a textual format, the `export` method of rtracklayer can perform this."
   ]
  },
  {
   "cell_type": "code",
   "execution_count": null,
   "metadata": {
    "collapsed": true
   },
   "outputs": [],
   "source": [
    "td = tempdir()\n",
    "tf = paste0(td, \"/demoex.bed\")\n",
    "export(bg1, tf)  # implicit format choice\n",
    "cat(readLines(tf, n=5), sep=\"\\n\")"
   ]
  },
  {
   "cell_type": "markdown",
   "metadata": {},
   "source": [
    "We have carried out a “round trip” of importing, modeling, and exporting experimental data that can be integrated with other data to advance biological understanding.\n",
    "\n",
    "What we have to watch out for is the idea that annotation is somehow permanently correct, isolated from the cacophony of research progress at the boundaries of knowledge. We have seen that even the reference sequences of human chromosomes are subject to revision. \n",
    "\n",
    "Bioconductor has taken pains to acknowledge many facets of this situation. We maintain archives of prior versions of software and annotation so that past work can be checked or revised. We update central annotation resources twice a year so that there is stability for ongoing work as well as access to new knowledge. And we have made it simple to import and to create representations of experimental and annotation data."
   ]
  },
  {
   "cell_type": "markdown",
   "metadata": {},
   "source": [
    "## AnnotationHub -- curated access to reference annotation\n",
    "\n",
    "From the [AnnotationHub](http://www.bioconductor.org/packages/AnnotationHub) vignette:\n",
    "\n",
    "_The AnnotationHub server provides easy R / Bioconductor access to large collections of publicly available whole genome resources, e.g,. ENSEMBL genome fasta or gtf files, UCSC chain resources, ENCODE data tracks at UCSC, etc._\n",
    "\n",
    "We will get a general overview and then carry out a detailed query.  We start by loading the package\n",
    "and obtaining a hub object."
   ]
  },
  {
   "cell_type": "code",
   "execution_count": null,
   "metadata": {
    "collapsed": true
   },
   "outputs": [],
   "source": [
    "library(AnnotationHub)\n",
    "ah = AnnotationHub()\n",
    "ah"
   ]
  },
  {
   "cell_type": "markdown",
   "metadata": {},
   "source": [
    "Note that there is a specific snapshot date.  The `mcols` method produces metadata about\n",
    "the various resources.  The `$` shortcut also works."
   ]
  },
  {
   "cell_type": "code",
   "execution_count": null,
   "metadata": {
    "collapsed": true
   },
   "outputs": [],
   "source": [
    "dim(mcols(ah))"
   ]
  },
  {
   "cell_type": "markdown",
   "metadata": {},
   "source": [
    "The `rdataclass` field of the metadata tells us what kinds of representations are available."
   ]
  },
  {
   "cell_type": "code",
   "execution_count": null,
   "metadata": {
    "collapsed": true
   },
   "outputs": [],
   "source": [
    "table(ah$rdataclass)"
   ]
  },
  {
   "cell_type": "markdown",
   "metadata": {},
   "source": [
    "### The query method"
   ]
  },
  {
   "cell_type": "markdown",
   "metadata": {},
   "source": [
    " We can use the `query` method to look for `records` concerning resources available in the hub.  An algorithm\n",
    " for labeling chromatin regions according to epigenetic state is `ChromHmm` and we search for records concerning\n",
    " its application."
   ]
  },
  {
   "cell_type": "code",
   "execution_count": null,
   "metadata": {
    "collapsed": true
   },
   "outputs": [],
   "source": [
    "q1 = query(ah, \"ChromHmm\")\n",
    "q1"
   ]
  },
  {
   "cell_type": "markdown",
   "metadata": {},
   "source": [
    "Metadata related to this query can be displayed for deeper searching."
   ]
  },
  {
   "cell_type": "code",
   "execution_count": null,
   "metadata": {
    "collapsed": true
   },
   "outputs": [],
   "source": [
    "datatable(as.data.frame(mcols(q1)))"
   ]
  },
  {
   "cell_type": "markdown",
   "metadata": {},
   "source": [
    "### Retrieval\n",
    "\n",
    "Recall the rdataclass query above."
   ]
  },
  {
   "cell_type": "code",
   "execution_count": null,
   "metadata": {
    "collapsed": true
   },
   "outputs": [],
   "source": [
    "table(ah$rdataclass)"
   ]
  },
  {
   "cell_type": "markdown",
   "metadata": {},
   "source": [
    "What do the VCF files represent?"
   ]
  },
  {
   "cell_type": "code",
   "execution_count": null,
   "metadata": {
    "collapsed": true,
    "scrolled": false
   },
   "outputs": [],
   "source": [
    "datatable(as.data.frame(mcols(ah)[which(ah$rdataclass==\"VcfFile\"),]))"
   ]
  },
  {
   "cell_type": "markdown",
   "metadata": {},
   "source": [
    "Let's obtain the first ClinVar file.  We use [[ with the tag.  If we have not done this previously, the resource\n",
    "is added to our AnnotationHub cache."
   ]
  },
  {
   "cell_type": "code",
   "execution_count": null,
   "metadata": {
    "collapsed": true
   },
   "outputs": [],
   "source": [
    "cv1 = ah[[\"AH57956\"]]\n",
    "cv1"
   ]
  },
  {
   "cell_type": "markdown",
   "metadata": {},
   "source": [
    "We'll look at the header for some hints."
   ]
  },
  {
   "cell_type": "code",
   "execution_count": null,
   "metadata": {
    "collapsed": true
   },
   "outputs": [],
   "source": [
    "cv1h = scanVcfHeader(cv1)\n",
    "cv1h"
   ]
  },
  {
   "cell_type": "markdown",
   "metadata": {},
   "source": [
    "The META component is usually informative."
   ]
  },
  {
   "cell_type": "code",
   "execution_count": null,
   "metadata": {
    "collapsed": true,
    "scrolled": true
   },
   "outputs": [],
   "source": [
    "meta(cv1h)$META"
   ]
  },
  {
   "cell_type": "markdown",
   "metadata": {},
   "source": [
    "We'll now use `readVcf` to extract content on a region of interest."
   ]
  },
  {
   "cell_type": "code",
   "execution_count": null,
   "metadata": {
    "collapsed": true
   },
   "outputs": [],
   "source": [
    "rv1 = readVcf(cv1, genome=\"GRCh37.p13\", param=ScanVcfParam(which=GRanges(\"1\", IRanges(949000, 996000))))\n",
    "rv1"
   ]
  },
  {
   "cell_type": "markdown",
   "metadata": {},
   "source": [
    "We now have metadata on 42 variants in the region of interest we specified.  The addresses are:"
   ]
  },
  {
   "cell_type": "code",
   "execution_count": null,
   "metadata": {
    "collapsed": true
   },
   "outputs": [],
   "source": [
    "rowRanges(rv1)"
   ]
  },
  {
   "cell_type": "markdown",
   "metadata": {},
   "source": [
    "The `info` metadata component can be picked apart into sets of columns.  The first 10 columns are basic annotation."
   ]
  },
  {
   "cell_type": "code",
   "execution_count": null,
   "metadata": {
    "collapsed": true
   },
   "outputs": [],
   "source": [
    "info(rv1)[,1:10]"
   ]
  },
  {
   "cell_type": "markdown",
   "metadata": {},
   "source": [
    "The last nine columns are for clinical genetics interpretation."
   ]
  },
  {
   "cell_type": "code",
   "execution_count": null,
   "metadata": {
    "collapsed": true
   },
   "outputs": [],
   "source": [
    "info(rv1)[,50:58]"
   ]
  },
  {
   "cell_type": "markdown",
   "metadata": {},
   "source": [
    "To get more information like the link for the [variation property bitfield](ftp://ftp.ncbi.nlm.nih.gov/snp/specs/dbSNP_BitField_latest.pdf) you can use the info accessor on the header."
   ]
  },
  {
   "cell_type": "code",
   "execution_count": null,
   "metadata": {
    "collapsed": true
   },
   "outputs": [],
   "source": [
    "info(header(rv1))"
   ]
  },
  {
   "cell_type": "markdown",
   "metadata": {},
   "source": [
    "### AnnotationHub roundup\n",
    "\n",
    "In summary, AnnotationHub can harbor detailed information on many aspects of modern systems\n",
    "biology.  Once you have identified something useful, it will be downloaded to your local\n",
    "system and cached, so that the retrieval need not recur.  If the hub version is updated, the\n",
    "cache will be checked and refreshed as needed.\n",
    "\n",
    "## Annotation roundup\n",
    "\n",
    "This has been a wide-ranging review of genomic annotation resources in Bioconductor.  I'll annotate\n",
    "the road map with key functions and packages.\n",
    "```\n",
    "General overview of Bioconductor annotation\n",
    "  Levels: reference sequence, regions of interest, pathways\n",
    "     -- BSgenome.Hsapiens.UCSC.hg19, genes(Homo.sapiens)\n",
    "  OrgDb: simple interface to annotation databases\n",
    "     -- org.Hs.eg.db\n",
    "  Discovering reference sequence\n",
    "     -- available.genomes\n",
    "  A build of the human genome\n",
    "     -- Hsapiens$chr17\n",
    "  Gene/Transcript/Exon catalogs from UCSC and Ensembl\n",
    "     -- TxDb.Hsapiens.UCSC.hg19.knownGene, EnsDb.Hsapiens.v75\n",
    "  Finding and managing gene sets\n",
    "     -- GSEABase, KEGGREST\n",
    "  \n",
    "Specific annotation concerns\n",
    "  Ontology concepts and tools\n",
    "     -- ontoProc, ontologyPlot, rols\n",
    "  Importing and exporting regions and scores\n",
    "     -- rtracklayer\n",
    "  AnnotationHub: brokering thousands of annotation resources\n",
    "     -- AnnotationHub, query(), ah[[...]]\n",
    "```\n",
    "\n"
   ]
  },
  {
   "cell_type": "code",
   "execution_count": null,
   "metadata": {
    "collapsed": true
   },
   "outputs": [],
   "source": []
  }
 ],
 "metadata": {
  "kernelspec": {
   "display_name": "R",
   "language": "R",
   "name": "ir"
  },
  "language_info": {
   "codemirror_mode": "r",
   "file_extension": ".r",
   "mimetype": "text/x-r-source",
   "name": "R",
   "pygments_lexer": "r",
   "version": "3.5.0"
  }
 },
 "nbformat": 4,
 "nbformat_minor": 2
}
