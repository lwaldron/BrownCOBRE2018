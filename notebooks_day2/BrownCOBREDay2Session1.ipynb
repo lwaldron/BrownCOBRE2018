{
 "cells": [
  {
   "cell_type": "markdown",
   "metadata": {},
   "source": [
    "---\n",
    "title: \"Period 1 -  Standard analyses for RNA seq data (unsupervised)\"\n",
    "author: \"Levi Waldron\"\n",
    "date: \"2/19/2018\"\n",
    "output: \n",
    "  html_document: \n",
    "    keep_md: yes\n",
    "    number_sections: yes\n",
    "    toc: yes\n",
    "---\n",
    "\n",
    "\n",
    "\n",
    "# Abstract\n",
    "\n",
    "This workshop summarizes the main approaches to analyzing sequencing data to obtain per-gene count data, but does not go through how to do it explicitly. It demonstrates approaches to reading, annotating, and summarizing count data using [tximport](http://bioconductor.org/packages/) and various Bioconductor annotation resources, followed by unsupervised exploratory data analysis.\n",
    "\n",
    "This workshop uses quotes and materials from [RNA-seq workflow: gene-level exploratory analysis and differential expression](https://www.bioconductor.org/help/workflows/rnaseqGene/) by Love, Anders, Kim, and Huber.\n",
    "\n",
    "#  Approaches to processing raw data: alignment vs. alignment-free methods\n",
    "\n",
    "The computational analysis of an RNA-seq experiment begins from the FASTQ files that contain the nucleotide sequence of each read and a quality score at each position. These reads are either **aligned** to a reference genome or transcriptome, or the abundances and estimated counts per transcript can be estimated **without alignment**. For a paired-end experiment, the software will require both FASTQ files. The output of this alignment step is commonly stored in a file format called SAM/BAM.\n",
    "\n",
    "RNA-seq aligners differ from DNA aligners in their ability to recognize intron-sized gaps that are spliced from transcripts, and their objective of counting transcripts. [Baruzzo et al. 2017](https://www.nature.com/articles/nmeth.4106) provide a useful summary of software for aligning RNA-seq reads to a reference genome, and benchmark these using synthetic data for base-level and splice junction precision and recall, sensitivity to tuning parameters, and runtime performance. Some popular alignment-based tools include STAR, TopHat2, Subread, and Novoalign. *de novo* alignment does not use a reference genome: while it offers the possibility of discovering novel transcripts in rearranged genomes and poorly sequenced genomes, it requires more resources and manual effort and is less accurate for known transcripts, and for most people working with model organisms it is probably not a good option. \n",
    "\n",
    "Alignment-free tools have gained popularity for their fast performance and low memory requirements while maintaining good accuracy.  Instead of directly aligning RNA-seq reads to a reference genome, they perform \"pseudo-alignment\" by assigning reads to transcripts that contain compatible k-mers. The most popular of these tools are [Salmon](https://combine-lab.github.io) and [Kallisto](https://pachterlab.github.io/kallisto/). These generate a table of read counts directly without the need for a SAM/BAM file as a starting or intermediate step. \n",
    "\n",
    "You can easily perform RNA-seq alignment in R using [Rsubread](http://bioconductor.org/packages/Rsubread) and [GenomicAlignments](http://bioconductor.org/packages/GenomicAlignments), but the rest of this workshop assumes you are starting with the output some sequence analysis pipeline.\n",
    "\n",
    "Personally, I would recommend using pseudo-alignment by Salmon [according to this tutorial](https://combine-lab.github.io/salmon/getting_started/) to process raw reads to TPM. \n",
    "It is a very fast, accurate, well-tested, and well-documented command-line tool. It is\n",
    "especially Bioconductor-friendly, because the \n",
    "[tximport vignette](https://bioconductor.org/packages/release/bioc/vignettes/tximport/inst/doc/tximport.html) \n",
    "includes steps to import Salmon results as a *DESeqDataSet* object for use in the [DESeq2](http://bioconductor.org/packages/DESeq2) package.\n",
    "\n",
    "#  Annotating and importing expression counts\n",
    "\n",
    "## Measures of transcript abundance\n",
    "\n",
    "The differential expression analyses introduced here assume you are analyzing a count table of Transcripts Per Million (TPM) or Counts Per Million (CPM) by samples. Note that while TPM and CPM would order the abundance of different transcripts very differently, for differential expression these differences are not as important. You should **not** use Fragments Per Kilobase per Million reads (FPKM) or otherwise normalize by library size / read depth. The negative binomial log-linear statistical model used by [DESeq2](http://bioconductor.org/packages/DESeq2) and [edgeR](http://bioconductor.org/packages/) are intended for use on count data, and achieve better performance than can be achieved with read depth-normalized data. \n",
    "\n",
    "## Importing with tximport\n",
    "\n",
    "The [tximport vignette](https://bioconductor.org/packages/release/bioc/vignettes/tximport/inst/doc/tximport.html) demonstrates \n",
    "the import of quantification files generated by the Salmon software, but also provides example data and methods of import for other popular RNA-seq quantification software:"
   ]
  },
  {
   "cell_type": "code",
   "execution_count": null,
   "metadata": {},
   "outputs": [],
   "source": [
    "library(tximportData)\n",
    "datadir <- system.file(\"extdata\", package = \"tximportData\")\n",
    "list.files(datadir)"
   ]
  },
  {
   "cell_type": "markdown",
   "metadata": {},
   "source": [
    "Next, we create a named vector pointing to the quantification\n",
    "files. We will create a vector of filenames first by reading in a\n",
    "table that contains the sample IDs, and then combining this with `dir`\n",
    "and `\"quant.sf\"`."
   ]
  },
  {
   "cell_type": "code",
   "execution_count": null,
   "metadata": {},
   "outputs": [],
   "source": [
    "samples <- read.table(file.path(datadir, \"samples.txt\"), header=TRUE)\n",
    "samples\n",
    "files <- file.path(datadir, \"salmon\", samples$run, \"quant.sf\")\n",
    "names(files) <- paste0(\"sample\",1:6)\n",
    "all(file.exists(files))"
   ]
  },
  {
   "cell_type": "markdown",
   "metadata": {},
   "source": [
    "The *tximport* package has a single function for importing\n",
    "transcript-level estimates.  The `type` argument is used to specify\n",
    "what software was used for estimation (\"kallisto\", \"salmon\",\n",
    "\"sailfish\", and \"rsem\" are implemented).  A simple list with\n",
    "matrices, \"abundance\", \"counts\", and \"length\", is returned, where the\n",
    "transcript level information is summarized to the gene-level.  The\n",
    "\"length\" matrix can be used to generate an offset matrix for\n",
    "downstream gene-level differential analysis of count matrices, as\n",
    "shown below.\n",
    "\n",
    "**Note**: While *tximport* works without any dependencies, it is\n",
    "significantly faster to read in files using the *readr* package.  If\n",
    "*tximport* detects that *readr* is installed, then it will use the\n",
    "`readr::read_tsv` function by default. A change from version 1.2 to\n",
    "1.4 is that the reader is not specified by the user anymore, but\n",
    "chosen automatically based on the availability of the *readr*\n",
    "package. Advanced users can still customize the import of files using\n",
    "the `importer` argument.\n",
    "\n",
    "The following imports transcript-level counts *without* summarizing to gene level:"
   ]
  },
  {
   "cell_type": "code",
   "execution_count": null,
   "metadata": {},
   "outputs": [],
   "source": [
    "library(tximport)\n",
    "library(readr)\n",
    "txi <- tximport(files, type=\"salmon\", txOut=TRUE)\n",
    "##txi <- tximport(files, type=\"salmon\", tx2gene=tx2gene)\n",
    "names(txi)\n",
    "head(txi$counts)"
   ]
  },
  {
   "cell_type": "markdown",
   "metadata": {},
   "source": [
    "## Annotating transcripts to genes and summarizing\n",
    "\n",
    "If your (pseudo-) alignment software provides a map between transcripts and genes, you can specify that map in `tximport` to summarize  counts at the gene level in the same step (see the `tx2gene` argument of `?tximport::tximport). For this example, such a map is included in the `tximportData` package and is available by doing:"
   ]
  },
  {
   "cell_type": "code",
   "execution_count": null,
   "metadata": {},
   "outputs": [],
   "source": [
    "tx2gene <- read.csv(file.path(datadir, \"tx2gene.csv\"))"
   ]
  },
  {
   "cell_type": "markdown",
   "metadata": {},
   "source": [
    "Otherwise, you have some options, using either built-in Bioconductor annotations resources:\n",
    "\n",
    "**Option 1.** If you have used an *Ensembl* transcriptome for (pseudo-)alignment, you can use one of the\n",
    "[ensembldb](http://bioconductor.org/packages/ensembldb) packages to create the transcript to gene map. \n",
    "You *can* use the following shortcut method with `ensembldb` packages:"
   ]
  },
  {
   "cell_type": "code",
   "execution_count": null,
   "metadata": {},
   "outputs": [],
   "source": [
    "library(EnsDb.Hsapiens.v86)\n",
    "## the different units you could summarize by:\n",
    "listColumns(EnsDb.Hsapiens.v86)\n",
    "tx3gene <- transcripts(EnsDb.Hsapiens.v86, columns=\"symbol\", \n",
    "                  return.type=\"DataFrame\")\n",
    "(tx3gene <- tx3gene[, 2:1])"
   ]
  },
  {
   "cell_type": "markdown",
   "metadata": {},
   "source": [
    "But there is a more general-purpose method that works both for `EnsDb` databases and for `TxDb` databases:"
   ]
  },
  {
   "cell_type": "code",
   "execution_count": null,
   "metadata": {},
   "outputs": [],
   "source": [
    "library(EnsDb.Hsapiens.v86)\n",
    "keytypes(EnsDb.Hsapiens.v86)\n",
    "columns(EnsDb.Hsapiens.v86)\n",
    "k <- keys(EnsDb.Hsapiens.v86, \"TXNAME\")\n",
    "tx4gene <- select(EnsDb.Hsapiens.v86, keys=k, \n",
    "                  keytype = \"TXNAME\", columns = \"SYMBOL\")\n",
    "tx4gene <- tx4gene[, 3:2]\n",
    "# Check that this method is equivalent to the previous one:\n",
    "all.equal(tx4gene[, 1], tx3gene[, 1])\n",
    "all.equal(tx4gene[, 2], tx3gene[, 2])"
   ]
  },
  {
   "cell_type": "markdown",
   "metadata": {},
   "source": [
    "**Option 2.** Bioconductor `TxDb.*` packages, which are available for a number of model species (search for \"TxDb\" at https://bioconductor.org/packages/3.6/data/annotation/). These are slightly less convenient for this purpose than the Ensembl packages. For example, there is a TxDb package Mus Musculus from UCSC build mm10 based on the knownGene Track:"
   ]
  },
  {
   "cell_type": "code",
   "execution_count": null,
   "metadata": {},
   "outputs": [],
   "source": [
    "library(TxDb.Mmusculus.UCSC.mm10.knownGene)\n",
    "txdb <- TxDb.Mmusculus.UCSC.mm10.knownGene\n",
    "keytypes(txdb)\n",
    "k <- keys(txdb, \"TXNAME\")\n",
    "columns(txdb)\n",
    "tx4gene <- select(txdb, keys=k, keytype=\"TXNAME\", column=\"GENEID\")"
   ]
  },
  {
   "cell_type": "markdown",
   "metadata": {},
   "source": [
    "**Option 3.** Find a TxDb from AnnotationHub\n",
    "\n",
    "This opens up more annotation files from different sources. First find and choose a TxDb database:"
   ]
  },
  {
   "cell_type": "code",
   "execution_count": null,
   "metadata": {},
   "outputs": [],
   "source": [
    "library(AnnotationHub)\n",
    "ah <- AnnotationHub()\n",
    "query(ah, \"TxDb\")\n",
    "txdb <- ah[[\"AH52245\"]] #TxDb.Athaliana.BioMart.plantsmart22.sqlite"
   ]
  },
  {
   "cell_type": "markdown",
   "metadata": {},
   "source": [
    "Then use it to create the transcript-gene map:"
   ]
  },
  {
   "cell_type": "code",
   "execution_count": null,
   "metadata": {},
   "outputs": [],
   "source": [
    "keytypes(txdb)\n",
    "columns(txdb)\n",
    "k <- keys(txdb, \"TXNAME\")\n",
    "tx5gene <- select(txdb, keys=k, keytype=\"TXNAME\", column=\"GENEID\")\n",
    "head(tx5gene)"
   ]
  },
  {
   "cell_type": "markdown",
   "metadata": {},
   "source": [
    "** Option 4.** Import a GFF annotation file from somewhere else.\n",
    "\n",
    "To convert the GFF file these to a TxDb database, use the `makeTxDbFromGFF()` function from the `GenomicFeatures` package:"
   ]
  },
  {
   "cell_type": "code",
   "execution_count": null,
   "metadata": {},
   "outputs": [],
   "source": [
    "library(GenomicFeatures)\n",
    "gffFile <- system.file(\"extdata\", \"GFF3_files\", \"a.gff3\", \n",
    "                       package=\"GenomicFeatures\")\n",
    "txdb <- makeTxDbFromGFF(file=gffFile,\n",
    "            dataSource=\"partial gtf file for Tomatoes for testing\",\n",
    "            organism=\"Solanum lycopersicum\")\n",
    "keytypes(txdb)\n",
    "columns(txdb)\n",
    "k <- keys(txdb, \"TXNAME\")\n",
    "tx6gene <- select(txdb, keys=k, keytype=\"TXNAME\", column=\"GENEID\")\n",
    "head(tx5gene)"
   ]
  },
  {
   "cell_type": "markdown",
   "metadata": {},
   "source": [
    "Note, the `GenomicFeatures` package enables you to make a TxDb from a variety of sources:"
   ]
  },
  {
   "cell_type": "code",
   "execution_count": null,
   "metadata": {},
   "outputs": [],
   "source": [
    "grep(\"makeTxDb\", ls(\"package:GenomicFeatures\"), val=TRUE)"
   ]
  },
  {
   "cell_type": "markdown",
   "metadata": {},
   "source": [
    "So wherever you get your gene models from, you can convert it to a `TxDb` and use the same powerful `select()` commands and other Bioconductor database features.\n",
    "\n",
    "Finally, however you created your transcript to gene map, you can use it to summarize transcripts to genes:"
   ]
  },
  {
   "cell_type": "code",
   "execution_count": null,
   "metadata": {},
   "outputs": [],
   "source": [
    "txi.sum <- summarizeToGene(txi, tx2gene)"
   ]
  },
  {
   "cell_type": "markdown",
   "metadata": {},
   "source": [
    "# The SummarizedExperiment object for representing experimental data\n",
    "\n",
    "[!SummarizedExperiment.jpeg]\n",
    "\n",
    "**The component parts of a *SummarizedExperiment* object.** \n",
    "\n",
    "* `assay(se)` or `assays(se)$count` contains the matrix of counts\n",
    "* `colData(se)` may contain data about the columns, e.g. patients or biological units\n",
    "* `rowData(se)` may contain data about the rows, e.g. transcript annotations\n",
    "* `rowRanges(se)` may contain ranges data for the transcripts\n",
    "* `exptData(se)` may contain information about the experiment\n",
    "\n",
    "The `rowRanges` for data summarized at the gene level could be a *GRanges* providing ranges of genes, or a *GRangesList* providing ranges of exons grouped by gene.  Both are accessible from TxDb objects, for example the last one created above:"
   ]
  },
  {
   "cell_type": "code",
   "execution_count": null,
   "metadata": {},
   "outputs": [],
   "source": [
    "genes(txdb)\n",
    "exonsBy(txdb)"
   ]
  },
  {
   "cell_type": "markdown",
   "metadata": {},
   "source": [
    "Some exploratory analysis of a demo `RangedSummarizedExperiment`:"
   ]
  },
  {
   "cell_type": "code",
   "execution_count": null,
   "metadata": {},
   "outputs": [],
   "source": [
    "library(airway)\n",
    "data(airway)\n",
    "airway\n",
    "dim(airway)\n",
    "assayNames(airway)\n",
    "head(assay(airway), 3)\n",
    "colSums(assay(airway))"
   ]
  },
  {
   "cell_type": "markdown",
   "metadata": {},
   "source": [
    "The `rowRanges` here is a *GRangesList*. The first gene contains 17 exons:"
   ]
  },
  {
   "cell_type": "code",
   "execution_count": null,
   "metadata": {},
   "outputs": [],
   "source": [
    "rowRanges(airway)"
   ]
  },
  {
   "cell_type": "markdown",
   "metadata": {},
   "source": [
    "The `rowRanges` also contains metadata about the construction\n",
    "of the gene model in the `metadata` slot. Here we use a helpful R\n",
    "function, `str`, to display the metadata compactly:"
   ]
  },
  {
   "cell_type": "code",
   "execution_count": null,
   "metadata": {},
   "outputs": [],
   "source": [
    "str(metadata(rowRanges(airway)))"
   ]
  },
  {
   "cell_type": "markdown",
   "metadata": {},
   "source": [
    "The `colData`:"
   ]
  },
  {
   "cell_type": "code",
   "execution_count": null,
   "metadata": {},
   "outputs": [],
   "source": [
    "colData(airway)"
   ]
  },
  {
   "cell_type": "markdown",
   "metadata": {},
   "source": [
    "## Exercise\n",
    "\n",
    "Create your own *SummarizedExperiment* and *RangedSummarizedExperiment* objects using the examples in `?SummarizedExperiment`. *SummarizedExperiment* objects can be the starting point for many analyses.\n",
    "\n",
    "#  Exploratory data analysis\n",
    "\n",
    "## Standardization / transformation of count data for visual exploration\n",
    "\n",
    "Features (e.g. genes) are typically \"standardized\": \n",
    " * because the differences in overall levels between features are often not due to biological effects but technical ones, *e.g.* GC bias, PCR amplification efficiency, ...\n",
    " * because we don't want a few very high-variance genes to dominate the distance (a judgement call)\n",
    "\n",
    "Standardization traditionally meant converting to z-score:\n",
    "\n",
    "$$x_{gi} \\leftarrow \\frac{(x_{gi} - \\bar{x}_g)}{s_g}$$     \n",
    "\n",
    "But `DESeq2` and `edgeR` provide their own RNA-seq specific standardization methods.\n",
    "\n",
    "We will use standardization for the purposes of visualization below, but for statistical testing in the next period, we will go back to the original count data \n",
    "as required by the statistical procedures used.\n",
    "\n",
    "## Exploring the airway dataset\n",
    "\n",
    "Once we have our fully annotated *SummarizedExperiment* object,\n",
    "we can construct a *DESeqDataSet* object from it that will then form\n",
    "the starting point of the analysis.\n",
    "We add an appropriate design for the analysis (more on model formulae in the next period):"
   ]
  },
  {
   "cell_type": "code",
   "execution_count": null,
   "metadata": {},
   "outputs": [],
   "source": [
    "library(\"DESeq2\")"
   ]
  },
  {
   "cell_type": "code",
   "execution_count": null,
   "metadata": {},
   "outputs": [],
   "source": [
    "dds <- DESeqDataSet(airway, design = ~ cell + dex)"
   ]
  },
  {
   "cell_type": "markdown",
   "metadata": {},
   "source": [
    "## Pre-filtering the dataset\n",
    "\n",
    "Our count matrix contains many rows with only\n",
    "zeros, and additionally many rows with only a few fragments total. In\n",
    "order to reduce the size of the object, and to increase the speed of\n",
    "our functions, we can remove the rows that have no or nearly no\n",
    "information about the amount of gene expression.  Here we apply the\n",
    "most minimal filtering rule: removing rows of the *DESeqDataSet* that\n",
    "have no counts, or only a single count across all samples. Additional\n",
    "weighting/filtering to improve power is applied at a later step in the\n",
    "workflow."
   ]
  },
  {
   "cell_type": "code",
   "execution_count": null,
   "metadata": {},
   "outputs": [],
   "source": [
    "nrow(dds)\n",
    "dds <- dds[ rowSums(counts(dds)) > 1, ]\n",
    "nrow(dds)"
   ]
  },
  {
   "cell_type": "markdown",
   "metadata": {},
   "source": [
    "**Note**: For differential expression analysis later, filtering is \n",
    "allowable but not necessary if using \"Independent Hypothesis Weighting\",\n",
    "as is the default behavior of `DESeq2`.\n",
    "\n",
    "## The rlog and variance stabilizing transformations\n",
    "\n",
    "Many common statistical methods for exploratory analysis of\n",
    "multidimensional data, for example clustering and *principal\n",
    "components analysis* (PCA), work best for data that generally has the\n",
    "same range of variance at different ranges of the mean values. When\n",
    "the expected amount of variance is approximately the same across\n",
    "different mean values, the data is said to be *homoskedastic*. For\n",
    "RNA-seq counts, however, the expected variance grows with the mean. For\n",
    "example, if one performs PCA directly on a matrix of\n",
    "counts or normalized counts (e.g. correcting for differences in\n",
    "sequencing depth), the resulting plot typically depends mostly\n",
    "on the genes with *highest* counts because they show the largest\n",
    "absolute differences between samples. A simple and often used\n",
    "strategy to avoid this is to take the logarithm of the normalized\n",
    "count values plus a pseudocount of 1; however, depending on the\n",
    "choice of pseudocount, now the genes with the very *lowest* counts\n",
    "will contribute a great deal of noise to the resulting plot, because\n",
    "taking the logarithm of small counts actually inflates their variance.\n",
    "We can quickly show this property of counts with some simulated\n",
    "data (here, Poisson counts with a range of lambda from 0.1 to 100).\n",
    "We plot the standard deviation of each row (genes) against the mean:"
   ]
  },
  {
   "cell_type": "code",
   "execution_count": null,
   "metadata": {},
   "outputs": [],
   "source": [
    "lambda <- 10^seq(from = -1, to = 2, length = 1000)\n",
    "cts <- matrix(rpois(1000*100, lambda), ncol = 100)\n",
    "library(vsn)\n",
    "meanSdPlot(cts, ranks = FALSE)"
   ]
  },
  {
   "cell_type": "markdown",
   "metadata": {},
   "source": [
    "And for logarithm-transformed counts:"
   ]
  },
  {
   "cell_type": "code",
   "execution_count": null,
   "metadata": {},
   "outputs": [],
   "source": [
    "log.cts.one <- log2(cts + 1)\n",
    "meanSdPlot(log.cts.one, ranks = FALSE)"
   ]
  },
  {
   "cell_type": "markdown",
   "metadata": {},
   "source": [
    "The logarithm with a small pseudocount amplifies differences when the\n",
    "values are close to 0. The low count genes with low signal-to-noise\n",
    "ratio will overly contribute to sample-sample distances and PCA\n",
    "plots. \n",
    "\n",
    "As a solution, *DESeq2* offers two transformations for count data that\n",
    "stabilize the variance across the mean: the \n",
    "*regularized-logarithm transformation* or *rlog* [@Love2014Moderated],\n",
    "and the *variance stabilizing transformation* (VST)\n",
    "for negative binomial data with a dispersion-mean trend\n",
    "[@Anders2010Differential], implemented in the *vst* function.\n",
    "\n",
    "For genes with high counts, the rlog and VST will give similar result\n",
    "to the ordinary log2 transformation of normalized counts.  For genes\n",
    "with lower counts, however, the values are shrunken towards the genes'\n",
    "averages across all samples. The rlog-transformed or VST data then\n",
    "becomes approximately homoskedastic, and can be used directly for\n",
    "computing distances between samples, making PCA plots, or as input to\n",
    "downstream methods which perform best with homoskedastic data.\n",
    "\n",
    "**Which transformation to choose?** The rlog tends to work well on\n",
    "small datasets (n < 30), sometimes outperforming the VST when there is\n",
    "a large range of sequencing depth across samples (an order of\n",
    "magnitude difference). The VST is much faster to compute and is less\n",
    "sensitive to high count outliers than the rlog. We therefore recommend\n",
    "the VST for large datasets (hundreds of samples). You can perform both\n",
    "transformations and compare the `meanSdPlot` or PCA plots generated,\n",
    "as described below.\n",
    "\n",
    "Note that the two transformations offered by DESeq2 are provided for\n",
    "applications *other* than differential testing. \n",
    "For differential testing we recommend the\n",
    "*DESeq* function applied to raw counts, as described later\n",
    "in this workflow, which also takes into account the dependence of the\n",
    "variance of counts on the mean value during the dispersion estimation\n",
    "step.\n",
    "\n",
    "The function *rlog* returns an object based on the *SummarizedExperiment*\n",
    "class that contains the rlog-transformed values in its *assay* slot."
   ]
  },
  {
   "cell_type": "code",
   "execution_count": null,
   "metadata": {},
   "outputs": [],
   "source": [
    "rld <- rlog(dds, blind = FALSE)\n",
    "head(assay(rld), 3)\n",
    "meanSdPlot(assay(rld), ranks=FALSE)"
   ]
  },
  {
   "cell_type": "markdown",
   "metadata": {},
   "source": [
    "The function *vst* returns a similar object:"
   ]
  },
  {
   "cell_type": "code",
   "execution_count": null,
   "metadata": {},
   "outputs": [],
   "source": [
    "vsd <- vst(dds, blind = FALSE)\n",
    "head(assay(vsd), 3)\n",
    "meanSdPlot(assay(vsd), ranks=FALSE)"
   ]
  },
  {
   "cell_type": "markdown",
   "metadata": {},
   "source": [
    "In the above function calls, we specified `blind = FALSE`, which means\n",
    "that differences between cell lines and treatment (the variables in\n",
    "the design) will not contribute to the expected variance-mean trend of\n",
    "the experiment. The experimental design is not used directly in the\n",
    "transformation, only in estimating the global amount of variability in\n",
    "the counts.  For a fully *unsupervised* transformation, one can set\n",
    "`blind = TRUE` (which is the default).\n",
    "\n",
    "To show the effect of the transformation, in the figure below\n",
    "we plot the first sample\n",
    "against the second, first simply using the *log2* function (after adding\n",
    "1, to avoid taking the log of zero), and then using the rlog- and VST-transformed\n",
    "values. For the *log2* approach, we need to first estimate *size factors* to\n",
    "account for sequencing depth, and then specify `normalized=TRUE`.\n",
    "Sequencing depth correction is done automatically for the *rlog*\n",
    "and the *vst*."
   ]
  },
  {
   "cell_type": "code",
   "execution_count": null,
   "metadata": {},
   "outputs": [],
   "source": [
    "library(dplyr)\n",
    "library(ggplot2)\n",
    "\n",
    "dds <- estimateSizeFactors(dds)\n",
    "\n",
    "df <- bind_rows(\n",
    "  as_data_frame(log2(counts(dds, normalized=TRUE)[, 1:2]+1)) %>%\n",
    "         mutate(transformation = \"log2(x + 1)\"),\n",
    "  as_data_frame(assay(rld)[, 1:2]) %>% mutate(transformation = \"rlog\"),\n",
    "  as_data_frame(assay(vsd)[, 1:2]) %>% mutate(transformation = \"vst\"))\n",
    "  \n",
    "colnames(df)[1:2] <- c(\"x\", \"y\")  \n",
    "\n",
    "ggplot(df, aes(x = x, y = y)) + geom_hex(bins = 80) +\n",
    "  coord_fixed() + facet_grid( . ~ transformation)  "
   ]
  },
  {
   "cell_type": "markdown",
   "metadata": {},
   "source": [
    "**Scatterplot of transformed counts from two samples**. Shown are\n",
    "scatterplots using the log2 transform of normalized counts (left),\n",
    "using the rlog (middle), and using the VST (right). While the rlog is\n",
    "on roughly the same scale as the log2 counts, the VST has a upward\n",
    "shift for the smaller values. It is the differences between samples\n",
    "(deviation from y=x in these scatterplots) which will contribute to\n",
    "the distance calculations and the PCA plot.\n",
    "\n",
    "We can see how genes with low counts (bottom left-hand corner) seem to\n",
    "be excessively variable on the ordinary logarithmic scale, while the\n",
    "rlog transform and VST compress differences for the low count genes\n",
    "for which the data provide little information about differential\n",
    "expression.\n",
    "\n",
    "## Boxplots of transformed distributions\n",
    "\n",
    "Boxplots of the count distributions in each sample are a good way to understand the effects these transformations have."
   ]
  },
  {
   "cell_type": "code",
   "execution_count": null,
   "metadata": {},
   "outputs": [],
   "source": [
    "par(mfrow=c(1,3))\n",
    "boxplot(log2(assay(dds)+1), las=2, main=\"log2(x+1)\")\n",
    "boxplot(assay(rld), las=2, main=\"rld\")\n",
    "boxplot(assay(vsd), las=2, main=\"vsd\")"
   ]
  },
  {
   "cell_type": "markdown",
   "metadata": {},
   "source": [
    "# Sample distances\n",
    "\n",
    "## The importance of distances\n",
    "\n",
    "High-dimensional data are complex and impossible to visualize in raw form. They represent\n",
    "thousands of dimensions, but we can only visualize 2-3.\n",
    "\n",
    "Distances can simplify thousands of dimensions, but encompass assumptions about \n",
    "what kinds of differences are important.\n",
    "\n",
    "<center>\n",
    "<img src=\"animals.png\" alt=\"animals\" align=\"middle\" style=\"height: 350px;\">\n",
    "</center>\n",
    "\n",
    "All clustering and classification of samples and/or genes involves\n",
    "combining or identifying objects that are close or similar. Distances \n",
    "or similarities are mathematical representations of what we mean by \n",
    "close or similar. The choice of distance is important, and \n",
    "is subject-matter specific.\n",
    "\n",
    "See: http://master.bioconductor.org/help/course-materials/2002/Summer02Course/Distance/distance.pdf\n",
    "\n",
    "## Distances for exploratory RNA-seq data analysis\n",
    "\n",
    "A useful first step in an RNA-seq analysis is often to assess overall\n",
    "similarity between samples: Which samples are similar to each other,\n",
    "which are different? Does this fit to the expectation from the\n",
    "experiment's design?\n",
    "\n",
    "We use the R function *dist* to calculate the Euclidean distance\n",
    "between samples. To ensure we have a roughly equal contribution from\n",
    "all genes, we use it on the rlog-transformed data. We need to\n",
    "transpose the matrix of values using *t*, because the *dist* function\n",
    "expects the different samples to be rows of its argument, and\n",
    "different dimensions (here, genes) to be columns."
   ]
  },
  {
   "cell_type": "code",
   "execution_count": null,
   "metadata": {},
   "outputs": [],
   "source": [
    "sampleDists <- dist(t(assay(rld)))\n",
    "sampleDists"
   ]
  },
  {
   "cell_type": "markdown",
   "metadata": {},
   "source": [
    "We visualize the distances in a heatmap in a figure below, using the function\n",
    "*pheatmap* from the [pheatmap](https://cran.r-project.org/web/packages/pheatmap/index.html) package."
   ]
  },
  {
   "cell_type": "code",
   "execution_count": null,
   "metadata": {},
   "outputs": [],
   "source": [
    "library(pheatmap)\n",
    "library(RColorBrewer)"
   ]
  },
  {
   "cell_type": "markdown",
   "metadata": {},
   "source": [
    "In order to plot the sample distance matrix with the rows/columns\n",
    "arranged by the distances in our distance matrix,\n",
    "we manually provide `sampleDists` to the `clustering_distance`\n",
    "argument of the *pheatmap* function.\n",
    "Otherwise the *pheatmap* function would assume that the matrix contains\n",
    "the data values themselves, and would calculate distances between the\n",
    "rows/columns of the distance matrix, which is not desired.\n",
    "We also manually specify a blue color palette using the\n",
    "*colorRampPalette* function from the [RColorBrewer](https://cran.r-project.org/web/packages/RColorBrewer/index.html) package."
   ]
  },
  {
   "cell_type": "code",
   "execution_count": null,
   "metadata": {},
   "outputs": [],
   "source": [
    "sampleDistMatrix <- as.matrix( sampleDists )\n",
    "rownames(sampleDistMatrix) <- paste( rld$dex, rld$cell, sep = \" - \" )\n",
    "colnames(sampleDistMatrix) <- NULL\n",
    "colors <- colorRampPalette( rev(brewer.pal(9, \"Blues\")) )(255)\n",
    "pheatmap(sampleDistMatrix,\n",
    "         clustering_distance_rows = sampleDists,\n",
    "         clustering_distance_cols = sampleDists,\n",
    "         col = colors)"
   ]
  },
  {
   "cell_type": "markdown",
   "metadata": {},
   "source": [
    "**Heatmap of sample-to-sample distances using the rlog-transformed values.**\n",
    "\n",
    "Note that we have changed the row names of the distance matrix to\n",
    "contain treatment type and patient number instead of sample ID, so\n",
    "that we have all this information in view when looking at the heatmap.\n",
    "\n",
    "Another option for calculating sample distances is to use the\n",
    "Poisson Distance, implemented in the\n",
    "[PoiClaClu](https://cran.r-project.org/web/packages/PoiClaClu/index.html) CRAN package.\n",
    "This measure of dissimilarity between counts\n",
    "also takes the inherent variance\n",
    "structure of counts into consideration when calculating the distances\n",
    "between samples. The *PoissonDistance* function takes the original\n",
    "count matrix (not normalized) with samples as rows instead of columns,\n",
    "so we need to transpose the counts in `dds`."
   ]
  },
  {
   "cell_type": "code",
   "execution_count": null,
   "metadata": {},
   "outputs": [],
   "source": [
    "library(PoiClaClu)\n",
    "poisd <- PoissonDistance(t(counts(dds)))"
   ]
  },
  {
   "cell_type": "markdown",
   "metadata": {},
   "source": [
    "We plot the heatmap below."
   ]
  },
  {
   "cell_type": "code",
   "execution_count": null,
   "metadata": {},
   "outputs": [],
   "source": [
    "samplePoisDistMatrix <- as.matrix( poisd$dd )\n",
    "rownames(samplePoisDistMatrix) <- paste( rld$dex, rld$cell, sep=\" - \" )\n",
    "colnames(samplePoisDistMatrix) <- NULL\n",
    "pheatmap(samplePoisDistMatrix,\n",
    "         clustering_distance_rows = poisd$dd,\n",
    "         clustering_distance_cols = poisd$dd,\n",
    "         col = colors)"
   ]
  },
  {
   "cell_type": "markdown",
   "metadata": {},
   "source": [
    "**Heatmap of sample-to-sample distances using the *Poisson Distance*.**\n",
    "\n",
    "## PCA plot\n",
    "\n",
    "Another way to visualize sample-to-sample distances is a\n",
    "principal components analysis (PCA). In this ordination method, the\n",
    "data points (here, the samples) are projected onto the 2D plane\n",
    "such that they spread out in the two directions that explain most of\n",
    "the differences (figure below). The x-axis is the direction that separates the data\n",
    "points the most. The values of the samples in this direction are\n",
    "written *PC1*. The y-axis is a direction (it must be *orthogonal* to\n",
    "the first direction) that separates the data the second most. The\n",
    "values of the samples in this direction are written *PC2*.\n",
    "The percent of the total variance that is contained in the direction\n",
    "is printed in the axis label. Note that these percentages do not add to\n",
    "100%, because there are more dimensions that contain the remaining\n",
    "variance (although each of these remaining dimensions will explain\n",
    "less than the two that we see)."
   ]
  },
  {
   "cell_type": "code",
   "execution_count": null,
   "metadata": {},
   "outputs": [],
   "source": [
    "plotPCA(rld, intgroup = c(\"dex\", \"cell\"))"
   ]
  },
  {
   "cell_type": "markdown",
   "metadata": {},
   "source": [
    "**PCA plot using the rlog-transformed values.** Each unique combination of\n",
    "treatment and cell line is given its own color.\n",
    "\n",
    "Here, we have used the function *plotPCA* that comes with *DESeq2*.\n",
    "The two terms specified by `intgroup` are the interesting groups for\n",
    "labeling the samples; they tell the function to use them to choose\n",
    "colors. We can also build the PCA plot from scratch using the\n",
    "[ggplot2](https://cran.r-project.org/web/packages/ggplot2/index.html).\n",
    "This is done by asking the *plotPCA* function\n",
    "to return the data used for plotting rather than building the plot.\n",
    "See the *ggplot2* [documentation](http://docs.ggplot2.org/current/)\n",
    "for more details on using *ggplot*."
   ]
  },
  {
   "cell_type": "code",
   "execution_count": null,
   "metadata": {},
   "outputs": [],
   "source": [
    "pcaData <- plotPCA(rld, intgroup = c( \"dex\", \"cell\"), returnData = TRUE)\n",
    "pcaData\n",
    "percentVar <- round(100 * attr(pcaData, \"percentVar\"))"
   ]
  },
  {
   "cell_type": "markdown",
   "metadata": {},
   "source": [
    "We can then use these data to build up a second plot in a figure below, specifying that the\n",
    "color of the points should reflect dexamethasone treatment and the\n",
    "shape should reflect the cell line."
   ]
  },
  {
   "cell_type": "code",
   "execution_count": null,
   "metadata": {},
   "outputs": [],
   "source": [
    "ggplot(pcaData, aes(x = PC1, y = PC2, color = dex, shape = cell)) +\n",
    "  geom_point(size =3) +\n",
    "  xlab(paste0(\"PC1: \", percentVar[1], \"% variance\")) +\n",
    "  ylab(paste0(\"PC2: \", percentVar[2], \"% variance\")) +\n",
    "  coord_fixed()"
   ]
  },
  {
   "cell_type": "markdown",
   "metadata": {},
   "source": [
    "**PCA plot using the rlog-transformed values with custom *ggplot2* code.**\n",
    "Here we specify cell line (plotting symbol) and dexamethasone treatment (color).\n",
    "\n",
    "From the PCA plot, we see that the differences between cells (the\n",
    "different plotting shapes) are considerable, though not stronger than the differences due to\n",
    "treatment with dexamethasone (red vs blue color). This shows why it will be important to\n",
    "account for this in differential testing by using a paired design\n",
    "(\"paired\", because each dex treated sample is paired with one\n",
    "untreated sample from the *same* cell line). We are already set up for\n",
    "this design by assigning the formula `~ cell + dex` earlier.\n",
    "\n",
    "## MDS plot\n",
    "\n",
    "Another plot, very similar to the PCA plot, can be made using the \n",
    "*multidimensional scaling* (MDS) function in base R. This is useful when we\n",
    "don't have a matrix of data, but only a matrix of distances. Here we\n",
    "compute the MDS for the distances calculated from the *rlog*\n",
    "transformed counts and plot these in a figure below."
   ]
  },
  {
   "cell_type": "code",
   "execution_count": null,
   "metadata": {},
   "outputs": [],
   "source": [
    "mds <- as.data.frame(colData(rld))  %>%\n",
    "         cbind(cmdscale(sampleDistMatrix))\n",
    "ggplot(mds, aes(x = `1`, y = `2`, color = dex, shape = cell)) +\n",
    "  geom_point(size = 3) + coord_fixed()"
   ]
  },
  {
   "cell_type": "markdown",
   "metadata": {},
   "source": [
    "**MDS plot using rlog-transformed values.**\n",
    "\n",
    "In a figure below we show the same plot for the *PoissonDistance*:"
   ]
  },
  {
   "cell_type": "code",
   "execution_count": null,
   "metadata": {},
   "outputs": [],
   "source": [
    "mdsPois <- as.data.frame(colData(dds)) %>%\n",
    "   cbind(cmdscale(samplePoisDistMatrix))\n",
    "ggplot(mdsPois, aes(x = `1`, y = `2`, color = dex, shape = cell)) +\n",
    "  geom_point(size = 3) + coord_fixed()"
   ]
  },
  {
   "cell_type": "markdown",
   "metadata": {},
   "source": [
    "**MDS plot using the *Poisson Distance*.**"
   ]
  }
 ],
 "metadata": {},
 "nbformat": 4,
 "nbformat_minor": 2
}
