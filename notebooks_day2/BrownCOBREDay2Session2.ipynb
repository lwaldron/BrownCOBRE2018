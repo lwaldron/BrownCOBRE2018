{
 "cells": [
  {
   "cell_type": "markdown",
   "metadata": {},
   "source": [
    "# Gene-wise testing in depth, including multiple testing\n",
    "\n",
    "**Abstract**\n",
    "\n",
    "This session covers some theory and a workflow for differential expression hypothesis testing, visualization, and batch correction.\n",
    "\n",
    "# Differential abundance estimation\n",
    "\n",
    "In the first period we counted the fragments which overlap the genes\n",
    "in the gene model we specified. From the summarized and annotated count matrix we imported, \n",
    "we could use a variety of Bioconductor packages for exploration and\n",
    "differential expression of the count data, including:\n",
    "* [DESeq2](http://www.bioconductor.org/packages/DESeq2)\n",
    "* [edgeR](http://www.bioconductor.org/packages/edgeR)\n",
    "* [limma](http://www.bioconductor.org/packages/limma) (use Voom method for RNA-seq)\n",
    "\n",
    "[Schurch *et al.* 2016](https://www.ncbi.nlm.nih.gov/pmc/articles/pmid/27022035/) compared performance of different statistical methods\n",
    "for RNA-seq using a large number of biological replicates and can help\n",
    "users to decide which tools make sense to use, and how many\n",
    "biological replicates are necessary to obtain a certain sensitivity. \n",
    "\n",
    "##  Comparison of edgeR / DESeq2 / limma-voom\n",
    "\n",
    "All excellent, well-documented packages, implementing similar key features:\n",
    "* Empirical Bayes \"regularization\" or \"shrinkage\" of expression variance\n",
    "   + borrows prior expectation for variance from all genes, reduces false positives in small samples\n",
    "* Use of model formula, model matrices, and contrasts for flexible differential expression analysis\n",
    "* Reporting of log fold-change and False Discovery Rate\n",
    "\n",
    "Some ways they differ are:\n",
    "* Error terms used (DESeq2 and edgeR use log-linear Generalized Linear Model with negative binomial error term, limma-voom uses linear regression on transformed counts)\n",
    "* DESeq2 \"automagically\" handles independent filtering, using Independent Hypothesis Weighting ([IHW package](http://www.bioconductor.org/packages/IHW))\n",
    "* Speed (limma-voom is much faster and should definitely be used if you have hundreds of samples)\n",
    "* Approaches to hierarchical modeling, e.g. samples nested within groups\n",
    "    + limma-voom has a built-in feature for sample correlations (called *duplicateCorrelation*)\n",
    "* Re-use of core Bioconductor structures (DESeq2 extends *SummarizedExperiment*, edgeR and limma create their own)\n",
    "\n",
    "Ultimately, I like DESeq2's automatic filtering and re-use of *SummarizedExperiment*. But for large datasets, especially if doing permutations for gene set enrichment analysis, limma with its voom method is far more practical. It is worth noting that for large sample size, it hardly matters which error model you use, owing to the Central Limit Theorem. \n",
    "\n",
    "\n",
    "We will continue using [DESeq2](http://www.bioconductor.org/packages/DESeq2), starting from the *SummarizedExperiment* object.\n",
    "\n",
    "# Model formulae\n",
    "\n",
    "[Model formulae tutorial](http://ww2.coastal.edu/kingw/statistics/R-tutorials/formulae.html)\n",
    "\n",
    "* many regression functions in R use a \"model formula\" interface.\n",
    "* The formula determines the model that will be built (and tested) by the R procedure. The basic format is:\n",
    "\n",
    "`> response variable ~ explanatory variables`\n",
    "\n",
    "* The tilde means \"is modeled by\" or \"is modeled as a function of.\" \n",
    "\n",
    "## Essential model formulae terminology\n",
    "\n",
    "symbol  | example | meaning\n",
    "------- | ------------ | --------------------------  \n",
    "+ | + x\t| include this variable  \n",
    "-\t| - x\t| delete this variable  \n",
    ":\t| x : z\t| include the interaction  \n",
    "*\t| x * z\t| include these variables and their interactions  \n",
    "^\t| (u + v + w)^3\t| include these variables and all interactions up to three way\n",
    "1 | -1 | intercept: delete the intercept  \n",
    "\n",
    "Note: order generally doesn't matter (u+v OR v+u)\n",
    "\n",
    "*Examples*: `~treatment`, `~treatment + time`, `~treatment * time`\n",
    "\n",
    "\n",
    "# The Design Matrix\n",
    "\n",
    "## The Design Matrix\n",
    "\n",
    "Use an example of a multiple linear regression model:\n",
    "\n",
    "$y_i = \\beta_0 + \\beta_1 x_{1i} + \\beta_2 x_{2i} + ... + \\beta_p x_{pi} + \\epsilon_i$\n",
    "\n",
    "- $x_{ji}$ is the value of predictor $x_j$ for observation $i$\n",
    "\n",
    "## The Design Matrix\n",
    "\n",
    "Matrix notation for the multiple linear regression model:\n",
    "\n",
    "$$\n",
    "\\,\n",
    "\\begin{pmatrix}\n",
    "Y_1\\\\\n",
    "Y_2\\\\\n",
    "\\vdots\\\\\n",
    "Y_N\n",
    "\\end{pmatrix} = \n",
    "\\begin{pmatrix}\n",
    "1&x_1\\\\\n",
    "1&x_2\\\\\n",
    "\\vdots\\\\\n",
    "1&x_N\n",
    "\\end{pmatrix}\n",
    "\\begin{pmatrix}\n",
    "\\beta_0\\\\\n",
    "\\beta_1\n",
    "\\end{pmatrix} +\n",
    "\\begin{pmatrix}\n",
    "\\varepsilon_1\\\\\n",
    "\\varepsilon_2\\\\\n",
    "\\vdots\\\\\n",
    "\\varepsilon_N\n",
    "\\end{pmatrix}\n",
    "$$\n",
    "\n",
    "or simply: \n",
    "\n",
    "$$\n",
    "\\mathbf{Y}=\\mathbf{X}\\boldsymbol{\\beta}+\\boldsymbol{\\varepsilon}\n",
    "$$\n",
    "\n",
    "* The design matrix is $\\mathbf{X}$\n",
    "    * which the computer will take as a given when solving for $\\boldsymbol{\\beta}$ by minimizing the sum of squares of residuals $\\boldsymbol{\\varepsilon}$.\n",
    "    \n",
    "\n",
    "There are multiple possible and reasonable design matrices for a given study design\n",
    "* the model formula encodes a default model matrix, e.g.:"
   ]
  },
  {
   "cell_type": "code",
   "execution_count": null,
   "metadata": {
    "collapsed": true
   },
   "outputs": [],
   "source": [
    "group <- factor( c(1, 1, 2, 2) )\n",
    "model.matrix(~ group)"
   ]
  },
  {
   "cell_type": "code",
   "execution_count": null,
   "metadata": {
    "collapsed": true
   },
   "outputs": [],
   "source": [
    "##   (Intercept) group2\n",
    "## 1           1      0\n",
    "## 2           1      0\n",
    "## 3           1      1\n",
    "## 4           1      1\n",
    "## attr(,\"assign\")\n",
    "## [1] 0 1\n",
    "## attr(,\"contrasts\")\n",
    "## attr(,\"contrasts\")$group\n",
    "## [1] \"contr.treatment\""
   ]
  },
  {
   "cell_type": "markdown",
   "metadata": {},
   "source": [
    "What if we forgot to code group as a factor?"
   ]
  },
  {
   "cell_type": "code",
   "execution_count": null,
   "metadata": {
    "collapsed": true
   },
   "outputs": [],
   "source": [
    "group <- c(1, 1, 2, 2)\n",
    "model.matrix(~ group)"
   ]
  },
  {
   "cell_type": "code",
   "execution_count": null,
   "metadata": {
    "collapsed": true
   },
   "outputs": [],
   "source": [
    "##   (Intercept) group\n",
    "## 1           1     1\n",
    "## 2           1     1\n",
    "## 3           1     2\n",
    "## 4           1     2\n",
    "## attr(,\"assign\")\n",
    "## [1] 0 1"
   ]
  },
  {
   "cell_type": "markdown",
   "metadata": {},
   "source": [
    "Here is an example again of a single predictor, but with more groups"
   ]
  },
  {
   "cell_type": "code",
   "execution_count": null,
   "metadata": {
    "collapsed": true
   },
   "outputs": [],
   "source": [
    "group <- factor(c(1,1,2,2,3,3))\n",
    "model.matrix(~ group)"
   ]
  },
  {
   "cell_type": "code",
   "execution_count": null,
   "metadata": {
    "collapsed": true
   },
   "outputs": [],
   "source": [
    "##   (Intercept) group2 group3\n",
    "## 1           1      0      0\n",
    "## 2           1      0      0\n",
    "## 3           1      1      0\n",
    "## 4           1      1      0\n",
    "## 5           1      0      1\n",
    "## 6           1      0      1\n",
    "## attr(,\"assign\")\n",
    "## [1] 0 1 1\n",
    "## attr(,\"contrasts\")\n",
    "## attr(,\"contrasts\")$group\n",
    "## [1] \"contr.treatment\""
   ]
  },
  {
   "cell_type": "markdown",
   "metadata": {},
   "source": [
    "The _baseline_ group is the one that other groups are contrasted against. You can change the baseline group:"
   ]
  },
  {
   "cell_type": "code",
   "execution_count": null,
   "metadata": {
    "collapsed": true
   },
   "outputs": [],
   "source": [
    "group <- factor(c(1,1,2,2,3,3))\n",
    "group <- relevel(x=group, ref=3)\n",
    "model.matrix(~ group)"
   ]
  },
  {
   "cell_type": "code",
   "execution_count": null,
   "metadata": {
    "collapsed": true
   },
   "outputs": [],
   "source": [
    "##   (Intercept) group1 group2\n",
    "## 1           1      1      0\n",
    "## 2           1      1      0\n",
    "## 3           1      0      1\n",
    "## 4           1      0      1\n",
    "## 5           1      0      0\n",
    "## 6           1      0      0\n",
    "## attr(,\"assign\")\n",
    "## [1] 0 1 1\n",
    "## attr(,\"contrasts\")\n",
    "## attr(,\"contrasts\")$group\n",
    "## [1] \"contr.treatment\""
   ]
  },
  {
   "cell_type": "markdown",
   "metadata": {},
   "source": [
    "The model matrix can represent multiple predictors, ie multiple (linear/log-linear/logistic) regression:"
   ]
  },
  {
   "cell_type": "code",
   "execution_count": null,
   "metadata": {
    "collapsed": true
   },
   "outputs": [],
   "source": [
    "diet <- factor(c(1,1,1,1,2,2,2,2))\n",
    "sex <- factor(c(\"f\",\"f\",\"m\",\"m\",\"f\",\"f\",\"m\",\"m\"))\n",
    "model.matrix(~ diet + sex)"
   ]
  },
  {
   "cell_type": "code",
   "execution_count": null,
   "metadata": {
    "collapsed": true
   },
   "outputs": [],
   "source": [
    "##   (Intercept) diet2 sexm\n",
    "## 1           1     0    0\n",
    "## 2           1     0    0\n",
    "## 3           1     0    1\n",
    "## 4           1     0    1\n",
    "## 5           1     1    0\n",
    "## 6           1     1    0\n",
    "## 7           1     1    1\n",
    "## 8           1     1    1\n",
    "## attr(,\"assign\")\n",
    "## [1] 0 1 2\n",
    "## attr(,\"contrasts\")\n",
    "## attr(,\"contrasts\")$diet\n",
    "## [1] \"contr.treatment\"\n",
    "## \n",
    "## attr(,\"contrasts\")$sex\n",
    "## [1] \"contr.treatment\""
   ]
  },
  {
   "cell_type": "markdown",
   "metadata": {},
   "source": [
    "And interaction terms:"
   ]
  },
  {
   "cell_type": "code",
   "execution_count": null,
   "metadata": {
    "collapsed": true
   },
   "outputs": [],
   "source": [
    "model.matrix(~ diet + sex + diet:sex)"
   ]
  },
  {
   "cell_type": "code",
   "execution_count": null,
   "metadata": {
    "collapsed": true
   },
   "outputs": [],
   "source": [
    "##   (Intercept) diet2 sexm diet2:sexm\n",
    "## 1           1     0    0          0\n",
    "## 2           1     0    0          0\n",
    "## 3           1     0    1          0\n",
    "## 4           1     0    1          0\n",
    "## 5           1     1    0          0\n",
    "## 6           1     1    0          0\n",
    "## 7           1     1    1          1\n",
    "## 8           1     1    1          1\n",
    "## attr(,\"assign\")\n",
    "## [1] 0 1 2 3\n",
    "## attr(,\"contrasts\")\n",
    "## attr(,\"contrasts\")$diet\n",
    "## [1] \"contr.treatment\"\n",
    "## \n",
    "## attr(,\"contrasts\")$sex\n",
    "## [1] \"contr.treatment\""
   ]
  },
  {
   "cell_type": "markdown",
   "metadata": {},
   "source": [
    "#  Hypothesis testing for count data\n",
    "\n",
    "\n",
    "Generalized Linear Models (GLM) are a broad family of regression models, a small subset of which form the basis for differential expression and other hypothesis testing in genomics.\n",
    "\n",
    "The components of a GLM are:\n",
    "\n",
    "$$\n",
    "g\\left( E[y|x] \\right) = \\beta_0 + \\beta_1 x_{1i} + \\beta_2 x_{2i} + ... + \\beta_p x_{pi}\n",
    "$$\n",
    "\n",
    "* **Random component** specifies the conditional distribution for the response variable\n",
    "    + doesn’t have to be normal\n",
    "    + can be any distribution in the \"exponential\" family of distributions\n",
    "* **Systematic component** specifies linear function of predictors (linear predictor)\n",
    "* **Link** [denoted by g(.)] specifies the relationship between the expected value of the random component and the systematic component\n",
    "    + can be linear or nonlinear  \n",
    "\n",
    "## Linear Regression as GLM\n",
    "\n",
    "This is useful for log-transformed microarray data:\n",
    "\n",
    "* **The model**: $y_i = E[y|x] + \\epsilon_i = \\beta_0 + \\beta_1 x_{1i} + \\beta_2 x_{2i} + ... + \\beta_p x_{pi} + \\epsilon_i$\n",
    "* **Random component** of $y_i$ is normally distributed:   $\\epsilon_i \\stackrel{iid}{\\sim} N(0, \\sigma_\\epsilon^2)$\n",
    "* **Systematic component** (linear predictor): $\\beta_0 + \\beta_1 x_{1i} + \\beta_2 x_{2i} + ... + \\beta_p x_{pi}$\n",
    "* **Link function** here is the _identity link_: $g(E(y | x)) = E(y | x)$.  We are modeling the mean directly, no transformation.\n",
    "\n",
    "## Logistic Regression as GLM\n",
    "\n",
    "This is useful for binary outcomes, e.g. Single Nucleotide Polymorphisms or somatic variants:\n",
    "\n",
    "* **The model**: \n",
    "$$\n",
    "Logit(P(x)) = log \\left( \\frac{P(x)}{1-P(x)} \\right) = \\beta_0 + \\beta_1 x_{1i} + \\beta_2 x_{2i} + ... + \\beta_p x_{pi}\n",
    "$$\n",
    "* **Random component**: $y_i$ follows a Binomial distribution (outcome is a binary variable)\n",
    "* **Systematic component**: linear predictor \n",
    "$$\n",
    "\\beta_0 + \\beta_1 x_{1i} + \\beta_2 x_{2i} + ... + \\beta_p x_{pi}\n",
    "$$\n",
    "* **Link function**: _logit_ (log of the odds that the event occurs)\n",
    "$$\n",
    "g(P(x)) = logit(P(x)) = log\\left( \\frac{P(x)}{1-P(x)} \\right)\n",
    "$$\n",
    "\n",
    "## Log-linear GLM\n",
    "\n",
    "This is useful for count data, like RNA-seq. It can:\n",
    "    + account for differences in sequencing depth\n",
    "    + guarantee non-negative expected number of counts\n",
    "    + be used in conjunction with Poisson or Negative Binomial error models\n",
    "\n",
    "* **The model** (`log(t_i)` is called an \"offset\" term):\n",
    "$$\n",
    "log\\left( E[y|x] \\right) = \\beta_0 + \\beta_1 x_{1i} + \\beta_2 x_{2i} + ... + \\beta_p x_{pi} + log(t_i)  \n",
    "$$\n",
    "\n",
    "Without getting into details of Poisson or Negative Binomial error terms, they are just random distributions that happen to fit many count data well:\n",
    "\n",
    "![](BrownCOBREDay2Session2_files/figure-html/unnamed-chunk-7-1.png)<!-- -->\n",
    "\n",
    "#  Small samples, large samples, and the Central Limit Theorem\n",
    "\n",
    "## What is a _sampling distribution_?\n",
    "\n",
    "It is the distribution of a statistic for many samples taken from one population.\n",
    " \n",
    "1. Take a sample from a population\n",
    "2. Calculate the sample statistic (e.g. mean)\n",
    "3. Repeat.  \n",
    "\n",
    "- The values from (2) form a sampling distribution.\n",
    "- The standard deviation of the sampling distribution is the _standard error_\n",
    "\n",
    "- Question: how is this different from a population distribution?\n",
    "\n",
    "## Example: population and sampling distributions\n",
    "\n",
    "We observe 100 counts from a Poisson distribution ($\\lambda = 2$). \n",
    "* Question: is this a population or a sampling distribution?"
   ]
  },
  {
   "cell_type": "code",
   "execution_count": null,
   "metadata": {
    "collapsed": true
   },
   "outputs": [],
   "source": [
    "set.seed(1)\n",
    "onesample=rpois(100, lambda=2)\n",
    "xdens = seq(min(onesample), max(onesample), by=1)\n",
    "ydens = length(onesample) * dpois(xdens, lambda=2)\n",
    "par(mar=c(2, 4, 0.1, 0.1))\n",
    "options(repr.plot.width=4, repr.plot.height=3)\n",
    "res=hist(onesample, main=\"\", prob=FALSE, col=\"lightgrey\", xlab=\"\", ylim=c(0, max(ydens)),\n",
    "     breaks=seq(-0.5, round(max(onesample))+0.5, by=0.5))\n",
    "lines(xdens, ydens, lw=2)"
   ]
  },
  {
   "cell_type": "markdown",
   "metadata": {},
   "source": [
    "We calculate the *mean* of those 100 counts, and do the same for 1,000 more samples of 100:\n",
    "* Question: is this a population or a sampling distribution?"
   ]
  },
  {
   "cell_type": "code",
   "execution_count": null,
   "metadata": {
    "collapsed": true
   },
   "outputs": [],
   "source": [
    "set.seed(1)\n",
    "samplingdistr=replicate(1000, mean(rpois(100, lambda=2)))\n",
    "par(mar=c(4, 4, 0.1, 0.1))\n",
    "res=hist(samplingdistr, xlab=\"Means of the 100-counts\", main=\"\")\n",
    "dy=density(samplingdistr, adjust=2)\n",
    "## Note this next step is just an empirical way to put the density line approximately the same scale as the histogram:\n",
    "dy$y = dy$y / max(dy$y) * max(res$counts)\n",
    "lines(dy)"
   ]
  },
  {
   "cell_type": "markdown",
   "metadata": {},
   "source": [
    "## Central Limit Theorem\n",
    "\n",
    "The \"CLT\" relates the sampling distribution (of means) to the population distribution.\n",
    "\n",
    "1. Mean of the population ($\\mu$) and of the sampling distribution ($\\bar{X}$) are identical\n",
    "2. Standard deviation of the population ($\\sigma$) is related to the standard deviation of the distribution of sample means (*Standard Error* or *SE*) by: \n",
    "$$\n",
    "SE = \\sigma / \\sqrt{n}\n",
    "$$\n",
    "3. For large n, the shape of the sampling distribution of means becomes normal\n",
    "\n",
    "### CLT 1: equal means\n",
    "\n",
    "Recall Poisson distributed population and samples of n=30:"
   ]
  },
  {
   "cell_type": "code",
   "execution_count": null,
   "metadata": {
    "collapsed": true
   },
   "outputs": [],
   "source": [
    "options(repr.plot.width=6, repr.plot.height=3)\n",
    "par(mfrow=c(1,2))\n",
    "hist(onesample, main=\"One sample of 100 counts\\n from Poisson(lambda=2)\", xlab=\"counts\")\n",
    "abline(v=2, col=\"red\", lw=2)\n",
    "res=hist(samplingdistr, xlab=\"Means of the 100-counts\", main=\"1000 samples\\n of n=100\")\n",
    "abline(v=2, col=\"red\", lw=2)"
   ]
  },
  {
   "cell_type": "markdown",
   "metadata": {},
   "source": [
    "- Distributions are different, but means are the same"
   ]
  },
  {
   "cell_type": "markdown",
   "metadata": {},
   "source": [
    "### CLT 2: Standard Error\n",
    "\n",
    "Standard deviation of the sampling distribution is $SE = \\sigma / \\sqrt{n}$:"
   ]
  },
  {
   "cell_type": "code",
   "execution_count": null,
   "metadata": {
    "collapsed": true
   },
   "outputs": [],
   "source": [
    "options(repr.plot.width=6, repr.plot.height=3)\n",
    "par(mfrow=c(1,3))\n",
    "hist(replicate(1000, mean(rpois(30, lambda=2))), xlim=c(1.3, 3),\n",
    "     xlab=\"Means of 30-counts\", main=\"1000 samples\\n of n=30\")\n",
    "abline(v=2, col=\"red\", lw=2)\n",
    "hist(replicate(1000, mean(rpois(100, lambda=2))), xlim=c(1.3, 3),\n",
    "     xlab=\"Means of 100-counts\", main=\"1000 samples\\n of n=100\")\n",
    "abline(v=2, col=\"red\", lw=2)\n",
    "hist(replicate(1000, mean(rpois(500, lambda=2))), xlim=c(1.3, 3),\n",
    "     xlab=\"Means of 500-counts\", main=\"1000 samples\\n of n=500\")\n",
    "abline(v=2, col=\"red\", lw=2)"
   ]
  },
  {
   "cell_type": "markdown",
   "metadata": {},
   "source": [
    "### CLT 3: large samples\n",
    "\n",
    "- The distribution of means of large samples is normal. \n",
    "    + for large enough n, the population distribution doesn't matter. How large?\n",
    "    + n < 30: population is normal or close to it\n",
    "    + n >= 30: skew and outliers are OK\n",
    "    + n > 500: even extreme population distributions\n",
    "\n",
    "*Example*: an extremely skewed (log-normal) distribution:"
   ]
  },
  {
   "cell_type": "code",
   "execution_count": null,
   "metadata": {
    "collapsed": true
   },
   "outputs": [],
   "source": [
    "options(repr.plot.width=6, repr.plot.height=3)\n",
    "par(mfrow=c(1,3))\n",
    "set.seed(5)\n",
    "onesample=rlnorm(n=100, sdlog=1.5)\n",
    "hist(onesample, main=\"100 observations\\n from lognormal pop'n\", xlab=\"counts\")\n",
    "sampling30=replicate(1000, mean(rlnorm(n=30, sdlog=1.5)))\n",
    "hist(sampling30, xlab=\"Means of the 100 obs.\", main=\"1000 samples\\n of n=30\")\n",
    "sampling1000=replicate(1000, mean(rlnorm(n=1000, sdlog=1.5)))\n",
    "hist(sampling500, xlab=\"Means of the 1000 obs.\", main=\"1000 samples\\n of n=1000\")"
   ]
  },
  {
   "cell_type": "markdown",
   "metadata": {},
   "source": [
    "### Practical take-home messages\n",
    "\n",
    "* For large samples, violations of distributional assumptions have diminishing importance\n",
    "* _Standard Error_ is the standard deviation of a normally distributed sampling distribution\n",
    "* The null hypothesis is an assumption about the form of a sampling distribution\n",
    "    - the p-value is a probability that an observed sample was drawn from this null distribution"
   ]
  },
  {
   "cell_type": "markdown",
   "metadata": {},
   "source": [
    "# Note on blocking and stratification\n",
    "\n",
    "Blocking and stratification are related concepts that group more similar records together. \n",
    "\n",
    "## Blocking in experimental design\n",
    "- The differences between the \"blocks\" of individuals is \"nuisance\" variability that we want to control\n",
    "\n",
    " <img src=\"http://faculty.csupueblo.edu/paul.Chacon/156Spr05/images/block.jpg\" alt=\"blocking\" style=\"width:500px\"> \n",
    "\n",
    "- blocking is typical in biology experiments to:\n",
    "    + apply an experimental randomization to more homogeneous \"blocks\" of individuals\n",
    "    + assign treated and control specimens, or case & control specimens, equally and randomly to batches (really the same as above)\n",
    "\n",
    "- blocks are normally included as a factor in regression analysis\n",
    "    + can adjust for nuisance variables afterwards, but *include in experimental design wherever possible*\n",
    "     \n",
    "## Stratified random sampling\n",
    "- done with population sampling\n",
    "\n",
    "<img src=\"https://upload.wikimedia.org/wikipedia/commons/a/a2/StratifiedRandomSampling.jpg\" alt=\"SRS\" style=\"width:400px\"> \n",
    "\n",
    "- divides population into more homogeneous subpopulations\n",
    "    + during design, strata are normally with predetermined probabilities\n",
    " \n",
    "## Stratification in analysis\n",
    "- experimental blocks and population strata could either be treated as factors or strata for analysis\n",
    "    + stratification is necessary when you think a factor in a linear model is inadequate to capture differences between nuisance strata\n",
    "- observations are:\n",
    "    + divided into strata\n",
    "    + strata are analyzed independently\n",
    "    + results are then averaged across strata"
   ]
  },
  {
   "cell_type": "markdown",
   "metadata": {},
   "source": [
    "# Differential expression analysis\n",
    "\n",
    "## Running the differential expression pipeline\n",
    "\n",
    "As we have already specified an experimental design when we created\n",
    "the *DESeqDataSet*, we can run the differential expression pipeline on\n",
    "the raw counts with a single call to the function *DESeq*:"
   ]
  },
  {
   "cell_type": "code",
   "execution_count": null,
   "metadata": {
    "collapsed": true
   },
   "outputs": [],
   "source": [
    "library(DESeq2)\n",
    "library(airway)\n",
    "data(airway)\n",
    "dds <- DESeqDataSet(airway, design = ~ cell + dex)\n",
    "dds <- DESeq(dds)"
   ]
  },
  {
   "cell_type": "code",
   "execution_count": null,
   "metadata": {
    "collapsed": true
   },
   "outputs": [],
   "source": [
    "## estimating size factors"
   ]
  },
  {
   "cell_type": "code",
   "execution_count": null,
   "metadata": {
    "collapsed": true
   },
   "outputs": [],
   "source": [
    "## estimating dispersions"
   ]
  },
  {
   "cell_type": "code",
   "execution_count": null,
   "metadata": {
    "collapsed": true
   },
   "outputs": [],
   "source": [
    "## gene-wise dispersion estimates"
   ]
  },
  {
   "cell_type": "code",
   "execution_count": null,
   "metadata": {
    "collapsed": true
   },
   "outputs": [],
   "source": [
    "## mean-dispersion relationship"
   ]
  },
  {
   "cell_type": "code",
   "execution_count": null,
   "metadata": {
    "collapsed": true
   },
   "outputs": [],
   "source": [
    "## final dispersion estimates"
   ]
  },
  {
   "cell_type": "code",
   "execution_count": null,
   "metadata": {
    "collapsed": true
   },
   "outputs": [],
   "source": [
    "## fitting model and testing"
   ]
  },
  {
   "cell_type": "markdown",
   "metadata": {},
   "source": [
    "This function will print out a message for the various steps it\n",
    "performs. These are described in more detail in the manual page for\n",
    "*DESeq*, which can be accessed by typing `?DESeq`. Briefly these are:\n",
    "the estimation of size factors (controlling for differences in the\n",
    "sequencing depth of the samples), the estimation of\n",
    "dispersion values for each gene, and fitting a generalized linear model.\n",
    "\n",
    "A *DESeqDataSet* is returned that contains all the fitted\n",
    "parameters within it, and the following section describes how to\n",
    "extract out results tables of interest from this object.\n",
    "\n",
    "## Building the results table\n",
    "\n",
    "Calling *results* without any arguments will extract the estimated\n",
    "log2 fold changes and *p* values for the last variable in the design\n",
    "formula. If there are more than 2 levels for this variable, *results*\n",
    "will extract the results table for a comparison of the last level over\n",
    "the first level. The comparison is printed at the top of the output:\n",
    "`dex trt vs untrt`."
   ]
  },
  {
   "cell_type": "code",
   "execution_count": null,
   "metadata": {
    "collapsed": true
   },
   "outputs": [],
   "source": [
    "res <- results(dds)\n",
    "res"
   ]
  },
  {
   "cell_type": "code",
   "execution_count": null,
   "metadata": {
    "collapsed": true
   },
   "outputs": [],
   "source": [
    "## log2 fold change (MLE): dex untrt vs trt \n",
    "## Wald test p-value: dex untrt vs trt \n",
    "## DataFrame with 64102 rows and 6 columns\n",
    "##                  baseMean log2FoldChange     lfcSE       stat       pvalue\n",
    "##                 <numeric>      <numeric> <numeric>  <numeric>    <numeric>\n",
    "## ENSG00000000003 708.60217     0.38125397 0.1006560  3.7876937 0.0001520521\n",
    "## ENSG00000000005   0.00000             NA        NA         NA           NA\n",
    "## ENSG00000000419 520.29790    -0.20681259 0.1122218 -1.8428915 0.0653448549\n",
    "## ENSG00000000457 237.16304    -0.03792034 0.1434532 -0.2643394 0.7915183888\n",
    "## ENSG00000000460  57.93263     0.08816367 0.2871677  0.3070111 0.7588349227\n",
    "## ...                   ...            ...       ...        ...          ...\n",
    "## LRG_94                  0             NA        NA         NA           NA\n",
    "## LRG_96                  0             NA        NA         NA           NA\n",
    "## LRG_97                  0             NA        NA         NA           NA\n",
    "## LRG_98                  0             NA        NA         NA           NA\n",
    "## LRG_99                  0             NA        NA         NA           NA\n",
    "##                        padj\n",
    "##                   <numeric>\n",
    "## ENSG00000000003 0.001283933\n",
    "## ENSG00000000005          NA\n",
    "## ENSG00000000419 0.196568838\n",
    "## ENSG00000000457 0.911484824\n",
    "## ENSG00000000460 0.895071708\n",
    "## ...                     ...\n",
    "## LRG_94                   NA\n",
    "## LRG_96                   NA\n",
    "## LRG_97                   NA\n",
    "## LRG_98                   NA\n",
    "## LRG_99                   NA"
   ]
  },
  {
   "cell_type": "markdown",
   "metadata": {},
   "source": [
    "We could have equivalently produced this results table with the\n",
    "following more specific command. Because `dex` is the last variable in\n",
    "the design, we could optionally leave off the `contrast` argument to extract\n",
    "the comparison of the two levels of `dex`."
   ]
  },
  {
   "cell_type": "code",
   "execution_count": null,
   "metadata": {
    "collapsed": true
   },
   "outputs": [],
   "source": [
    "res <- results(dds, contrast=c(\"dex\",\"trt\",\"untrt\"))"
   ]
  },
  {
   "cell_type": "markdown",
   "metadata": {},
   "source": [
    "As `res` is a *DataFrame* object, it carries metadata\n",
    "with information on the meaning of the columns:"
   ]
  },
  {
   "cell_type": "code",
   "execution_count": null,
   "metadata": {
    "collapsed": true
   },
   "outputs": [],
   "source": [
    "mcols(res, use.names = TRUE)"
   ]
  },
  {
   "cell_type": "code",
   "execution_count": null,
   "metadata": {
    "collapsed": true
   },
   "outputs": [],
   "source": [
    "## DataFrame with 6 rows and 2 columns\n",
    "##                        type                               description\n",
    "##                 <character>                               <character>\n",
    "## baseMean       intermediate mean of normalized counts for all samples\n",
    "## log2FoldChange      results  log2 fold change (MLE): dex trt vs untrt\n",
    "## lfcSE               results          standard error: dex trt vs untrt\n",
    "## stat                results          Wald statistic: dex trt vs untrt\n",
    "## pvalue              results       Wald test p-value: dex trt vs untrt\n",
    "## padj                results                      BH adjusted p-values"
   ]
  },
  {
   "cell_type": "markdown",
   "metadata": {},
   "source": [
    "The first column, `baseMean`, is a just the average of the normalized\n",
    "count values, divided by the size factors, taken over all samples in the\n",
    "*DESeqDataSet*.\n",
    "The remaining four columns refer to a specific contrast, namely the\n",
    "comparison of the `trt` level over the `untrt` level for the factor\n",
    "variable `dex`. We will find out below how to obtain other contrasts.\n",
    "\n",
    "The column `log2FoldChange` is the effect size estimate. It tells us\n",
    "how much the gene's expression seems to have changed due to treatment\n",
    "with dexamethasone in comparison to untreated samples.  This value is\n",
    "reported on a logarithmic scale to base 2: for example, a log2 fold\n",
    "change of 1.5 means that the gene's expression is increased by a\n",
    "multiplicative factor of \\(2^{1.5} \\approx 2.82\\).\n",
    "\n",
    "Of course, this estimate has an uncertainty associated with it, which\n",
    "is available in the column `lfcSE`, the standard error estimate for\n",
    "the log2 fold change estimate.  We can also express the uncertainty of\n",
    "a particular effect size estimate as the result of a statistical\n",
    "test. The purpose of a test for differential expression is to test\n",
    "whether the data provides sufficient evidence to conclude that this\n",
    "value is really different from zero. *DESeq2* performs for each gene a\n",
    "*hypothesis test* to see whether evidence is sufficient to decide\n",
    "against the *null hypothesis* that there is zero effect of the treatment\n",
    "on the gene and that the observed difference between treatment and\n",
    "control was merely caused by experimental variability (i.e., the type\n",
    "of variability that you can expect between different\n",
    "samples in the same treatment group). As usual in statistics, the\n",
    "result of this test is reported as a *p* value, and it is found in the\n",
    "column `pvalue`. Remember that a *p* value indicates the probability\n",
    "that a fold change as strong as the observed one, or even stronger,\n",
    "would be seen under the situation described by the null hypothesis.\n",
    "\n",
    "We can also summarize the results with the following line of code,\n",
    "which reports some additional information, that will be covered in\n",
    "later sections."
   ]
  },
  {
   "cell_type": "code",
   "execution_count": null,
   "metadata": {
    "collapsed": true
   },
   "outputs": [],
   "source": [
    "summary(res)"
   ]
  },
  {
   "cell_type": "code",
   "execution_count": null,
   "metadata": {
    "collapsed": true
   },
   "outputs": [],
   "source": [
    "## \n",
    "## out of 33469 with nonzero total read count\n",
    "## adjusted p-value < 0.1\n",
    "## LFC > 0 (up)     : 2604, 7.8% \n",
    "## LFC < 0 (down)   : 2212, 6.6% \n",
    "## outliers [1]     : 0, 0% \n",
    "## low counts [2]   : 15441, 46% \n",
    "## (mean count < 5)\n",
    "## [1] see 'cooksCutoff' argument of ?results\n",
    "## [2] see 'independentFiltering' argument of ?results"
   ]
  },
  {
   "cell_type": "markdown",
   "metadata": {},
   "source": [
    "Note that there are many genes with differential expression due to\n",
    "dexamethasone treatment at the FDR level of 10%. This makes sense, as\n",
    "the smooth muscle cells of the airway are known to react to\n",
    "glucocorticoid steroids. However, there are two ways to be more strict\n",
    "about which set of genes are considered significant:\n",
    "\n",
    "* lower the false discovery rate threshold (the threshold on `padj` in\n",
    "  the results table)\n",
    "* raise the log2 fold change threshold from 0 using the `lfcThreshold`\n",
    "  argument of *results*\n",
    "\n",
    "If we lower the false discovery rate threshold, we should also\n",
    "inform the `results()` function about it, so that the function can use this \n",
    "threshold for the optimal independent filtering that it performs:"
   ]
  },
  {
   "cell_type": "code",
   "execution_count": null,
   "metadata": {
    "collapsed": true
   },
   "outputs": [],
   "source": [
    "res.05 <- results(dds, alpha = 0.05)\n",
    "table(res.05$padj < 0.05)"
   ]
  },
  {
   "cell_type": "code",
   "execution_count": null,
   "metadata": {
    "collapsed": true
   },
   "outputs": [],
   "source": [
    "## \n",
    "## FALSE  TRUE \n",
    "## 12765  4028"
   ]
  },
  {
   "cell_type": "markdown",
   "metadata": {},
   "source": [
    "If we want to raise the log2 fold change threshold, so that we test\n",
    "for genes that show more substantial changes due to treatment, we\n",
    "simply supply a value on the log2 scale. For example, by specifying\n",
    "`lfcThreshold = 1`, we test for genes that show significant effects of\n",
    "treatment on gene counts more than doubling or less than halving,\n",
    "because \\(2^1 = 2\\)."
   ]
  },
  {
   "cell_type": "code",
   "execution_count": null,
   "metadata": {
    "collapsed": true
   },
   "outputs": [],
   "source": [
    "resLFC1 <- results(dds, lfcThreshold=1)\n",
    "table(resLFC1$padj < 0.1)"
   ]
  },
  {
   "cell_type": "code",
   "execution_count": null,
   "metadata": {
    "collapsed": true
   },
   "outputs": [],
   "source": [
    "## \n",
    "## FALSE  TRUE \n",
    "## 20259   240"
   ]
  },
  {
   "cell_type": "markdown",
   "metadata": {},
   "source": [
    "Sometimes a subset of the *p* values in `res` will be `NA` (\"not\n",
    "available\"). This is *DESeq*'s way of reporting that all counts for\n",
    "this gene were zero, and hence no test was applied. In addition, *p*\n",
    "values can be assigned `NA` if the gene was excluded from analysis\n",
    "because it contained an extreme count outlier. For more information,\n",
    "see the outlier detection section of the *DESeq2* vignette.\n",
    "\n",
    "If you use the results from an R analysis package in published\n",
    "research, you can find the proper citation for the software by typing\n",
    "`citation(\"pkgName\")`, where you would substitute the name of the\n",
    "package for `pkgName`.  Citing methods papers helps to support and\n",
    "reward the individuals who put time into open source software for\n",
    "genomic data analysis.\n",
    "\n",
    "## Other comparisons\n",
    "\n",
    "In general, the results for a comparison of any two levels of a\n",
    "variable can be extracted using the `contrast` argument to\n",
    "*results*. The user should specify three values: the name of the\n",
    "variable, the name of the level for the numerator, and the name of the\n",
    "level for the denominator. Here we extract results for the log2 of the\n",
    "fold change of one cell line over another:"
   ]
  },
  {
   "cell_type": "code",
   "execution_count": null,
   "metadata": {
    "collapsed": true
   },
   "outputs": [],
   "source": [
    "results(dds, contrast = c(\"cell\", \"N061011\", \"N61311\"))"
   ]
  },
  {
   "cell_type": "code",
   "execution_count": null,
   "metadata": {
    "collapsed": true
   },
   "outputs": [],
   "source": [
    "## log2 fold change (MLE): cell N061011 vs N61311 \n",
    "## Wald test p-value: cell N061011 vs N61311 \n",
    "## DataFrame with 64102 rows and 6 columns\n",
    "##                  baseMean log2FoldChange     lfcSE        stat     pvalue\n",
    "##                 <numeric>      <numeric> <numeric>   <numeric>  <numeric>\n",
    "## ENSG00000000003 708.60217     0.30632635 0.1435330  2.13418730 0.03282745\n",
    "## ENSG00000000005   0.00000             NA        NA          NA         NA\n",
    "## ENSG00000000419 520.29790    -0.05404672 0.1597205 -0.33838315 0.73507447\n",
    "## ENSG00000000457 237.16304     0.01630854 0.2030380  0.08032262 0.93598067\n",
    "## ENSG00000000460  57.93263     0.27912686 0.4007042  0.69659087 0.48605887\n",
    "## ...                   ...            ...       ...         ...        ...\n",
    "## LRG_94                  0             NA        NA          NA         NA\n",
    "## LRG_96                  0             NA        NA          NA         NA\n",
    "## LRG_97                  0             NA        NA          NA         NA\n",
    "## LRG_98                  0             NA        NA          NA         NA\n",
    "## LRG_99                  0             NA        NA          NA         NA\n",
    "##                      padj\n",
    "##                 <numeric>\n",
    "## ENSG00000000003 0.2201807\n",
    "## ENSG00000000005        NA\n",
    "## ENSG00000000419 0.9390810\n",
    "## ENSG00000000457 0.9903712\n",
    "## ENSG00000000460 0.8548857\n",
    "## ...                   ...\n",
    "## LRG_94                 NA\n",
    "## LRG_96                 NA\n",
    "## LRG_97                 NA\n",
    "## LRG_98                 NA\n",
    "## LRG_99                 NA"
   ]
  },
  {
   "cell_type": "markdown",
   "metadata": {},
   "source": [
    "There are additional ways to build results tables for certain\n",
    "comparisons after running *DESeq* once.\n",
    "If results for an interaction term are desired, the `name`\n",
    "argument of *results* should be used. Please see the \n",
    "help page for the *results* function for details on the additional\n",
    "ways to build results tables. In particular, the **Examples** section of\n",
    "the help page for *results* gives some pertinent examples.\n",
    "\n",
    "## Multiple testing\n",
    "\n",
    "In high-throughput biology, we are careful to not use the *p* values\n",
    "directly as evidence against the null, but to correct for\n",
    "*multiple testing*. What would happen if we were to simply threshold\n",
    "the *p* values at a low value, say 0.05? There are\n",
    "5676 genes with a *p* value\n",
    "below 0.05 among the 33469 genes for which the\n",
    "test succeeded in reporting a *p* value:"
   ]
  },
  {
   "cell_type": "code",
   "execution_count": null,
   "metadata": {
    "collapsed": true
   },
   "outputs": [],
   "source": [
    "sum(res$pvalue < 0.05, na.rm=TRUE)"
   ]
  },
  {
   "cell_type": "code",
   "execution_count": null,
   "metadata": {
    "collapsed": true
   },
   "outputs": [],
   "source": [
    "## [1] 5676"
   ]
  },
  {
   "cell_type": "code",
   "execution_count": null,
   "metadata": {
    "collapsed": true
   },
   "outputs": [],
   "source": [
    "sum(!is.na(res$pvalue))"
   ]
  },
  {
   "cell_type": "code",
   "execution_count": null,
   "metadata": {
    "collapsed": true
   },
   "outputs": [],
   "source": [
    "## [1] 33469"
   ]
  },
  {
   "cell_type": "markdown",
   "metadata": {},
   "source": [
    "Now, assume for a moment that the null hypothesis is true for all\n",
    "genes, i.e., no gene is affected by the treatment with\n",
    "dexamethasone. Then, by the definition of the *p* value, we expect up to\n",
    "5% of the genes to have a *p* value below 0.05. This amounts to\n",
    "1673 genes.\n",
    "If we just considered the list of genes with a *p* value below 0.05 as\n",
    "differentially expressed, this list should therefore be expected to\n",
    "contain up to\n",
    "1673 /\n",
    "5676 =\n",
    "29%\n",
    " false positives.\n",
    "\n",
    "*DESeq2* uses the Benjamini-Hochberg (BH) adjustment [@Benjamini1995Controlling] as implemented in\n",
    "the base R *p.adjust* function; in brief, this method calculates for\n",
    "each gene an adjusted *p* value that answers the following question:\n",
    "if one called significant all genes with an adjusted *p* value less than or\n",
    "equal to this gene's adjusted *p* value threshold, what would be the fraction\n",
    "of false positives (the *false discovery rate*, FDR) among them, in\n",
    "the sense of the calculation outlined above? These values, called the\n",
    "BH-adjusted *p* values, are given in the column `padj` of the `res`\n",
    "object.\n",
    "\n",
    "The FDR is a useful statistic for many high-throughput\n",
    "experiments, as we are often interested in reporting or focusing on a\n",
    "set of interesting genes, and we would like to put an upper bound on the\n",
    "percent of false positives in this set. \n",
    "\n",
    "Hence, if we consider a fraction of 10% false positives acceptable,\n",
    "we can consider all genes with an adjusted *p* value below 10% = 0.1\n",
    "as significant. How many such genes are there?"
   ]
  },
  {
   "cell_type": "code",
   "execution_count": null,
   "metadata": {
    "collapsed": true
   },
   "outputs": [],
   "source": [
    "sum(res$padj < 0.1, na.rm=TRUE)"
   ]
  },
  {
   "cell_type": "code",
   "execution_count": null,
   "metadata": {
    "collapsed": true
   },
   "outputs": [],
   "source": [
    "## [1] 4816"
   ]
  },
  {
   "cell_type": "markdown",
   "metadata": {},
   "source": [
    "We subset the results table to these genes and then sort it by the\n",
    "log2 fold change estimate to get the significant genes with the\n",
    "strongest down-regulation:"
   ]
  },
  {
   "cell_type": "code",
   "execution_count": null,
   "metadata": {
    "collapsed": true
   },
   "outputs": [],
   "source": [
    "resSig <- subset(res, padj < 0.1)\n",
    "head(resSig[ order(resSig$log2FoldChange), ])"
   ]
  },
  {
   "cell_type": "code",
   "execution_count": null,
   "metadata": {
    "collapsed": true
   },
   "outputs": [],
   "source": [
    "## log2 fold change (MLE): dex trt vs untrt \n",
    "## Wald test p-value: dex trt vs untrt \n",
    "## DataFrame with 6 rows and 6 columns\n",
    "##                  baseMean log2FoldChange     lfcSE      stat       pvalue\n",
    "##                 <numeric>      <numeric> <numeric> <numeric>    <numeric>\n",
    "## ENSG00000128285  6.624741      -5.325910 1.2578850 -4.234020 2.295505e-05\n",
    "## ENSG00000267339 26.233573      -4.611555 0.6731316 -6.850896 7.338891e-12\n",
    "## ENSG00000019186 14.087605      -4.325920 0.8578242 -5.042898 4.585343e-07\n",
    "## ENSG00000183454  5.804171      -4.264085 1.1669488 -3.654047 2.581395e-04\n",
    "## ENSG00000146006 46.807597      -4.211875 0.5288795 -7.963771 1.668744e-15\n",
    "## ENSG00000141469 53.436528      -4.124796 1.1297987 -3.650913 2.613100e-04\n",
    "##                         padj\n",
    "##                    <numeric>\n",
    "## ENSG00000128285 2.382462e-04\n",
    "## ENSG00000267339 2.057629e-10\n",
    "## ENSG00000019186 6.623763e-06\n",
    "## ENSG00000183454 2.051913e-03\n",
    "## ENSG00000146006 7.179979e-14\n",
    "## ENSG00000141469 2.073458e-03"
   ]
  },
  {
   "cell_type": "markdown",
   "metadata": {},
   "source": [
    "...and with the strongest up-regulation:"
   ]
  },
  {
   "cell_type": "code",
   "execution_count": null,
   "metadata": {
    "collapsed": true
   },
   "outputs": [],
   "source": [
    "head(resSig[ order(resSig$log2FoldChange, decreasing = TRUE), ])"
   ]
  },
  {
   "cell_type": "code",
   "execution_count": null,
   "metadata": {
    "collapsed": true
   },
   "outputs": [],
   "source": [
    "## log2 fold change (MLE): dex trt vs untrt \n",
    "## Wald test p-value: dex trt vs untrt \n",
    "## DataFrame with 6 rows and 6 columns\n",
    "##                   baseMean log2FoldChange     lfcSE      stat       pvalue\n",
    "##                  <numeric>      <numeric> <numeric> <numeric>    <numeric>\n",
    "## ENSG00000179593  67.243048       9.505975 1.0545122  9.014571 1.976428e-19\n",
    "## ENSG00000109906 385.071029       7.352626 0.5363887 13.707645 9.137621e-43\n",
    "## ENSG00000250978  56.318194       6.327392 0.6778154  9.334979 1.010116e-20\n",
    "## ENSG00000132518   5.654654       5.885115 1.3241380  4.444488 8.810142e-06\n",
    "## ENSG00000127954 286.384119       5.207158 0.4930818 10.560435 4.545484e-26\n",
    "## ENSG00000249364   8.839061       5.098168 1.1596864  4.396161 1.101821e-05\n",
    "##                         padj\n",
    "##                    <numeric>\n",
    "## ENSG00000179593 1.254614e-17\n",
    "## ENSG00000109906 2.256617e-40\n",
    "## ENSG00000250978 7.226340e-19\n",
    "## ENSG00000132518 1.002077e-04\n",
    "## ENSG00000127954 5.058395e-24\n",
    "## ENSG00000249364 1.226150e-04"
   ]
  },
  {
   "cell_type": "markdown",
   "metadata": {},
   "source": [
    "# Diagnostic plots\n",
    "\n",
    "## MA-plot\n",
    "\n",
    "An *MA-plot* [@Dudoit2002Statistical] provides a useful overview for\n",
    "the distribution of the estimated coefficients in the model,\n",
    "e.g. the comparisons of interest, across all genes.\n",
    "On the y-axis, the \"M\" stands for \"minus\" --\n",
    "subtraction of log values is equivalent to the log of the ratio -- and\n",
    "on the x-axis, the \"A\" stands for \"average\". You may hear this plot\n",
    "also referred to as a mean-difference plot, or a Bland-Altman plot.\n",
    "\n",
    "Before making the MA-plot, we use the\n",
    "*lfcShrink* function to shrink the log2 fold changes for the\n",
    "comparison of dex treated vs untreated samples:"
   ]
  },
  {
   "cell_type": "code",
   "execution_count": null,
   "metadata": {
    "collapsed": true
   },
   "outputs": [],
   "source": [
    "res <- lfcShrink(dds, contrast=c(\"dex\",\"trt\",\"untrt\"), res=res)\n",
    "plotMA(res, ylim = c(-5, 5))"
   ]
  },
  {
   "cell_type": "markdown",
   "metadata": {},
   "source": [
    "![](BrownCOBREDay2Session2_files/figure-html/plotma-1.png)<!-- -->\n",
    "\n",
    "**An MA-plot of changes induced by treatment.**\n",
    "The log2 fold change for a particular\n",
    "comparison is plotted on the y-axis and the average of the counts\n",
    "normalized by size factor is shown on the x-axis.\n",
    "Each gene is represented with a dot. Genes with an adjusted *p* value\n",
    "below a threshold (here 0.1, the default) are shown in red.\n",
    "\n",
    "The *DESeq2* package uses a Bayesian procedure to moderate (or\n",
    "\"shrink\") log2 fold changes from genes with very low counts and highly\n",
    "variable counts, as can be seen by the narrowing of the vertical\n",
    "spread of points on the left side of the MA-plot. As shown above, the\n",
    "*lfcShrink* function performs this operation.  For a detailed\n",
    "explanation of the rationale of moderated fold changes, please see the\n",
    "*DESeq2* paper [@Love2014Moderated].\n",
    "\n",
    "If we had not used statistical moderation to shrink the noisy log2\n",
    "fold changes, we would have instead seen the following plot:"
   ]
  },
  {
   "cell_type": "code",
   "execution_count": null,
   "metadata": {
    "collapsed": true
   },
   "outputs": [],
   "source": [
    "res.noshr <- results(dds)\n",
    "plotMA(res.noshr, ylim = c(-5, 5))"
   ]
  },
  {
   "cell_type": "markdown",
   "metadata": {},
   "source": [
    "![](BrownCOBREDay2Session2_files/figure-html/plotmaNoShr-1.png)<!-- -->\n",
    "\n",
    "We can label individual points on the MA-plot as well. Here we use the\n",
    "*with* R function to plot a circle and text for a selected row of the\n",
    "results object. Within the *with* function, only the `baseMean` and\n",
    "`log2FoldChange` values for the selected rows of `res` are used."
   ]
  },
  {
   "cell_type": "code",
   "execution_count": null,
   "metadata": {
    "collapsed": true
   },
   "outputs": [],
   "source": [
    "plotMA(res, ylim = c(-5,5))\n",
    "topGene <- rownames(res)[which.min(res$padj)]\n",
    "with(res[topGene, ], {\n",
    "  points(baseMean, log2FoldChange, col=\"dodgerblue\", cex=2, lwd=2)\n",
    "  text(baseMean, log2FoldChange, topGene, pos=2, col=\"dodgerblue\")\n",
    "})"
   ]
  },
  {
   "cell_type": "markdown",
   "metadata": {},
   "source": [
    "![](BrownCOBREDay2Session2_files/figure-html/plotmalabel-1.png)<!-- -->\n",
    "\n",
    "Another useful diagnostic plot is the histogram of the *p* values\n",
    "(figure below). This plot is best formed by excluding genes with very\n",
    "small counts, which otherwise generate spikes in the histogram."
   ]
  },
  {
   "cell_type": "code",
   "execution_count": null,
   "metadata": {
    "collapsed": true
   },
   "outputs": [],
   "source": [
    "hist(res$pvalue[res$baseMean > 1], breaks = 0:20/20,\n",
    "     col = \"grey50\", border = \"white\")"
   ]
  },
  {
   "cell_type": "markdown",
   "metadata": {},
   "source": [
    "**Histogram of *p* values for genes with mean normalized count larger than 1.**"
   ]
  },
  {
   "cell_type": "markdown",
   "metadata": {},
   "source": [
    "# Visualizing differential expression results\n",
    "\n",
    "## Counts plot\n",
    "\n",
    "A quick way to visualize the counts for a particular gene is to use\n",
    "the *plotCounts* function that takes as arguments the\n",
    "*DESeqDataSet*, a gene name, and the group over which to plot the\n",
    "counts (figure below)."
   ]
  },
  {
   "cell_type": "code",
   "execution_count": null,
   "metadata": {
    "collapsed": true
   },
   "outputs": [],
   "source": [
    "topGene <- rownames(res)[which.min(res$padj)]\n",
    "plotCounts(dds, gene = topGene, intgroup=c(\"dex\"))"
   ]
  },
  {
   "cell_type": "markdown",
   "metadata": {},
   "source": [
    "![](BrownCOBREDay2Session2_files/figure-html/plotcounts-1.png)<!-- -->\n",
    "\n",
    "**Normalized counts for a single gene over treatment group.**\n",
    "\n",
    "We can also make custom plots using the *ggplot* function from the\n",
    "[ggplot2](http://ggplot2.org/) package (figures below)."
   ]
  },
  {
   "cell_type": "code",
   "execution_count": null,
   "metadata": {
    "collapsed": true
   },
   "outputs": [],
   "source": [
    "library(\"ggbeeswarm\")\n",
    "geneCounts <- plotCounts(dds, gene = topGene, intgroup = c(\"dex\",\"cell\"),\n",
    "                         returnData = TRUE)\n",
    "ggplot(geneCounts, aes(x = dex, y = count, color = cell)) +\n",
    "  scale_y_log10() +  geom_beeswarm(cex = 3)"
   ]
  },
  {
   "cell_type": "markdown",
   "metadata": {},
   "source": [
    "![](BrownCOBREDay2Session2_files/figure-html/ggplotcountsjitter-1.png)<!-- -->"
   ]
  },
  {
   "cell_type": "code",
   "execution_count": null,
   "metadata": {
    "collapsed": true
   },
   "outputs": [],
   "source": [
    "ggplot(geneCounts, aes(x = dex, y = count, color = cell, group = cell)) +\n",
    "  scale_y_log10() + geom_point(size = 3) + geom_line()"
   ]
  },
  {
   "cell_type": "markdown",
   "metadata": {},
   "source": [
    "![](BrownCOBREDay2Session2_files/figure-html/ggplotcountsgroup-1.png)<!-- -->\n",
    "\n",
    "**Normalized counts with lines connecting cell lines.**\n",
    "Note that the *DESeq* test actually takes into account the cell line\n",
    "effect, so this figure more closely depicts the difference being tested.\n",
    "\n",
    "## Gene clustering\n",
    "\n",
    "In the sample distance heatmap made previously, the dendrogram at the\n",
    "side shows us a hierarchical clustering of the samples. Such a\n",
    "clustering can also be performed for the genes.  Since the clustering\n",
    "is only relevant for genes that actually carry a signal, one usually\n",
    "would only cluster a subset of the most highly variable genes. Here,\n",
    "for demonstration, let us select the 20 genes with the highest\n",
    "variance across samples. We will work with the *rlog* transformed\n",
    "counts:"
   ]
  },
  {
   "cell_type": "code",
   "execution_count": null,
   "metadata": {
    "collapsed": true
   },
   "outputs": [],
   "source": [
    "rld <- rlog(dds, blind=FALSE, fitType=\"mean\")\n",
    "library(genefilter)\n",
    "topVarGenes <- head(order(rowVars(assay(rld)), decreasing = TRUE), 20)"
   ]
  },
  {
   "cell_type": "markdown",
   "metadata": {},
   "source": [
    "The heatmap becomes more interesting if we do not look at absolute\n",
    "expression strength but rather at the amount by which each gene\n",
    "deviates in a specific sample from the gene's average across all\n",
    "samples. Hence, we center each genes' values across samples,\n",
    "and plot a heatmap (figure below). We provide a *data.frame* that instructs the\n",
    "*pheatmap* function how to label the columns."
   ]
  },
  {
   "cell_type": "code",
   "execution_count": null,
   "metadata": {
    "collapsed": true
   },
   "outputs": [],
   "source": [
    "library(pheatmap)\n",
    "mat  <- assay(rld)[ topVarGenes, ]\n",
    "mat  <- mat - rowMeans(mat)\n",
    "anno <- as.data.frame(colData(rld)[, c(\"cell\",\"dex\")])\n",
    "pheatmap(mat, annotation_col = anno)"
   ]
  },
  {
   "cell_type": "markdown",
   "metadata": {},
   "source": [
    "![](BrownCOBREDay2Session2_files/figure-html/genescluster-1.png)<!-- -->\n",
    "\n",
    "**Heatmap of relative rlog-transformed values across samples.**\n",
    "Treatment status and cell line information are shown with colored bars\n",
    "at the top of the heatmap.\n",
    "Blocks of genes that covary across patients. Note that\n",
    "a set of genes at the top of the heatmap are separating the N061011\n",
    "cell line from the others. In the center of the heatmap, we see a set\n",
    "of genes for which the dexamethasone treated samples have higher gene\n",
    "expression. \n",
    "\n",
    "## Plotting fold changes in genomic space\n",
    "\n",
    "If we have used the *summarizeOverlaps* function to count the reads,\n",
    "then our *DESeqDataSet* object is built on top of ready-to-use\n",
    "Bioconductor objects specifying the genomic coordinates of the genes. We\n",
    "can therefore easily plot our differential expression results in\n",
    "genomic space. While the *results* function by default returns a\n",
    "*DataFrame*, using the `format` argument, we can ask for *GRanges* or\n",
    "*GRangesList* output."
   ]
  },
  {
   "cell_type": "code",
   "execution_count": null,
   "metadata": {
    "collapsed": true
   },
   "outputs": [],
   "source": [
    "resGR <- results(dds, lfcThreshold = 1, format = \"GRanges\")"
   ]
  },
  {
   "cell_type": "code",
   "execution_count": null,
   "metadata": {
    "collapsed": true
   },
   "outputs": [],
   "source": [
    "## rowRanges is GRangesList, performing unlist(range(x)) on the rowRanges"
   ]
  },
  {
   "cell_type": "code",
   "execution_count": null,
   "metadata": {
    "collapsed": true
   },
   "outputs": [],
   "source": [
    "resGR"
   ]
  },
  {
   "cell_type": "code",
   "execution_count": null,
   "metadata": {
    "collapsed": true
   },
   "outputs": [],
   "source": [
    "## GRanges object with 64102 ranges and 6 metadata columns:\n",
    "##                   seqnames                 ranges strand |\n",
    "##                      <Rle>              <IRanges>  <Rle> |\n",
    "##   ENSG00000000003        X [ 99883667,  99894988]      - |\n",
    "##   ENSG00000000005        X [ 99839799,  99854882]      + |\n",
    "##   ENSG00000000419       20 [ 49551404,  49575092]      - |\n",
    "##   ENSG00000000457        1 [169818772, 169863408]      - |\n",
    "##   ENSG00000000460        1 [169631245, 169823221]      + |\n",
    "##               ...      ...                    ...    ... .\n",
    "##            LRG_94   LRG_94          [5001, 10428]      + |\n",
    "##            LRG_96   LRG_96          [5001, 91210]      + |\n",
    "##            LRG_97   LRG_97          [5001, 23996]      + |\n",
    "##            LRG_98   LRG_98          [5001, 16750]      + |\n",
    "##            LRG_99   LRG_99          [4975, 11294]      + |\n",
    "##                           baseMean      log2FoldChange             lfcSE\n",
    "##                          <numeric>           <numeric>         <numeric>\n",
    "##   ENSG00000000003 708.602169691234   0.381253974695102 0.100655968298917\n",
    "##   ENSG00000000005                0                <NA>              <NA>\n",
    "##   ENSG00000000419 520.297900552084  -0.206812593508928 0.112221796298649\n",
    "##   ENSG00000000457 237.163036796015 -0.0379203397485277  0.14345321632659\n",
    "##   ENSG00000000460 57.9326331250967  0.0881636734579001 0.287167705676572\n",
    "##               ...              ...                 ...               ...\n",
    "##            LRG_94                0                <NA>              <NA>\n",
    "##            LRG_96                0                <NA>              <NA>\n",
    "##            LRG_97                0                <NA>              <NA>\n",
    "##            LRG_98                0                <NA>              <NA>\n",
    "##            LRG_99                0                <NA>              <NA>\n",
    "##                        stat    pvalue      padj\n",
    "##                   <numeric> <numeric> <numeric>\n",
    "##   ENSG00000000003         0         1         1\n",
    "##   ENSG00000000005      <NA>      <NA>      <NA>\n",
    "##   ENSG00000000419         0         1         1\n",
    "##   ENSG00000000457         0         1         1\n",
    "##   ENSG00000000460         0         1         1\n",
    "##               ...       ...       ...       ...\n",
    "##            LRG_94      <NA>      <NA>      <NA>\n",
    "##            LRG_96      <NA>      <NA>      <NA>\n",
    "##            LRG_97      <NA>      <NA>      <NA>\n",
    "##            LRG_98      <NA>      <NA>      <NA>\n",
    "##            LRG_99      <NA>      <NA>      <NA>\n",
    "##   -------\n",
    "##   seqinfo: 722 sequences (1 circular) from an unspecified genome"
   ]
  },
  {
   "cell_type": "markdown",
   "metadata": {},
   "source": [
    "We need to add the symbol again for labeling the genes on the plot:"
   ]
  },
  {
   "cell_type": "code",
   "execution_count": null,
   "metadata": {
    "collapsed": true
   },
   "outputs": [],
   "source": [
    "library(org.Hs.eg.db)\n",
    "resGR$symbol <- mapIds(org.Hs.eg.db, names(resGR), \"SYMBOL\", \"ENSEMBL\")"
   ]
  },
  {
   "cell_type": "code",
   "execution_count": null,
   "metadata": {
    "collapsed": true
   },
   "outputs": [],
   "source": [
    "## 'select()' returned 1:many mapping between keys and columns"
   ]
  },
  {
   "cell_type": "markdown",
   "metadata": {},
   "source": [
    "We will use the [Gviz](http://www.bioconductor.org/packages/Gviz) package for plotting the GRanges\n",
    "and associated metadata: the log fold changes due to dexamethasone treatment."
   ]
  },
  {
   "cell_type": "code",
   "execution_count": null,
   "metadata": {
    "collapsed": true
   },
   "outputs": [],
   "source": [
    "library(Gviz)"
   ]
  },
  {
   "cell_type": "markdown",
   "metadata": {},
   "source": [
    "The following code chunk specifies a window of 1 million base pairs\n",
    "upstream and downstream from the gene with the smallest *p* value.\n",
    "We create a subset of our full results, for genes within the window.\n",
    "We add the gene symbol as a name if the symbol exists and is not duplicated in\n",
    "our subset."
   ]
  },
  {
   "cell_type": "code",
   "execution_count": null,
   "metadata": {
    "collapsed": true
   },
   "outputs": [],
   "source": [
    "window <- resGR[topGene] + 1e6\n",
    "strand(window) <- \"*\"\n",
    "resGRsub <- resGR[resGR %over% window]\n",
    "naOrDup <- is.na(resGRsub$symbol) | duplicated(resGRsub$symbol)\n",
    "resGRsub$group <- ifelse(naOrDup, names(resGRsub), resGRsub$symbol)"
   ]
  },
  {
   "cell_type": "markdown",
   "metadata": {},
   "source": [
    "We create a vector specifying if the genes in this subset had a low\n",
    "value of `padj`."
   ]
  },
  {
   "cell_type": "code",
   "execution_count": null,
   "metadata": {
    "collapsed": true
   },
   "outputs": [],
   "source": [
    "status <- factor(ifelse(resGRsub$padj < 0.1 & !is.na(resGRsub$padj),\n",
    "                     \"sig\", \"notsig\"))"
   ]
  },
  {
   "cell_type": "markdown",
   "metadata": {},
   "source": [
    "We can then plot the results using [Gviz](http://www.bioconductor.org/packages/Gviz) functions\n",
    "(figure below). We\n",
    "create an axis track specifying our location in the genome, a track\n",
    "that will show the genes and their names, colored by significance,\n",
    "and a data track that will draw vertical bars showing the moderated\n",
    "log fold change produced by *DESeq2*, which we know are only large\n",
    "when the effect is well supported by the information in the counts."
   ]
  },
  {
   "cell_type": "code",
   "execution_count": null,
   "metadata": {
    "collapsed": true
   },
   "outputs": [],
   "source": [
    "options(ucscChromosomeNames = FALSE)\n",
    "g <- GenomeAxisTrack()\n",
    "a <- AnnotationTrack(resGRsub, name = \"gene ranges\", feature = status)\n",
    "d <- DataTrack(resGRsub, data = \"log2FoldChange\", baseline = 0,\n",
    "               type = \"h\", name = \"log2 fold change\", strand = \"+\")\n",
    "plotTracks(list(g, d, a), groupAnnotation = \"group\",\n",
    "           notsig = \"grey\", sig = \"hotpink\")"
   ]
  },
  {
   "cell_type": "markdown",
   "metadata": {},
   "source": [
    "**log2 fold changes in genomic region surrounding the gene with smallest\n",
    "  adjusted *p* value.** Genes highlighted in pink have adjusted *p*\n",
    "  value less than 0.1."
   ]
  },
  {
   "cell_type": "markdown",
   "metadata": {},
   "source": [
    "#  Correcting for batch effects\n",
    "\n",
    "Suppose we did not know that there were different cell lines involved\n",
    "in the experiment, only that there was treatment with\n",
    "dexamethasone. The cell line effect on the counts then would represent\n",
    "some hidden and unwanted variation that might be affecting\n",
    "many or all of the genes in the dataset. We can use statistical\n",
    "methods designed for RNA-seq from the \n",
    "[sva](http://www.bioconductor.org/packages/Gviz) package to\n",
    "detect such groupings of the samples, and then we can add these to the\n",
    "*DESeqDataSet* design, in order to account for them. The *SVA*\n",
    "package uses the term *surrogate variables* for the estimated\n",
    "variables that we want to account for in our analysis. Another\n",
    "package for detecting hidden batches is the "
   ]
  },
  {
   "cell_type": "markdown",
   "metadata": {},
   "source": [
    "[RUVSeq](http://www.bioconductor.org/packages/RUVSeq)\n",
    "package, with the acronym \"Remove Unwanted Variation\"."
   ]
  },
  {
   "cell_type": "code",
   "execution_count": null,
   "metadata": {
    "collapsed": true
   },
   "outputs": [],
   "source": [
    "library(\"sva\")"
   ]
  },
  {
   "cell_type": "markdown",
   "metadata": {},
   "source": [
    "Below we obtain a matrix of normalized counts for which the average count across\n",
    "samples is larger than 1. As we described above, we are trying to\n",
    "recover any hidden batch effects, supposing that we do not know the\n",
    "cell line information. So we use a full model matrix with the\n",
    "*dex* variable, and a reduced, or null, model matrix with only\n",
    "an intercept term. Finally we specify that we want to estimate 2\n",
    "surrogate variables. For more information read the manual page for the\n",
    "*svaseq* function by typing `?svaseq`."
   ]
  },
  {
   "cell_type": "code",
   "execution_count": null,
   "metadata": {
    "collapsed": true
   },
   "outputs": [],
   "source": [
    "dat  <- counts(dds, normalized = TRUE)\n",
    "idx  <- rowMeans(dat) > 1\n",
    "dat  <- dat[idx, ]\n",
    "mod  <- model.matrix(~ dex, colData(dds))\n",
    "mod0 <- model.matrix(~   1, colData(dds))\n",
    "svseq <- svaseq(dat, mod, mod0, n.sv = 2)"
   ]
  },
  {
   "cell_type": "code",
   "execution_count": null,
   "metadata": {
    "collapsed": true
   },
   "outputs": [],
   "source": [
    "## Number of significant surrogate variables is:  2 \n",
    "## Iteration (out of 5 ):1  2  3  4  5"
   ]
  },
  {
   "cell_type": "code",
   "execution_count": null,
   "metadata": {
    "collapsed": true
   },
   "outputs": [],
   "source": [
    "svseq$sv"
   ]
  },
  {
   "cell_type": "code",
   "execution_count": null,
   "metadata": {
    "collapsed": true
   },
   "outputs": [],
   "source": [
    "##            [,1]        [,2]\n",
    "## [1,]  0.2481108 -0.52600157\n",
    "## [2,]  0.2629867 -0.58115433\n",
    "## [3,]  0.1502704  0.27428267\n",
    "## [4,]  0.2023800  0.38419545\n",
    "## [5,] -0.6086586 -0.07854931\n",
    "## [6,] -0.6101210 -0.02923693\n",
    "## [7,]  0.1788509  0.25708985\n",
    "## [8,]  0.1761807  0.29937417"
   ]
  },
  {
   "cell_type": "markdown",
   "metadata": {},
   "source": [
    "Because we actually do know the cell lines, we can see how well the\n",
    "SVA method did at recovering these variables (figure below)."
   ]
  },
  {
   "cell_type": "code",
   "execution_count": null,
   "metadata": {
    "collapsed": true
   },
   "outputs": [],
   "source": [
    "par(mfrow = c(2, 1), mar = c(3,5,3,1))\n",
    "for (i in 1:2) {\n",
    "  stripchart(svseq$sv[, i] ~ dds$cell, vertical = TRUE, main = paste0(\"SV\", i))\n",
    "  abline(h = 0)\n",
    " }"
   ]
  },
  {
   "cell_type": "markdown",
   "metadata": {},
   "source": [
    "![](BrownCOBREDay2Session2_files/figure-html/svaplot-1.png)<!-- -->\n",
    "\n",
    "**Surrogate variables 1 and 2 plotted over cell line.**\n",
    "Here, we know the hidden source of variation (cell line), and\n",
    "therefore can see how the SVA procedure is able to identify a source\n",
    "of variation which is correlated with cell line.\n",
    "\n",
    "Finally, in order to use SVA to remove any effect on the counts from\n",
    "our surrogate variables, we simply add these two surrogate variables\n",
    "as columns to the *DESeqDataSet* and then add them to the design:"
   ]
  },
  {
   "cell_type": "code",
   "execution_count": null,
   "metadata": {
    "collapsed": true
   },
   "outputs": [],
   "source": [
    "ddssva <- dds\n",
    "ddssva$SV1 <- svseq$sv[,1]\n",
    "ddssva$SV2 <- svseq$sv[,2]\n",
    "design(ddssva) <- ~ SV1 + SV2 + dex"
   ]
  },
  {
   "cell_type": "markdown",
   "metadata": {},
   "source": [
    "We could then produce results controlling for surrogate variables by\n",
    "running *DESeq* with the new design:"
   ]
  },
  {
   "cell_type": "code",
   "execution_count": null,
   "metadata": {
    "collapsed": true
   },
   "outputs": [],
   "source": [
    "DESeq(ddssva)"
   ]
  },
  {
   "cell_type": "code",
   "execution_count": null,
   "metadata": {
    "collapsed": true
   },
   "outputs": [],
   "source": [
    "## using pre-existing size factors"
   ]
  },
  {
   "cell_type": "code",
   "execution_count": null,
   "metadata": {
    "collapsed": true
   },
   "outputs": [],
   "source": [
    "## estimating dispersions"
   ]
  },
  {
   "cell_type": "code",
   "execution_count": null,
   "metadata": {
    "collapsed": true
   },
   "outputs": [],
   "source": [
    "## found already estimated dispersions, replacing these"
   ]
  },
  {
   "cell_type": "code",
   "execution_count": null,
   "metadata": {
    "collapsed": true
   },
   "outputs": [],
   "source": [
    "## gene-wise dispersion estimates"
   ]
  },
  {
   "cell_type": "code",
   "execution_count": null,
   "metadata": {
    "collapsed": true
   },
   "outputs": [],
   "source": [
    "## mean-dispersion relationship"
   ]
  },
  {
   "cell_type": "code",
   "execution_count": null,
   "metadata": {
    "collapsed": true
   },
   "outputs": [],
   "source": [
    "## final dispersion estimates"
   ]
  },
  {
   "cell_type": "code",
   "execution_count": null,
   "metadata": {
    "collapsed": true
   },
   "outputs": [],
   "source": [
    "## fitting model and testing"
   ]
  },
  {
   "cell_type": "code",
   "execution_count": null,
   "metadata": {
    "collapsed": true
   },
   "outputs": [],
   "source": [
    "## class: DESeqDataSet \n",
    "## dim: 64102 8 \n",
    "## metadata(2): '' version\n",
    "## assays(3): counts mu cooks\n",
    "## rownames(64102): ENSG00000000003 ENSG00000000005 ... LRG_98 LRG_99\n",
    "## rowData names(29): baseMean baseVar ... deviance maxCooks\n",
    "## colnames(8): SRR1039508 SRR1039509 ... SRR1039520 SRR1039521\n",
    "## colData names(12): SampleName cell ... SV1 SV2"
   ]
  }
 ],
 "metadata": {
  "kernelspec": {
   "display_name": "R",
   "language": "R",
   "name": "ir"
  },
  "language_info": {
   "codemirror_mode": "r",
   "file_extension": ".r",
   "mimetype": "text/x-r-source",
   "name": "R",
   "pygments_lexer": "r",
   "version": "3.4.3"
  }
 },
 "nbformat": 4,
 "nbformat_minor": 2
}
