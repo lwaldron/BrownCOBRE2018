{
 "cells": [
  {
   "cell_type": "markdown",
   "metadata": {},
   "source": [
    "title: \"Period 4 -  Analyses of ChIP Seq data\"\n",
    "\n",
    "\n",
    "# Abstract\n",
    "\n",
    "ChIP-seq is a protocol for inferring the locations of proteins bound or associated with DNA. The raw data looks quite different than DNA- or RNA-seq, in that the NGS reads form tall \"peaks\" at the locations where the proteins were tightly bound to DNA in the cells which were used to create the sample. More specifically, ChIP-seq results in two peaks of reads of different strands (plus/minus also referred to as Watson/Crick), as shown in [Figure 1](http://www.ncbi.nlm.nih.gov/pmc/articles/PMC2592715/figure/F1/) of the MACS manuscript: [Zhang 2008](#foot).\n",
    "\n",
    "Most materials come from [PH525x](https://github.com/genomicsclass/labs/chipseq/ChIPseq.Rmd).\n",
    "\n",
    "#  Approaches to peak calling and merging\n",
    "\n",
    "## Peak calling\n",
    "\n",
    "In the first lab, we use the MACS software to call peaks. The code for this is in the [MACS.txt](https://github.com/genomicsclass/labs/blob/master/course7/MACS.txt) file.\n",
    "\n",
    "There are many different algorithms for calling peaks, which have varying performance on different kinds of experiments. As mentioned in the lecture, for ChIP of proteins with broad peaks (such as modified histones), algorithms other than those for detecting sharp peaks might perform better.\n",
    "\n",
    "## After peak calling\n",
    "\n",
    "A number of analyses might be of interest following peak calling. In this lab we will focus on differential binding across samples, by focusing on the peak regions and counting the number of ChIP-seq reads which fall into the peaks for each sample.\n",
    "\n",
    "Motif-finding is common ChIP-seq analysis which is not explored in this course, as we do not cover the basics of analysis of sequences. Motif-finding refers to the task of looking for common strings of DNA letters contained within peaks. These are biologically meaningful, as a number of proteins which are bound to DNA have conformations which make certain strings of DNA letters more preferable for binding. For more references, see the [Footnotes](#foot).\n",
    "\n",
    "#  Calling differential binding across samples\n",
    "\n",
    "The following lab will go over the functionality of the `DiffBind` package, mostly using code from the vignette. This package is useful for manipulating ChIP-seq signal in R, for comparing signal across files and for performing tests of diffential binding.\n",
    "\n",
    "## Reading peak files into R\n",
    "\n",
    "The `DiffBind` folder contains some called peaks that we can analyze. TODO: describe the origin of this dataset\n",
    "\n",
    "We're going to take this opportunity to demonstrate the use of BiocFileCache to organize and keep track of files:"
   ]
  },
  {
   "cell_type": "code",
   "execution_count": null,
   "metadata": {},
   "outputs": [],
   "source": [
    "library(DiffBind)\n",
    "library(BiocFileCache)\n",
    "bfc <- BiocFileCache(cache=\"~/chipseq-data\")\n",
    "DBfiles <- list.files(system.file(\"extra\", package=\"DiffBind\"), \n",
    "                     recursive = TRUE, full.names = TRUE)\n",
    "DBfiles <- DBfiles[!DBfiles %in% bfcinfo(bfc)$rname]\n",
    "for (i in seq_along(DBfiles))\n",
    "  bfcadd(bfc, rname=DBfiles[i], rtype=\"local\", action=\"copy\")"
   ]
  },
  {
   "cell_type": "code",
   "execution_count": null,
   "metadata": {},
   "outputs": [],
   "source": [
    "bfcquery(bfc, \"peaks\")\n",
    "tamfile <- bfcquery(bfc, \"tamoxifen.csv\")$fpath\n",
    "read.csv(tamfile)"
   ]
  },
  {
   "cell_type": "markdown",
   "metadata": {},
   "source": [
    "The `dba` function creates the basic object for an analysis of *Differential Binding Affinity*. The sample sheet specifies a data frame of file with certain required columns. Note that columns have restricted names, including *Tissue*, *Factor*, *Condition*, etc., which will be referred to later in analysis.\n",
    "\n",
    "This function will automatically create a correlation plot showing the overlap of the peaks for all the samples."
   ]
  },
  {
   "cell_type": "code",
   "execution_count": null,
   "metadata": {},
   "outputs": [],
   "source": [
    "setwd(system.file(\"extra\", package=\"DiffBind\")) #necessary because `tamfile` contains relative paths\n",
    "ta <- dba(sampleSheet=tamfile)\n",
    "ta"
   ]
  },
  {
   "cell_type": "markdown",
   "metadata": {},
   "source": [
    "From the `DiffBind` vignette, we have:\n",
    "\n",
    "> This shows how many peaks are in each peakset, as well as (in the first line) \n",
    "> total number of unique peaks *after merging overlapping ones* (3557) and the \n",
    "> default binding matrix of 11 samples by the 2602 sites that *overlap in at \n",
    "> least two of the samples*.\"\n",
    "\n",
    "We can access the peaks for each file:"
   ]
  },
  {
   "cell_type": "code",
   "execution_count": null,
   "metadata": {},
   "outputs": [],
   "source": [
    "names(ta)\n",
    "class(ta$peaks)\n",
    "head(ta$peaks[[1]])"
   ]
  },
  {
   "cell_type": "markdown",
   "metadata": {},
   "source": [
    "## Differential binding\n",
    "\n",
    "The following code chunk will count the reads from the BAM files specified in the `samples` slot:"
   ]
  },
  {
   "cell_type": "code",
   "execution_count": null,
   "metadata": {},
   "outputs": [],
   "source": [
    "ta$samples\n",
    "# the next line does not actually work, because the BAM files are not included in the package\n",
    "# ta <- dba.count(ta, minOverlap=3)\n",
    "# instead we load the counts:\n",
    "data(tamoxifen_counts)\n",
    "ta2 <- tamoxifen\n",
    "plot(ta2)"
   ]
  },
  {
   "cell_type": "markdown",
   "metadata": {},
   "source": [
    "We can perform a test by specifying to contrast over the levels of condition. This will call DESeq software in order to normalize samples for sequencing depth and perform essentially the same analysis as a differential expression analysis for RNA-Seq counts:"
   ]
  },
  {
   "cell_type": "code",
   "execution_count": null,
   "metadata": {},
   "outputs": [],
   "source": [
    "ta2$config$AnalysisMethod"
   ]
  },
  {
   "cell_type": "markdown",
   "metadata": {},
   "source": [
    "The plot produced then looks at correlation only for those peaks which showed evidence of differential binding."
   ]
  },
  {
   "cell_type": "code",
   "execution_count": null,
   "metadata": {},
   "outputs": [],
   "source": [
    "ta2 <- dba.contrast(ta2, categories=DBA_CONDITION)\n",
    "ta2 <- dba.analyze(ta2)\n",
    "ta2"
   ]
  },
  {
   "cell_type": "markdown",
   "metadata": {},
   "source": [
    "*Note*: We could have included the tissue as a blocking factor, by providing `DBA_TISSUE` to the `block` argument of `dba.contrast`.\n",
    "\n",
    "From the `DiffBind` vignette, we have:\n",
    "\n",
    "> By default, dba.analyze plots a correlation heatmap if it finds any \n",
    "> significantly differentially bound sites, shown in Figure 3. Using only \n",
    "> the differentially bound sites, we now see that the four tamoxifen \n",
    "> resistant samples (representing two cell lines) cluster together, \n",
    "> although the tamoxifen-responsive MCF7 replicates cluster closer to them \n",
    "> than to the other tamoxifen responsive samples.\"\n",
    "\n",
    "Finally, we can generate the results table, which is attached as metadata columns to the peaks as genomic ranges. By specifying `bCounts = TRUE`, we also obtain the normalized counts for each sample."
   ]
  },
  {
   "cell_type": "code",
   "execution_count": null,
   "metadata": {},
   "outputs": [],
   "source": [
    "tadb <- dba.report(ta2)\n",
    "tadb\n",
    "counts <- dba.report(ta2, bCounts=TRUE)"
   ]
  },
  {
   "cell_type": "markdown",
   "metadata": {},
   "source": [
    "## Reproducing the log fold changes\n",
    "\n",
    "The following code is used only to see if we can reproduce the log fold change obtained by the `dba.contrast` function. We extract the counts for the top peak, and put these in the order of the samples table:"
   ]
  },
  {
   "cell_type": "code",
   "execution_count": null,
   "metadata": {},
   "outputs": [],
   "source": [
    "x <- mcols(counts)[1,-c(1:6)]\n",
    "x <- unlist(x)\n",
    "(xord <- x[match(ta2$samples$SampleID, names(x))])\n",
    "# Bioc 2.13 can use this line:\n",
    "# (xord <- x[order(c(which(ta2$samples$Condition == \"Resistant\"),which(ta2$samples$Condition == \"Responsive\")))])\n",
    "ta2$samples$SampleID"
   ]
  },
  {
   "cell_type": "markdown",
   "metadata": {},
   "source": [
    "We create a vector of the conditions, and conditions combined with tissue:"
   ]
  },
  {
   "cell_type": "code",
   "execution_count": null,
   "metadata": {
    "collapsed": true
   },
   "outputs": [],
   "source": [
    "cond <- factor(ta2$samples[,\"Condition\"])\n",
    "condcomb <- factor(paste(ta2$samples[,\"Condition\"], ta2$samples[,\"Tissue\"]))"
   ]
  },
  {
   "cell_type": "markdown",
   "metadata": {},
   "source": [
    "A stripchart of the counts over the conditions:"
   ]
  },
  {
   "cell_type": "code",
   "execution_count": null,
   "metadata": {},
   "outputs": [],
   "source": [
    "par(mar=c(15,5,2,2))\n",
    "stripchart(log(xord) ~ condcomb, method=\"jitter\", \n",
    "           vertical=TRUE, las=2, ylab=\"log2 normalized counts\")"
   ]
  },
  {
   "cell_type": "markdown",
   "metadata": {},
   "source": [
    "Finally, we show that the log2 fold change of the means is the same as reported by the `DiffBind` functions:"
   ]
  },
  {
   "cell_type": "code",
   "execution_count": null,
   "metadata": {},
   "outputs": [],
   "source": [
    "means <- tapply(xord, cond, mean)\n",
    "log2(means[1] / means[2])\n",
    "mcols(tadb)[1,]"
   ]
  },
  {
   "cell_type": "markdown",
   "metadata": {},
   "source": [
    "##  Annotating and plotting peaks\n",
    "\n",
    "TODO"
   ]
  },
  {
   "cell_type": "markdown",
   "metadata": {},
   "source": [
    "## Footnotes <a name=\"foot\"></a>\n",
    "\n",
    "### Model-based Analysis for ChIP-Seq (MACS)\n",
    "\n",
    "Zhang Y, Liu T, Meyer CA, Eeckhoute J, Johnson DS, Bernstein BE, Nusbaum C, Myers RM, Brown M, Li W, Liu XS. \"Model-based Analysis of ChIP-Seq (MACS)\". Genome Biol. 2008.\n",
    "<http://www.ncbi.nlm.nih.gov/pmc/articles/PMC2592715/>\n",
    "\n",
    "Software: \n",
    "\n",
    "<http://liulab.dfci.harvard.edu/MACS/>\n",
    "\n",
    "### Motif finding\n",
    "\n",
    "Wikipedia's article on DNA sequence motifs: <http://en.wikipedia.org/wiki/Sequence_motif>\n",
    "\n",
    "A non-comprehensive list of software for motif finding:\n",
    "\n",
    "- [MEME/DREME](http://meme.nbcr.net/meme/)\n",
    "- [RSAT peak-motifs](http://rsat.ulb.ac.be/peak-motifs_form.cgi)\n",
    "- [motifRG (Bioconductor)](http://www.bioconductor.org/packages/release/bioc/html/motifRG.html)\n",
    "- [rGADEM (Bioconductor)](http://www.bioconductor.org/packages/release/bioc/html/rGADEM.html)\n",
    "\n",
    "A survey of motif finding algorithms: <http://www.biomedcentral.com/1471-2105/8/S7/S21/>\n"
   ]
  }
 ],
 "metadata": {
  "kernelspec": {
   "display_name": "R",
   "language": "R",
   "name": "ir"
  },
  "language_info": {
   "codemirror_mode": "r",
   "file_extension": ".r",
   "mimetype": "text/x-r-source",
   "name": "R",
   "pygments_lexer": "r",
   "version": "3.4.3"
  }
 },
 "nbformat": 4,
 "nbformat_minor": 2
}
