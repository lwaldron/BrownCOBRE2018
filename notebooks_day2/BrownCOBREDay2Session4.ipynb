{
 "cells": [
  {
   "cell_type": "markdown",
   "metadata": {},
   "source": [
    "# Period 4 -  Analyses of ChIP Seq data\n",
    "\n",
    "\n",
    "# Abstract\n",
    "\n",
    "ChIP-seq is a protocol for inferring the locations of proteins bound or associated with DNA. The raw data looks quite different than DNA- or RNA-seq, in that the NGS reads form tall \"peaks\" at the locations where the proteins were tightly bound to DNA in the cells which were used to create the sample. More specifically, ChIP-seq results in two peaks of reads of different strands (plus/minus also referred to as Watson/Crick), as shown in [Figure 1](http://www.ncbi.nlm.nih.gov/pmc/articles/PMC2592715/figure/F1/) of the MACS manuscript: [Zhang 2008](#foot).\n",
    "\n",
    "Most materials come from the [PH525x](https://github.com/genomicsclass/labs/blob/master/chipseq/ChIPseq.Rmd) lab.\n",
    "\n",
    "#  Approaches to peak calling and merging\n",
    "\n",
    "## Peak calling\n",
    "\n",
    "In the first lab, we use the MACS software to call peaks. The code for this is in the [MACS.txt](https://github.com/genomicsclass/labs/blob/master/course7/MACS.txt) file.\n",
    "\n",
    "There are many different algorithms for calling peaks, which have varying performance on different kinds of experiments. As mentioned in the lecture, for ChIP of proteins with broad peaks (such as modified histones), algorithms other than those for detecting sharp peaks might perform better.\n",
    "\n",
    "## After peak calling\n",
    "\n",
    "A number of analyses might be of interest following peak calling. In this lab we will focus on differential binding across samples, by focusing on the peak regions and counting the number of ChIP-seq reads which fall into the peaks for each sample.\n",
    "\n",
    "Motif-finding is common ChIP-seq analysis which is not explored in this course, as we do not cover the basics of analysis of sequences. Motif-finding refers to the task of looking for common strings of DNA letters contained within peaks. These are biologically meaningful, as a number of proteins which are bound to DNA have conformations which make certain strings of DNA letters more preferable for binding. For more references, see the [Footnotes](#foot).\n",
    "\n",
    "#  Calling differential binding across samples\n",
    "\n",
    "The following lab will go over the functionality of the `DiffBind` package, mostly using code from the vignette. This package is useful for manipulating ChIP-seq signal in R, for comparing signal across files and for performing tests of differential binding.\n",
    "\n",
    "## Reading peak files into R\n",
    "\n",
    "The `DiffBind` package provides some called peaks that we can analyze. From the `DiffBind` vignette:\n",
    "\n",
    "> The dataset for this example consists of ChIPs against the transcription factor ERa using five breast cancer cell lines (C.S. Ross-Innes et al, Nature 481(7381):389–393, 2012). Three of these cell lines are responsive to tamoxifen treatment, while two others are resistant to tamoxifen. There are at least two replicates for each of the cell lines, with one cell line having three replicates, for a total of eleven sequenced libraries.\n",
    "\n",
    "> Of the five cell lines, two are based on MCF7 cells: the regular tamoxifen responsive line,\n",
    "as well as MCF7 cells specially treated with tamoxifen until a tamoxifen resistant cell line\n",
    "is obtained. For each sample, we have one peakset originally derived using the MACS peak\n",
    "caller (Y. Zhang et al, Genome Biol, 9(9):R137, 2008), for a total of eleven peaksets. Note that to save space in the package, only data for chromosome 18 is used for the vignette."
   ]
  },
  {
   "cell_type": "markdown",
   "metadata": {},
   "source": [
    "We're going to take this opportunity to demonstrate the use of BiocFileCache to organize and keep track of files:"
   ]
  },
  {
   "cell_type": "code",
   "execution_count": 19,
   "metadata": {
    "collapsed": true
   },
   "outputs": [],
   "source": [
    "suppressPackageStartupMessages({\n",
    "    library(DiffBind)\n",
    "    library(BiocFileCache)\n",
    "})\n",
    "bfc <- BiocFileCache(cache=\"~/chipseq-data\")\n",
    "DBfiles <- list.files(system.file(\"extra\", package=\"DiffBind\"), \n",
    "                     recursive = TRUE, full.names = TRUE)\n",
    "DBfiles <- DBfiles[!DBfiles %in% bfcinfo(bfc)$rname]\n",
    "for (i in seq_along(DBfiles))\n",
    "  bfcadd(bfc, rname=DBfiles[i], rtype=\"local\", action=\"copy\")"
   ]
  },
  {
   "cell_type": "markdown",
   "metadata": {},
   "source": [
    "Peaks are represented as a `.bed` file per sample, in this example summarized in `tamoxifen.csv`:"
   ]
  },
  {
   "cell_type": "code",
   "execution_count": 2,
   "metadata": {
    "scrolled": true
   },
   "outputs": [
    {
     "data": {
      "text/html": [
       "<table>\n",
       "<thead><tr><th scope=col>SampleID</th><th scope=col>Tissue</th><th scope=col>Factor</th><th scope=col>Condition</th><th scope=col>Treatment</th><th scope=col>Replicate</th><th scope=col>bamReads</th><th scope=col>ControlID</th><th scope=col>bamControl</th><th scope=col>Peaks</th><th scope=col>PeakCaller</th></tr></thead>\n",
       "<tbody>\n",
       "\t<tr><td>BT4741                     </td><td>BT474                      </td><td>ER                         </td><td>Resistant                  </td><td>Full-Media                 </td><td>1                          </td><td>reads/Chr18_BT474_ER_1.bam </td><td>BT474c                     </td><td>reads/Chr18_BT474_input.bam</td><td>peaks/BT474_ER_1.bed.gz    </td><td>bed                        </td></tr>\n",
       "\t<tr><td>BT4742                     </td><td>BT474                      </td><td>ER                         </td><td>Resistant                  </td><td>Full-Media                 </td><td>2                          </td><td>reads/Chr18_BT474_ER_2.bam </td><td>BT474c                     </td><td>reads/Chr18_BT474_input.bam</td><td>peaks/BT474_ER_2.bed.gz    </td><td>bed                        </td></tr>\n",
       "\t<tr><td>MCF71                      </td><td>MCF7                       </td><td>ER                         </td><td>Responsive                 </td><td>Full-Media                 </td><td>1                          </td><td>reads/Chr18_MCF7_ER_1.bam  </td><td>MCF7c                      </td><td>reads/Chr18_MCF7_input.bam </td><td>peaks/MCF7_ER_1.bed.gz     </td><td>bed                        </td></tr>\n",
       "\t<tr><td>MCF72                      </td><td>MCF7                       </td><td>ER                         </td><td>Responsive                 </td><td>Full-Media                 </td><td>2                          </td><td>reads/Chr18_MCF7_ER_2.bam  </td><td>MCF7c                      </td><td>reads/Chr18_MCF7_input.bam </td><td>peaks/MCF7_ER_2.bed.gz     </td><td>bed                        </td></tr>\n",
       "\t<tr><td>MCF73                      </td><td>MCF7                       </td><td>ER                         </td><td>Responsive                 </td><td>Full-Media                 </td><td>3                          </td><td>reads/Chr18_MCF7_ER_3.bam  </td><td>MCF7c                      </td><td>reads/Chr18_MCF7_input.bam </td><td>peaks/MCF7_ER_3.bed.gz     </td><td>bed                        </td></tr>\n",
       "\t<tr><td>T47D1                      </td><td>T47D                       </td><td>ER                         </td><td>Responsive                 </td><td>Full-Media                 </td><td>1                          </td><td>reads/Chr18_T47D_ER_1.bam  </td><td>T47Dc                      </td><td>reads/Chr18_T47D_input.bam </td><td>peaks/T47D_ER_1.bed.gz     </td><td>bed                        </td></tr>\n",
       "\t<tr><td>T47D2                      </td><td>T47D                       </td><td>ER                         </td><td>Responsive                 </td><td>Full-Media                 </td><td>2                          </td><td>reads/Chr18_T47D_ER_2.bam  </td><td>T47Dc                      </td><td>reads/Chr18_T47D_input.bam </td><td>peaks/T47D_ER_2.bed.gz     </td><td>bed                        </td></tr>\n",
       "\t<tr><td>MCF7r1                     </td><td>MCF7                       </td><td>ER                         </td><td>Resistant                  </td><td>Full-Media                 </td><td>1                          </td><td>reads/Chr18_TAMR_ER_1.bam  </td><td>TAMRc                      </td><td>reads/Chr18_TAMR_input.bam </td><td>peaks/TAMR_ER_1.bed.gz     </td><td>bed                        </td></tr>\n",
       "\t<tr><td>MCF7r2                     </td><td>MCF7                       </td><td>ER                         </td><td>Resistant                  </td><td>Full-Media                 </td><td>2                          </td><td>reads/Chr18_TAMR_ER_2.bam  </td><td>TAMRc                      </td><td>reads/Chr18_TAMR_input.bam </td><td>peaks/TAMR_ER_2.bed.gz     </td><td>bed                        </td></tr>\n",
       "\t<tr><td>ZR751                      </td><td>ZR75                       </td><td>ER                         </td><td>Responsive                 </td><td>Full-Media                 </td><td>1                          </td><td>reads/Chr18_ZR75_ER_1.bam  </td><td>ZR75c                      </td><td>reads/Chr18_ZR75_input.bam </td><td>peaks/ZR75_ER_1.bed.gz     </td><td>bed                        </td></tr>\n",
       "\t<tr><td>ZR752                      </td><td>ZR75                       </td><td>ER                         </td><td>Responsive                 </td><td>Full-Media                 </td><td>2                          </td><td>reads/Chr18_ZR75_ER_2.bam  </td><td>ZR75c                      </td><td>reads/Chr18_ZR75_input.bam </td><td>peaks/ZR75_ER_2.bed.gz     </td><td>bed                        </td></tr>\n",
       "</tbody>\n",
       "</table>\n"
      ],
      "text/latex": [
       "\\begin{tabular}{r|lllllllllll}\n",
       " SampleID & Tissue & Factor & Condition & Treatment & Replicate & bamReads & ControlID & bamControl & Peaks & PeakCaller\\\\\n",
       "\\hline\n",
       "\t BT4741                           & BT474                            & ER                               & Resistant                        & Full-Media                       & 1                                & reads/Chr18\\_BT474\\_ER\\_1.bam & BT474c                           & reads/Chr18\\_BT474\\_input.bam  & peaks/BT474\\_ER\\_1.bed.gz      & bed                             \\\\\n",
       "\t BT4742                           & BT474                            & ER                               & Resistant                        & Full-Media                       & 2                                & reads/Chr18\\_BT474\\_ER\\_2.bam & BT474c                           & reads/Chr18\\_BT474\\_input.bam  & peaks/BT474\\_ER\\_2.bed.gz      & bed                             \\\\\n",
       "\t MCF71                            & MCF7                             & ER                               & Responsive                       & Full-Media                       & 1                                & reads/Chr18\\_MCF7\\_ER\\_1.bam  & MCF7c                            & reads/Chr18\\_MCF7\\_input.bam   & peaks/MCF7\\_ER\\_1.bed.gz       & bed                             \\\\\n",
       "\t MCF72                            & MCF7                             & ER                               & Responsive                       & Full-Media                       & 2                                & reads/Chr18\\_MCF7\\_ER\\_2.bam  & MCF7c                            & reads/Chr18\\_MCF7\\_input.bam   & peaks/MCF7\\_ER\\_2.bed.gz       & bed                             \\\\\n",
       "\t MCF73                            & MCF7                             & ER                               & Responsive                       & Full-Media                       & 3                                & reads/Chr18\\_MCF7\\_ER\\_3.bam  & MCF7c                            & reads/Chr18\\_MCF7\\_input.bam   & peaks/MCF7\\_ER\\_3.bed.gz       & bed                             \\\\\n",
       "\t T47D1                            & T47D                             & ER                               & Responsive                       & Full-Media                       & 1                                & reads/Chr18\\_T47D\\_ER\\_1.bam  & T47Dc                            & reads/Chr18\\_T47D\\_input.bam   & peaks/T47D\\_ER\\_1.bed.gz       & bed                             \\\\\n",
       "\t T47D2                            & T47D                             & ER                               & Responsive                       & Full-Media                       & 2                                & reads/Chr18\\_T47D\\_ER\\_2.bam  & T47Dc                            & reads/Chr18\\_T47D\\_input.bam   & peaks/T47D\\_ER\\_2.bed.gz       & bed                             \\\\\n",
       "\t MCF7r1                           & MCF7                             & ER                               & Resistant                        & Full-Media                       & 1                                & reads/Chr18\\_TAMR\\_ER\\_1.bam  & TAMRc                            & reads/Chr18\\_TAMR\\_input.bam   & peaks/TAMR\\_ER\\_1.bed.gz       & bed                             \\\\\n",
       "\t MCF7r2                           & MCF7                             & ER                               & Resistant                        & Full-Media                       & 2                                & reads/Chr18\\_TAMR\\_ER\\_2.bam  & TAMRc                            & reads/Chr18\\_TAMR\\_input.bam   & peaks/TAMR\\_ER\\_2.bed.gz       & bed                             \\\\\n",
       "\t ZR751                            & ZR75                             & ER                               & Responsive                       & Full-Media                       & 1                                & reads/Chr18\\_ZR75\\_ER\\_1.bam  & ZR75c                            & reads/Chr18\\_ZR75\\_input.bam   & peaks/ZR75\\_ER\\_1.bed.gz       & bed                             \\\\\n",
       "\t ZR752                            & ZR75                             & ER                               & Responsive                       & Full-Media                       & 2                                & reads/Chr18\\_ZR75\\_ER\\_2.bam  & ZR75c                            & reads/Chr18\\_ZR75\\_input.bam   & peaks/ZR75\\_ER\\_2.bed.gz       & bed                             \\\\\n",
       "\\end{tabular}\n"
      ],
      "text/markdown": [
       "\n",
       "SampleID | Tissue | Factor | Condition | Treatment | Replicate | bamReads | ControlID | bamControl | Peaks | PeakCaller | \n",
       "|---|---|---|---|---|---|---|---|---|---|---|\n",
       "| BT4741                      | BT474                       | ER                          | Resistant                   | Full-Media                  | 1                           | reads/Chr18_BT474_ER_1.bam  | BT474c                      | reads/Chr18_BT474_input.bam | peaks/BT474_ER_1.bed.gz     | bed                         | \n",
       "| BT4742                      | BT474                       | ER                          | Resistant                   | Full-Media                  | 2                           | reads/Chr18_BT474_ER_2.bam  | BT474c                      | reads/Chr18_BT474_input.bam | peaks/BT474_ER_2.bed.gz     | bed                         | \n",
       "| MCF71                       | MCF7                        | ER                          | Responsive                  | Full-Media                  | 1                           | reads/Chr18_MCF7_ER_1.bam   | MCF7c                       | reads/Chr18_MCF7_input.bam  | peaks/MCF7_ER_1.bed.gz      | bed                         | \n",
       "| MCF72                       | MCF7                        | ER                          | Responsive                  | Full-Media                  | 2                           | reads/Chr18_MCF7_ER_2.bam   | MCF7c                       | reads/Chr18_MCF7_input.bam  | peaks/MCF7_ER_2.bed.gz      | bed                         | \n",
       "| MCF73                       | MCF7                        | ER                          | Responsive                  | Full-Media                  | 3                           | reads/Chr18_MCF7_ER_3.bam   | MCF7c                       | reads/Chr18_MCF7_input.bam  | peaks/MCF7_ER_3.bed.gz      | bed                         | \n",
       "| T47D1                       | T47D                        | ER                          | Responsive                  | Full-Media                  | 1                           | reads/Chr18_T47D_ER_1.bam   | T47Dc                       | reads/Chr18_T47D_input.bam  | peaks/T47D_ER_1.bed.gz      | bed                         | \n",
       "| T47D2                       | T47D                        | ER                          | Responsive                  | Full-Media                  | 2                           | reads/Chr18_T47D_ER_2.bam   | T47Dc                       | reads/Chr18_T47D_input.bam  | peaks/T47D_ER_2.bed.gz      | bed                         | \n",
       "| MCF7r1                      | MCF7                        | ER                          | Resistant                   | Full-Media                  | 1                           | reads/Chr18_TAMR_ER_1.bam   | TAMRc                       | reads/Chr18_TAMR_input.bam  | peaks/TAMR_ER_1.bed.gz      | bed                         | \n",
       "| MCF7r2                      | MCF7                        | ER                          | Resistant                   | Full-Media                  | 2                           | reads/Chr18_TAMR_ER_2.bam   | TAMRc                       | reads/Chr18_TAMR_input.bam  | peaks/TAMR_ER_2.bed.gz      | bed                         | \n",
       "| ZR751                       | ZR75                        | ER                          | Responsive                  | Full-Media                  | 1                           | reads/Chr18_ZR75_ER_1.bam   | ZR75c                       | reads/Chr18_ZR75_input.bam  | peaks/ZR75_ER_1.bed.gz      | bed                         | \n",
       "| ZR752                       | ZR75                        | ER                          | Responsive                  | Full-Media                  | 2                           | reads/Chr18_ZR75_ER_2.bam   | ZR75c                       | reads/Chr18_ZR75_input.bam  | peaks/ZR75_ER_2.bed.gz      | bed                         | \n",
       "\n",
       "\n"
      ],
      "text/plain": [
       "   SampleID Tissue Factor Condition  Treatment  Replicate\n",
       "1  BT4741   BT474  ER     Resistant  Full-Media 1        \n",
       "2  BT4742   BT474  ER     Resistant  Full-Media 2        \n",
       "3  MCF71    MCF7   ER     Responsive Full-Media 1        \n",
       "4  MCF72    MCF7   ER     Responsive Full-Media 2        \n",
       "5  MCF73    MCF7   ER     Responsive Full-Media 3        \n",
       "6  T47D1    T47D   ER     Responsive Full-Media 1        \n",
       "7  T47D2    T47D   ER     Responsive Full-Media 2        \n",
       "8  MCF7r1   MCF7   ER     Resistant  Full-Media 1        \n",
       "9  MCF7r2   MCF7   ER     Resistant  Full-Media 2        \n",
       "10 ZR751    ZR75   ER     Responsive Full-Media 1        \n",
       "11 ZR752    ZR75   ER     Responsive Full-Media 2        \n",
       "   bamReads                   ControlID bamControl                 \n",
       "1  reads/Chr18_BT474_ER_1.bam BT474c    reads/Chr18_BT474_input.bam\n",
       "2  reads/Chr18_BT474_ER_2.bam BT474c    reads/Chr18_BT474_input.bam\n",
       "3  reads/Chr18_MCF7_ER_1.bam  MCF7c     reads/Chr18_MCF7_input.bam \n",
       "4  reads/Chr18_MCF7_ER_2.bam  MCF7c     reads/Chr18_MCF7_input.bam \n",
       "5  reads/Chr18_MCF7_ER_3.bam  MCF7c     reads/Chr18_MCF7_input.bam \n",
       "6  reads/Chr18_T47D_ER_1.bam  T47Dc     reads/Chr18_T47D_input.bam \n",
       "7  reads/Chr18_T47D_ER_2.bam  T47Dc     reads/Chr18_T47D_input.bam \n",
       "8  reads/Chr18_TAMR_ER_1.bam  TAMRc     reads/Chr18_TAMR_input.bam \n",
       "9  reads/Chr18_TAMR_ER_2.bam  TAMRc     reads/Chr18_TAMR_input.bam \n",
       "10 reads/Chr18_ZR75_ER_1.bam  ZR75c     reads/Chr18_ZR75_input.bam \n",
       "11 reads/Chr18_ZR75_ER_2.bam  ZR75c     reads/Chr18_ZR75_input.bam \n",
       "   Peaks                   PeakCaller\n",
       "1  peaks/BT474_ER_1.bed.gz bed       \n",
       "2  peaks/BT474_ER_2.bed.gz bed       \n",
       "3  peaks/MCF7_ER_1.bed.gz  bed       \n",
       "4  peaks/MCF7_ER_2.bed.gz  bed       \n",
       "5  peaks/MCF7_ER_3.bed.gz  bed       \n",
       "6  peaks/T47D_ER_1.bed.gz  bed       \n",
       "7  peaks/T47D_ER_2.bed.gz  bed       \n",
       "8  peaks/TAMR_ER_1.bed.gz  bed       \n",
       "9  peaks/TAMR_ER_2.bed.gz  bed       \n",
       "10 peaks/ZR75_ER_1.bed.gz  bed       \n",
       "11 peaks/ZR75_ER_2.bed.gz  bed       "
      ]
     },
     "metadata": {},
     "output_type": "display_data"
    }
   ],
   "source": [
    "tamfile <- bfcquery(bfc, \"tamoxifen.csv\")$fpath\n",
    "read.csv(tamfile)"
   ]
  },
  {
   "cell_type": "markdown",
   "metadata": {},
   "source": [
    "Just as a note, we now have the paths of all these files stored in our `BiocFileCache`:"
   ]
  },
  {
   "cell_type": "code",
   "execution_count": 3,
   "metadata": {
    "scrolled": true
   },
   "outputs": [
    {
     "data": {
      "text/html": [
       "<ol class=list-inline>\n",
       "\t<li>'/Library/Frameworks/R.framework/Versions/3.4/Resources/library/DiffBind/extra/peaks/BT474_ER_1.bed.gz'</li>\n",
       "\t<li>'/Library/Frameworks/R.framework/Versions/3.4/Resources/library/DiffBind/extra/peaks/BT474_ER_2.bed.gz'</li>\n",
       "\t<li>'/Library/Frameworks/R.framework/Versions/3.4/Resources/library/DiffBind/extra/peaks/MCF7_ER_1.bed.gz'</li>\n",
       "\t<li>'/Library/Frameworks/R.framework/Versions/3.4/Resources/library/DiffBind/extra/peaks/MCF7_ER_2.bed.gz'</li>\n",
       "\t<li>'/Library/Frameworks/R.framework/Versions/3.4/Resources/library/DiffBind/extra/peaks/MCF7_ER_3.bed.gz'</li>\n",
       "\t<li>'/Library/Frameworks/R.framework/Versions/3.4/Resources/library/DiffBind/extra/peaks/T47D_ER_1.bed.gz'</li>\n",
       "\t<li>'/Library/Frameworks/R.framework/Versions/3.4/Resources/library/DiffBind/extra/peaks/T47D_ER_2.bed.gz'</li>\n",
       "\t<li>'/Library/Frameworks/R.framework/Versions/3.4/Resources/library/DiffBind/extra/peaks/TAMR_ER_1.bed.gz'</li>\n",
       "\t<li>'/Library/Frameworks/R.framework/Versions/3.4/Resources/library/DiffBind/extra/peaks/TAMR_ER_2.bed.gz'</li>\n",
       "\t<li>'/Library/Frameworks/R.framework/Versions/3.4/Resources/library/DiffBind/extra/peaks/ZR75_ER_1.bed.gz'</li>\n",
       "\t<li>'/Library/Frameworks/R.framework/Versions/3.4/Resources/library/DiffBind/extra/peaks/ZR75_ER_2.bed.gz'</li>\n",
       "</ol>\n"
      ],
      "text/latex": [
       "\\begin{enumerate*}\n",
       "\\item '/Library/Frameworks/R.framework/Versions/3.4/Resources/library/DiffBind/extra/peaks/BT474\\_ER\\_1.bed.gz'\n",
       "\\item '/Library/Frameworks/R.framework/Versions/3.4/Resources/library/DiffBind/extra/peaks/BT474\\_ER\\_2.bed.gz'\n",
       "\\item '/Library/Frameworks/R.framework/Versions/3.4/Resources/library/DiffBind/extra/peaks/MCF7\\_ER\\_1.bed.gz'\n",
       "\\item '/Library/Frameworks/R.framework/Versions/3.4/Resources/library/DiffBind/extra/peaks/MCF7\\_ER\\_2.bed.gz'\n",
       "\\item '/Library/Frameworks/R.framework/Versions/3.4/Resources/library/DiffBind/extra/peaks/MCF7\\_ER\\_3.bed.gz'\n",
       "\\item '/Library/Frameworks/R.framework/Versions/3.4/Resources/library/DiffBind/extra/peaks/T47D\\_ER\\_1.bed.gz'\n",
       "\\item '/Library/Frameworks/R.framework/Versions/3.4/Resources/library/DiffBind/extra/peaks/T47D\\_ER\\_2.bed.gz'\n",
       "\\item '/Library/Frameworks/R.framework/Versions/3.4/Resources/library/DiffBind/extra/peaks/TAMR\\_ER\\_1.bed.gz'\n",
       "\\item '/Library/Frameworks/R.framework/Versions/3.4/Resources/library/DiffBind/extra/peaks/TAMR\\_ER\\_2.bed.gz'\n",
       "\\item '/Library/Frameworks/R.framework/Versions/3.4/Resources/library/DiffBind/extra/peaks/ZR75\\_ER\\_1.bed.gz'\n",
       "\\item '/Library/Frameworks/R.framework/Versions/3.4/Resources/library/DiffBind/extra/peaks/ZR75\\_ER\\_2.bed.gz'\n",
       "\\end{enumerate*}\n"
      ],
      "text/markdown": [
       "1. '/Library/Frameworks/R.framework/Versions/3.4/Resources/library/DiffBind/extra/peaks/BT474_ER_1.bed.gz'\n",
       "2. '/Library/Frameworks/R.framework/Versions/3.4/Resources/library/DiffBind/extra/peaks/BT474_ER_2.bed.gz'\n",
       "3. '/Library/Frameworks/R.framework/Versions/3.4/Resources/library/DiffBind/extra/peaks/MCF7_ER_1.bed.gz'\n",
       "4. '/Library/Frameworks/R.framework/Versions/3.4/Resources/library/DiffBind/extra/peaks/MCF7_ER_2.bed.gz'\n",
       "5. '/Library/Frameworks/R.framework/Versions/3.4/Resources/library/DiffBind/extra/peaks/MCF7_ER_3.bed.gz'\n",
       "6. '/Library/Frameworks/R.framework/Versions/3.4/Resources/library/DiffBind/extra/peaks/T47D_ER_1.bed.gz'\n",
       "7. '/Library/Frameworks/R.framework/Versions/3.4/Resources/library/DiffBind/extra/peaks/T47D_ER_2.bed.gz'\n",
       "8. '/Library/Frameworks/R.framework/Versions/3.4/Resources/library/DiffBind/extra/peaks/TAMR_ER_1.bed.gz'\n",
       "9. '/Library/Frameworks/R.framework/Versions/3.4/Resources/library/DiffBind/extra/peaks/TAMR_ER_2.bed.gz'\n",
       "10. '/Library/Frameworks/R.framework/Versions/3.4/Resources/library/DiffBind/extra/peaks/ZR75_ER_1.bed.gz'\n",
       "11. '/Library/Frameworks/R.framework/Versions/3.4/Resources/library/DiffBind/extra/peaks/ZR75_ER_2.bed.gz'\n",
       "\n",
       "\n"
      ],
      "text/plain": [
       " [1] \"/Library/Frameworks/R.framework/Versions/3.4/Resources/library/DiffBind/extra/peaks/BT474_ER_1.bed.gz\"\n",
       " [2] \"/Library/Frameworks/R.framework/Versions/3.4/Resources/library/DiffBind/extra/peaks/BT474_ER_2.bed.gz\"\n",
       " [3] \"/Library/Frameworks/R.framework/Versions/3.4/Resources/library/DiffBind/extra/peaks/MCF7_ER_1.bed.gz\" \n",
       " [4] \"/Library/Frameworks/R.framework/Versions/3.4/Resources/library/DiffBind/extra/peaks/MCF7_ER_2.bed.gz\" \n",
       " [5] \"/Library/Frameworks/R.framework/Versions/3.4/Resources/library/DiffBind/extra/peaks/MCF7_ER_3.bed.gz\" \n",
       " [6] \"/Library/Frameworks/R.framework/Versions/3.4/Resources/library/DiffBind/extra/peaks/T47D_ER_1.bed.gz\" \n",
       " [7] \"/Library/Frameworks/R.framework/Versions/3.4/Resources/library/DiffBind/extra/peaks/T47D_ER_2.bed.gz\" \n",
       " [8] \"/Library/Frameworks/R.framework/Versions/3.4/Resources/library/DiffBind/extra/peaks/TAMR_ER_1.bed.gz\" \n",
       " [9] \"/Library/Frameworks/R.framework/Versions/3.4/Resources/library/DiffBind/extra/peaks/TAMR_ER_2.bed.gz\" \n",
       "[10] \"/Library/Frameworks/R.framework/Versions/3.4/Resources/library/DiffBind/extra/peaks/ZR75_ER_1.bed.gz\" \n",
       "[11] \"/Library/Frameworks/R.framework/Versions/3.4/Resources/library/DiffBind/extra/peaks/ZR75_ER_2.bed.gz\" "
      ]
     },
     "metadata": {},
     "output_type": "display_data"
    }
   ],
   "source": [
    "bfcquery(bfc, \"peaks\")$rpath"
   ]
  },
  {
   "cell_type": "markdown",
   "metadata": {},
   "source": [
    "## Peak merging and differential binding setup\n",
    "\n",
    "The `dba` function creates the basic object for an analysis of *Differential Binding Affinity*. The sample sheet specifies a data frame of file with certain required columns. Note that columns have restricted names, including *Tissue*, *Factor*, *Condition*, etc., which will be referred to later in analysis.\n",
    "\n",
    "This function will automatically create a correlation plot showing the overlap of the peaks for all the samples."
   ]
  },
  {
   "cell_type": "code",
   "execution_count": 4,
   "metadata": {},
   "outputs": [
    {
     "name": "stderr",
     "output_type": "stream",
     "text": [
      "BT4741 BT474 ER Resistant Full-Media 1 bed\n",
      "BT4742 BT474 ER Resistant Full-Media 2 bed\n",
      "MCF71 MCF7 ER Responsive Full-Media 1 bed\n",
      "MCF72 MCF7 ER Responsive Full-Media 2 bed\n",
      "MCF73 MCF7 ER Responsive Full-Media 3 bed\n",
      "T47D1 T47D ER Responsive Full-Media 1 bed\n",
      "T47D2 T47D ER Responsive Full-Media 2 bed\n",
      "MCF7r1 MCF7 ER Resistant Full-Media 1 bed\n",
      "MCF7r2 MCF7 ER Resistant Full-Media 2 bed\n",
      "ZR751 ZR75 ER Responsive Full-Media 1 bed\n",
      "ZR752 ZR75 ER Responsive Full-Media 2 bed\n"
     ]
    },
    {
     "data": {
      "text/plain": [
       "11 Samples, 2845 sites in matrix (3795 total):\n",
       "       ID Tissue Factor  Condition  Treatment Replicate Caller Intervals\n",
       "1  BT4741  BT474     ER  Resistant Full-Media         1    bed      1080\n",
       "2  BT4742  BT474     ER  Resistant Full-Media         2    bed      1122\n",
       "3   MCF71   MCF7     ER Responsive Full-Media         1    bed      1556\n",
       "4   MCF72   MCF7     ER Responsive Full-Media         2    bed      1046\n",
       "5   MCF73   MCF7     ER Responsive Full-Media         3    bed      1339\n",
       "6   T47D1   T47D     ER Responsive Full-Media         1    bed       527\n",
       "7   T47D2   T47D     ER Responsive Full-Media         2    bed       373\n",
       "8  MCF7r1   MCF7     ER  Resistant Full-Media         1    bed      1438\n",
       "9  MCF7r2   MCF7     ER  Resistant Full-Media         2    bed       930\n",
       "10  ZR751   ZR75     ER Responsive Full-Media         1    bed      2346\n",
       "11  ZR752   ZR75     ER Responsive Full-Media         2    bed      2345"
      ]
     },
     "metadata": {},
     "output_type": "display_data"
    }
   ],
   "source": [
    "setwd(system.file(\"extra\", package=\"DiffBind\")) #necessary because `tamfile` contains relative paths\n",
    "ta <- dba(sampleSheet=tamfile)\n",
    "ta"
   ]
  },
  {
   "cell_type": "markdown",
   "metadata": {},
   "source": [
    "From the `DiffBind` vignette, we have:\n",
    "\n",
    "> This shows how many peaks are in each peakset, as well as (in the first line) the total number of unique peaks after merging overlapping ones (3795), and the dimensions of dba.plotPCA (default binding matrix of 11 samples by the 2845 sites that overlap in at least two of the samples). \n",
    "\n",
    "We can access the peaks for each file:"
   ]
  },
  {
   "cell_type": "code",
   "execution_count": 5,
   "metadata": {},
   "outputs": [
    {
     "data": {
      "text/html": [
       "<ol class=list-inline>\n",
       "\t<li>'config'</li>\n",
       "\t<li>'chrmap'</li>\n",
       "\t<li>'peaks'</li>\n",
       "\t<li>'class'</li>\n",
       "\t<li>'masks'</li>\n",
       "\t<li>'samples'</li>\n",
       "\t<li>'called'</li>\n",
       "\t<li>'totalMerged'</li>\n",
       "\t<li>'merged'</li>\n",
       "\t<li>'binding'</li>\n",
       "\t<li>'attributes'</li>\n",
       "\t<li>'minOverlap'</li>\n",
       "</ol>\n"
      ],
      "text/latex": [
       "\\begin{enumerate*}\n",
       "\\item 'config'\n",
       "\\item 'chrmap'\n",
       "\\item 'peaks'\n",
       "\\item 'class'\n",
       "\\item 'masks'\n",
       "\\item 'samples'\n",
       "\\item 'called'\n",
       "\\item 'totalMerged'\n",
       "\\item 'merged'\n",
       "\\item 'binding'\n",
       "\\item 'attributes'\n",
       "\\item 'minOverlap'\n",
       "\\end{enumerate*}\n"
      ],
      "text/markdown": [
       "1. 'config'\n",
       "2. 'chrmap'\n",
       "3. 'peaks'\n",
       "4. 'class'\n",
       "5. 'masks'\n",
       "6. 'samples'\n",
       "7. 'called'\n",
       "8. 'totalMerged'\n",
       "9. 'merged'\n",
       "10. 'binding'\n",
       "11. 'attributes'\n",
       "12. 'minOverlap'\n",
       "\n",
       "\n"
      ],
      "text/plain": [
       " [1] \"config\"      \"chrmap\"      \"peaks\"       \"class\"       \"masks\"      \n",
       " [6] \"samples\"     \"called\"      \"totalMerged\" \"merged\"      \"binding\"    \n",
       "[11] \"attributes\"  \"minOverlap\" "
      ]
     },
     "metadata": {},
     "output_type": "display_data"
    },
    {
     "data": {
      "text/html": [
       "'list'"
      ],
      "text/latex": [
       "'list'"
      ],
      "text/markdown": [
       "'list'"
      ],
      "text/plain": [
       "[1] \"list\""
      ]
     },
     "metadata": {},
     "output_type": "display_data"
    },
    {
     "data": {
      "text/html": [
       "<table>\n",
       "<thead><tr><th scope=col>V1</th><th scope=col>V2</th><th scope=col>V3</th><th scope=col>V5</th></tr></thead>\n",
       "<tbody>\n",
       "\t<tr><td>chr18     </td><td>215562    </td><td>216063    </td><td>0.01742633</td></tr>\n",
       "\t<tr><td>chr18     </td><td>311530    </td><td>312105    </td><td>0.06909971</td></tr>\n",
       "\t<tr><td>chr18     </td><td>356656    </td><td>357315    </td><td>0.02859148</td></tr>\n",
       "\t<tr><td>chr18     </td><td>371110    </td><td>372092    </td><td>0.03846775</td></tr>\n",
       "\t<tr><td>chr18     </td><td>395116    </td><td>396464    </td><td>0.47995863</td></tr>\n",
       "\t<tr><td>chr18     </td><td>399014    </td><td>400382    </td><td>0.56996310</td></tr>\n",
       "</tbody>\n",
       "</table>\n"
      ],
      "text/latex": [
       "\\begin{tabular}{r|llll}\n",
       " V1 & V2 & V3 & V5\\\\\n",
       "\\hline\n",
       "\t chr18      & 215562     & 216063     & 0.01742633\\\\\n",
       "\t chr18      & 311530     & 312105     & 0.06909971\\\\\n",
       "\t chr18      & 356656     & 357315     & 0.02859148\\\\\n",
       "\t chr18      & 371110     & 372092     & 0.03846775\\\\\n",
       "\t chr18      & 395116     & 396464     & 0.47995863\\\\\n",
       "\t chr18      & 399014     & 400382     & 0.56996310\\\\\n",
       "\\end{tabular}\n"
      ],
      "text/markdown": [
       "\n",
       "V1 | V2 | V3 | V5 | \n",
       "|---|---|---|---|---|---|\n",
       "| chr18      | 215562     | 216063     | 0.01742633 | \n",
       "| chr18      | 311530     | 312105     | 0.06909971 | \n",
       "| chr18      | 356656     | 357315     | 0.02859148 | \n",
       "| chr18      | 371110     | 372092     | 0.03846775 | \n",
       "| chr18      | 395116     | 396464     | 0.47995863 | \n",
       "| chr18      | 399014     | 400382     | 0.56996310 | \n",
       "\n",
       "\n"
      ],
      "text/plain": [
       "  V1    V2     V3     V5        \n",
       "1 chr18 215562 216063 0.01742633\n",
       "2 chr18 311530 312105 0.06909971\n",
       "3 chr18 356656 357315 0.02859148\n",
       "4 chr18 371110 372092 0.03846775\n",
       "5 chr18 395116 396464 0.47995863\n",
       "6 chr18 399014 400382 0.56996310"
      ]
     },
     "metadata": {},
     "output_type": "display_data"
    }
   ],
   "source": [
    "names(ta)\n",
    "class(ta$peaks)\n",
    "head(ta$peaks[[1]])"
   ]
  },
  {
   "cell_type": "markdown",
   "metadata": {},
   "source": [
    "## Differential binding\n",
    "\n",
    "The following code chunk will count the reads from the BAM files specified in the `samples` slot:"
   ]
  },
  {
   "cell_type": "code",
   "execution_count": 6,
   "metadata": {},
   "outputs": [
    {
     "data": {
      "text/html": [
       "<table>\n",
       "<thead><tr><th scope=col>SampleID</th><th scope=col>Tissue</th><th scope=col>Factor</th><th scope=col>Condition</th><th scope=col>Treatment</th><th scope=col>Replicate</th><th scope=col>bamReads</th><th scope=col>ControlID</th><th scope=col>bamControl</th><th scope=col>Peaks</th><th scope=col>PeakCaller</th></tr></thead>\n",
       "<tbody>\n",
       "\t<tr><td>BT4741                     </td><td>BT474                      </td><td>ER                         </td><td>Resistant                  </td><td>Full-Media                 </td><td>1                          </td><td>reads/Chr18_BT474_ER_1.bam </td><td>BT474c                     </td><td>reads/Chr18_BT474_input.bam</td><td>peaks/BT474_ER_1.bed.gz    </td><td>bed                        </td></tr>\n",
       "\t<tr><td>BT4742                     </td><td>BT474                      </td><td>ER                         </td><td>Resistant                  </td><td>Full-Media                 </td><td>2                          </td><td>reads/Chr18_BT474_ER_2.bam </td><td>BT474c                     </td><td>reads/Chr18_BT474_input.bam</td><td>peaks/BT474_ER_2.bed.gz    </td><td>bed                        </td></tr>\n",
       "\t<tr><td>MCF71                      </td><td>MCF7                       </td><td>ER                         </td><td>Responsive                 </td><td>Full-Media                 </td><td>1                          </td><td>reads/Chr18_MCF7_ER_1.bam  </td><td>MCF7c                      </td><td>reads/Chr18_MCF7_input.bam </td><td>peaks/MCF7_ER_1.bed.gz     </td><td>bed                        </td></tr>\n",
       "\t<tr><td>MCF72                      </td><td>MCF7                       </td><td>ER                         </td><td>Responsive                 </td><td>Full-Media                 </td><td>2                          </td><td>reads/Chr18_MCF7_ER_2.bam  </td><td>MCF7c                      </td><td>reads/Chr18_MCF7_input.bam </td><td>peaks/MCF7_ER_2.bed.gz     </td><td>bed                        </td></tr>\n",
       "\t<tr><td>MCF73                      </td><td>MCF7                       </td><td>ER                         </td><td>Responsive                 </td><td>Full-Media                 </td><td>3                          </td><td>reads/Chr18_MCF7_ER_3.bam  </td><td>MCF7c                      </td><td>reads/Chr18_MCF7_input.bam </td><td>peaks/MCF7_ER_3.bed.gz     </td><td>bed                        </td></tr>\n",
       "\t<tr><td>T47D1                      </td><td>T47D                       </td><td>ER                         </td><td>Responsive                 </td><td>Full-Media                 </td><td>1                          </td><td>reads/Chr18_T47D_ER_1.bam  </td><td>T47Dc                      </td><td>reads/Chr18_T47D_input.bam </td><td>peaks/T47D_ER_1.bed.gz     </td><td>bed                        </td></tr>\n",
       "\t<tr><td>T47D2                      </td><td>T47D                       </td><td>ER                         </td><td>Responsive                 </td><td>Full-Media                 </td><td>2                          </td><td>reads/Chr18_T47D_ER_2.bam  </td><td>T47Dc                      </td><td>reads/Chr18_T47D_input.bam </td><td>peaks/T47D_ER_2.bed.gz     </td><td>bed                        </td></tr>\n",
       "\t<tr><td>MCF7r1                     </td><td>MCF7                       </td><td>ER                         </td><td>Resistant                  </td><td>Full-Media                 </td><td>1                          </td><td>reads/Chr18_TAMR_ER_1.bam  </td><td>TAMRc                      </td><td>reads/Chr18_TAMR_input.bam </td><td>peaks/TAMR_ER_1.bed.gz     </td><td>bed                        </td></tr>\n",
       "\t<tr><td>MCF7r2                     </td><td>MCF7                       </td><td>ER                         </td><td>Resistant                  </td><td>Full-Media                 </td><td>2                          </td><td>reads/Chr18_TAMR_ER_2.bam  </td><td>TAMRc                      </td><td>reads/Chr18_TAMR_input.bam </td><td>peaks/TAMR_ER_2.bed.gz     </td><td>bed                        </td></tr>\n",
       "\t<tr><td>ZR751                      </td><td>ZR75                       </td><td>ER                         </td><td>Responsive                 </td><td>Full-Media                 </td><td>1                          </td><td>reads/Chr18_ZR75_ER_1.bam  </td><td>ZR75c                      </td><td>reads/Chr18_ZR75_input.bam </td><td>peaks/ZR75_ER_1.bed.gz     </td><td>bed                        </td></tr>\n",
       "\t<tr><td>ZR752                      </td><td>ZR75                       </td><td>ER                         </td><td>Responsive                 </td><td>Full-Media                 </td><td>2                          </td><td>reads/Chr18_ZR75_ER_2.bam  </td><td>ZR75c                      </td><td>reads/Chr18_ZR75_input.bam </td><td>peaks/ZR75_ER_2.bed.gz     </td><td>bed                        </td></tr>\n",
       "</tbody>\n",
       "</table>\n"
      ],
      "text/latex": [
       "\\begin{tabular}{r|lllllllllll}\n",
       " SampleID & Tissue & Factor & Condition & Treatment & Replicate & bamReads & ControlID & bamControl & Peaks & PeakCaller\\\\\n",
       "\\hline\n",
       "\t BT4741                           & BT474                            & ER                               & Resistant                        & Full-Media                       & 1                                & reads/Chr18\\_BT474\\_ER\\_1.bam & BT474c                           & reads/Chr18\\_BT474\\_input.bam  & peaks/BT474\\_ER\\_1.bed.gz      & bed                             \\\\\n",
       "\t BT4742                           & BT474                            & ER                               & Resistant                        & Full-Media                       & 2                                & reads/Chr18\\_BT474\\_ER\\_2.bam & BT474c                           & reads/Chr18\\_BT474\\_input.bam  & peaks/BT474\\_ER\\_2.bed.gz      & bed                             \\\\\n",
       "\t MCF71                            & MCF7                             & ER                               & Responsive                       & Full-Media                       & 1                                & reads/Chr18\\_MCF7\\_ER\\_1.bam  & MCF7c                            & reads/Chr18\\_MCF7\\_input.bam   & peaks/MCF7\\_ER\\_1.bed.gz       & bed                             \\\\\n",
       "\t MCF72                            & MCF7                             & ER                               & Responsive                       & Full-Media                       & 2                                & reads/Chr18\\_MCF7\\_ER\\_2.bam  & MCF7c                            & reads/Chr18\\_MCF7\\_input.bam   & peaks/MCF7\\_ER\\_2.bed.gz       & bed                             \\\\\n",
       "\t MCF73                            & MCF7                             & ER                               & Responsive                       & Full-Media                       & 3                                & reads/Chr18\\_MCF7\\_ER\\_3.bam  & MCF7c                            & reads/Chr18\\_MCF7\\_input.bam   & peaks/MCF7\\_ER\\_3.bed.gz       & bed                             \\\\\n",
       "\t T47D1                            & T47D                             & ER                               & Responsive                       & Full-Media                       & 1                                & reads/Chr18\\_T47D\\_ER\\_1.bam  & T47Dc                            & reads/Chr18\\_T47D\\_input.bam   & peaks/T47D\\_ER\\_1.bed.gz       & bed                             \\\\\n",
       "\t T47D2                            & T47D                             & ER                               & Responsive                       & Full-Media                       & 2                                & reads/Chr18\\_T47D\\_ER\\_2.bam  & T47Dc                            & reads/Chr18\\_T47D\\_input.bam   & peaks/T47D\\_ER\\_2.bed.gz       & bed                             \\\\\n",
       "\t MCF7r1                           & MCF7                             & ER                               & Resistant                        & Full-Media                       & 1                                & reads/Chr18\\_TAMR\\_ER\\_1.bam  & TAMRc                            & reads/Chr18\\_TAMR\\_input.bam   & peaks/TAMR\\_ER\\_1.bed.gz       & bed                             \\\\\n",
       "\t MCF7r2                           & MCF7                             & ER                               & Resistant                        & Full-Media                       & 2                                & reads/Chr18\\_TAMR\\_ER\\_2.bam  & TAMRc                            & reads/Chr18\\_TAMR\\_input.bam   & peaks/TAMR\\_ER\\_2.bed.gz       & bed                             \\\\\n",
       "\t ZR751                            & ZR75                             & ER                               & Responsive                       & Full-Media                       & 1                                & reads/Chr18\\_ZR75\\_ER\\_1.bam  & ZR75c                            & reads/Chr18\\_ZR75\\_input.bam   & peaks/ZR75\\_ER\\_1.bed.gz       & bed                             \\\\\n",
       "\t ZR752                            & ZR75                             & ER                               & Responsive                       & Full-Media                       & 2                                & reads/Chr18\\_ZR75\\_ER\\_2.bam  & ZR75c                            & reads/Chr18\\_ZR75\\_input.bam   & peaks/ZR75\\_ER\\_2.bed.gz       & bed                             \\\\\n",
       "\\end{tabular}\n"
      ],
      "text/markdown": [
       "\n",
       "SampleID | Tissue | Factor | Condition | Treatment | Replicate | bamReads | ControlID | bamControl | Peaks | PeakCaller | \n",
       "|---|---|---|---|---|---|---|---|---|---|---|\n",
       "| BT4741                      | BT474                       | ER                          | Resistant                   | Full-Media                  | 1                           | reads/Chr18_BT474_ER_1.bam  | BT474c                      | reads/Chr18_BT474_input.bam | peaks/BT474_ER_1.bed.gz     | bed                         | \n",
       "| BT4742                      | BT474                       | ER                          | Resistant                   | Full-Media                  | 2                           | reads/Chr18_BT474_ER_2.bam  | BT474c                      | reads/Chr18_BT474_input.bam | peaks/BT474_ER_2.bed.gz     | bed                         | \n",
       "| MCF71                       | MCF7                        | ER                          | Responsive                  | Full-Media                  | 1                           | reads/Chr18_MCF7_ER_1.bam   | MCF7c                       | reads/Chr18_MCF7_input.bam  | peaks/MCF7_ER_1.bed.gz      | bed                         | \n",
       "| MCF72                       | MCF7                        | ER                          | Responsive                  | Full-Media                  | 2                           | reads/Chr18_MCF7_ER_2.bam   | MCF7c                       | reads/Chr18_MCF7_input.bam  | peaks/MCF7_ER_2.bed.gz      | bed                         | \n",
       "| MCF73                       | MCF7                        | ER                          | Responsive                  | Full-Media                  | 3                           | reads/Chr18_MCF7_ER_3.bam   | MCF7c                       | reads/Chr18_MCF7_input.bam  | peaks/MCF7_ER_3.bed.gz      | bed                         | \n",
       "| T47D1                       | T47D                        | ER                          | Responsive                  | Full-Media                  | 1                           | reads/Chr18_T47D_ER_1.bam   | T47Dc                       | reads/Chr18_T47D_input.bam  | peaks/T47D_ER_1.bed.gz      | bed                         | \n",
       "| T47D2                       | T47D                        | ER                          | Responsive                  | Full-Media                  | 2                           | reads/Chr18_T47D_ER_2.bam   | T47Dc                       | reads/Chr18_T47D_input.bam  | peaks/T47D_ER_2.bed.gz      | bed                         | \n",
       "| MCF7r1                      | MCF7                        | ER                          | Resistant                   | Full-Media                  | 1                           | reads/Chr18_TAMR_ER_1.bam   | TAMRc                       | reads/Chr18_TAMR_input.bam  | peaks/TAMR_ER_1.bed.gz      | bed                         | \n",
       "| MCF7r2                      | MCF7                        | ER                          | Resistant                   | Full-Media                  | 2                           | reads/Chr18_TAMR_ER_2.bam   | TAMRc                       | reads/Chr18_TAMR_input.bam  | peaks/TAMR_ER_2.bed.gz      | bed                         | \n",
       "| ZR751                       | ZR75                        | ER                          | Responsive                  | Full-Media                  | 1                           | reads/Chr18_ZR75_ER_1.bam   | ZR75c                       | reads/Chr18_ZR75_input.bam  | peaks/ZR75_ER_1.bed.gz      | bed                         | \n",
       "| ZR752                       | ZR75                        | ER                          | Responsive                  | Full-Media                  | 2                           | reads/Chr18_ZR75_ER_2.bam   | ZR75c                       | reads/Chr18_ZR75_input.bam  | peaks/ZR75_ER_2.bed.gz      | bed                         | \n",
       "\n",
       "\n"
      ],
      "text/plain": [
       "   SampleID Tissue Factor Condition  Treatment  Replicate\n",
       "1  BT4741   BT474  ER     Resistant  Full-Media 1        \n",
       "2  BT4742   BT474  ER     Resistant  Full-Media 2        \n",
       "3  MCF71    MCF7   ER     Responsive Full-Media 1        \n",
       "4  MCF72    MCF7   ER     Responsive Full-Media 2        \n",
       "5  MCF73    MCF7   ER     Responsive Full-Media 3        \n",
       "6  T47D1    T47D   ER     Responsive Full-Media 1        \n",
       "7  T47D2    T47D   ER     Responsive Full-Media 2        \n",
       "8  MCF7r1   MCF7   ER     Resistant  Full-Media 1        \n",
       "9  MCF7r2   MCF7   ER     Resistant  Full-Media 2        \n",
       "10 ZR751    ZR75   ER     Responsive Full-Media 1        \n",
       "11 ZR752    ZR75   ER     Responsive Full-Media 2        \n",
       "   bamReads                   ControlID bamControl                 \n",
       "1  reads/Chr18_BT474_ER_1.bam BT474c    reads/Chr18_BT474_input.bam\n",
       "2  reads/Chr18_BT474_ER_2.bam BT474c    reads/Chr18_BT474_input.bam\n",
       "3  reads/Chr18_MCF7_ER_1.bam  MCF7c     reads/Chr18_MCF7_input.bam \n",
       "4  reads/Chr18_MCF7_ER_2.bam  MCF7c     reads/Chr18_MCF7_input.bam \n",
       "5  reads/Chr18_MCF7_ER_3.bam  MCF7c     reads/Chr18_MCF7_input.bam \n",
       "6  reads/Chr18_T47D_ER_1.bam  T47Dc     reads/Chr18_T47D_input.bam \n",
       "7  reads/Chr18_T47D_ER_2.bam  T47Dc     reads/Chr18_T47D_input.bam \n",
       "8  reads/Chr18_TAMR_ER_1.bam  TAMRc     reads/Chr18_TAMR_input.bam \n",
       "9  reads/Chr18_TAMR_ER_2.bam  TAMRc     reads/Chr18_TAMR_input.bam \n",
       "10 reads/Chr18_ZR75_ER_1.bam  ZR75c     reads/Chr18_ZR75_input.bam \n",
       "11 reads/Chr18_ZR75_ER_2.bam  ZR75c     reads/Chr18_ZR75_input.bam \n",
       "   Peaks                   PeakCaller\n",
       "1  peaks/BT474_ER_1.bed.gz bed       \n",
       "2  peaks/BT474_ER_2.bed.gz bed       \n",
       "3  peaks/MCF7_ER_1.bed.gz  bed       \n",
       "4  peaks/MCF7_ER_2.bed.gz  bed       \n",
       "5  peaks/MCF7_ER_3.bed.gz  bed       \n",
       "6  peaks/T47D_ER_1.bed.gz  bed       \n",
       "7  peaks/T47D_ER_2.bed.gz  bed       \n",
       "8  peaks/TAMR_ER_1.bed.gz  bed       \n",
       "9  peaks/TAMR_ER_2.bed.gz  bed       \n",
       "10 peaks/ZR75_ER_1.bed.gz  bed       \n",
       "11 peaks/ZR75_ER_2.bed.gz  bed       "
      ]
     },
     "metadata": {},
     "output_type": "display_data"
    }
   ],
   "source": [
    "ta$samples"
   ]
  },
  {
   "cell_type": "code",
   "execution_count": 7,
   "metadata": {},
   "outputs": [
    {
     "data": {
      "image/png": "[encoded data removed]",
      "text/plain": [
       "Plot with title “Color Key\n",
       "and Histogram”"
      ]
     },
     "metadata": {},
     "output_type": "display_data"
    }
   ],
   "source": [
    "options(repr.plot.width=5, repr.plot.height=5)\n",
    "# the next line does not actually work, because the BAM files are not included in the package\n",
    "# ta <- dba.count(ta, minOverlap=3)\n",
    "# instead we load the counts:\n",
    "data(tamoxifen_counts)\n",
    "plot(tamoxifen)"
   ]
  },
  {
   "cell_type": "markdown",
   "metadata": {},
   "source": [
    "We can perform a test by specifying to contrast over the levels of condition. This will call DESeq software in order to normalize samples for sequencing depth and perform essentially the same analysis as a differential expression analysis for RNA-Seq counts:"
   ]
  },
  {
   "cell_type": "code",
   "execution_count": 8,
   "metadata": {},
   "outputs": [
    {
     "data": {
      "text/html": [
       "DESeq2"
      ],
      "text/latex": [
       "DESeq2"
      ],
      "text/markdown": [
       "DESeq2"
      ],
      "text/plain": [
       "[1] DESeq2\n",
       "Levels: DESeq2"
      ]
     },
     "metadata": {},
     "output_type": "display_data"
    }
   ],
   "source": [
    "tamoxifen$config$AnalysisMethod"
   ]
  },
  {
   "cell_type": "markdown",
   "metadata": {},
   "source": [
    "The plot produced then looks at correlation only for those peaks which showed evidence of differential binding."
   ]
  },
  {
   "cell_type": "code",
   "execution_count": 9,
   "metadata": {},
   "outputs": [
    {
     "name": "stderr",
     "output_type": "stream",
     "text": [
      "converting counts to integer mode\n",
      "gene-wise dispersion estimates\n",
      "mean-dispersion relationship\n",
      "final dispersion estimates\n"
     ]
    },
    {
     "data": {
      "text/plain": [
       "11 Samples, 2845 sites in matrix:\n",
       "       ID Tissue Factor  Condition  Treatment Replicate Caller Intervals FRiP\n",
       "1  BT4741  BT474     ER  Resistant Full-Media         1 counts      2845 0.16\n",
       "2  BT4742  BT474     ER  Resistant Full-Media         2 counts      2845 0.15\n",
       "3   MCF71   MCF7     ER Responsive Full-Media         1 counts      2845 0.27\n",
       "4   MCF72   MCF7     ER Responsive Full-Media         2 counts      2845 0.17\n",
       "5   MCF73   MCF7     ER Responsive Full-Media         3 counts      2845 0.23\n",
       "6   T47D1   T47D     ER Responsive Full-Media         1 counts      2845 0.10\n",
       "7   T47D2   T47D     ER Responsive Full-Media         2 counts      2845 0.06\n",
       "8  MCF7r1   MCF7     ER  Resistant Full-Media         1 counts      2845 0.20\n",
       "9  MCF7r2   MCF7     ER  Resistant Full-Media         2 counts      2845 0.13\n",
       "10  ZR751   ZR75     ER Responsive Full-Media         1 counts      2845 0.32\n",
       "11  ZR752   ZR75     ER Responsive Full-Media         2 counts      2845 0.22\n",
       "\n",
       "1 Contrast:\n",
       "     Group1 Members1     Group2 Members2 DB.DESeq2\n",
       "1 Resistant        4 Responsive        7       629"
      ]
     },
     "metadata": {},
     "output_type": "display_data"
    }
   ],
   "source": [
    "ta2 <- dba.contrast(tamoxifen, categories=DBA_CONDITION)\n",
    "ta2 <- dba.analyze(ta2)\n",
    "ta2"
   ]
  },
  {
   "cell_type": "markdown",
   "metadata": {},
   "source": [
    "*Note*: We could have included the tissue as a blocking factor, by providing `DBA_TISSUE` to the `block` argument of `dba.contrast`.\n",
    "\n",
    "From the `DiffBind` vignette, we have:\n",
    "\n",
    "> By default, dba.analyze plots a correlation heatmap if it finds any \n",
    "> significantly differentially bound sites, shown in Figure 3. Using only \n",
    "> the differentially bound sites, we now see that the four tamoxifen \n",
    "> resistant samples (representing two cell lines) cluster together, \n",
    "> although the tamoxifen-responsive MCF7 replicates cluster closer to them \n",
    "> than to the other tamoxifen responsive samples.\"\n",
    "\n",
    "Finally, we can generate the results table, which is attached as metadata columns to the peaks as genomic ranges. By specifying `bCounts = TRUE`, we also obtain the normalized counts for each sample."
   ]
  },
  {
   "cell_type": "code",
   "execution_count": 10,
   "metadata": {},
   "outputs": [
    {
     "data": {
      "text/plain": [
       "GRanges object with 629 ranges and 6 metadata columns:\n",
       "       seqnames               ranges strand |      Conc Conc_Resistant\n",
       "          <Rle>            <IRanges>  <Rle> | <numeric>      <numeric>\n",
       "  2452    chr18 [64490686, 64491186]      * |      6.36           1.39\n",
       "  1291    chr18 [34597713, 34598213]      * |      5.33           0.22\n",
       "   976    chr18 [26860997, 26861497]      * |       7.3           3.13\n",
       "  2338    chr18 [60892900, 60893400]      * |      7.13           1.84\n",
       "  2077    chr18 [55569087, 55569587]      * |      5.52           1.89\n",
       "   ...      ...                  ...    ... .       ...            ...\n",
       "   551    chr18 [14465945, 14466445]      * |      6.02           4.38\n",
       "  2659    chr18 [71909888, 71910388]      * |      5.58           3.73\n",
       "  2541    chr18 [68007206, 68007706]      * |      3.61           2.41\n",
       "  1967    chr18 [52609747, 52610247]      * |      3.87           2.39\n",
       "  2383    chr18 [61927095, 61927595]      * |      1.72          -0.22\n",
       "       Conc_Responsive      Fold   p-value       FDR\n",
       "             <numeric> <numeric> <numeric> <numeric>\n",
       "  2452               7     -5.61  3.57e-10  1.02e-06\n",
       "  1291            5.97     -5.75   1.1e-09  1.57e-06\n",
       "   976            7.92     -4.79   1.1e-08  1.05e-05\n",
       "  2338            7.77     -5.93  1.68e-08  1.17e-05\n",
       "  2077            6.13     -4.23  2.36e-08  1.17e-05\n",
       "   ...             ...       ...       ...       ...\n",
       "   551            6.49     -2.11    0.0108     0.049\n",
       "  2659            6.07     -2.34    0.0108    0.0491\n",
       "  2541            4.01      -1.6    0.0109    0.0495\n",
       "  1967            4.32     -1.94    0.0109    0.0495\n",
       "  2383            2.22     -2.44     0.011    0.0498\n",
       "  -------\n",
       "  seqinfo: 1 sequence from an unspecified genome; no seqlengths"
      ]
     },
     "metadata": {},
     "output_type": "display_data"
    }
   ],
   "source": [
    "tadb <- dba.report(ta2)\n",
    "tadb\n",
    "counts <- dba.report(ta2, bCounts=TRUE)"
   ]
  },
  {
   "cell_type": "markdown",
   "metadata": {},
   "source": [
    "##  Annotating and plotting peaks\n"
   ]
  },
  {
   "cell_type": "markdown",
   "metadata": {},
   "source": [
    "First, do any differentially bound peaks overlap with genes? Yes, 299 of the 629 peaks do:"
   ]
  },
  {
   "cell_type": "code",
   "execution_count": 11,
   "metadata": {},
   "outputs": [
    {
     "name": "stderr",
     "output_type": "stream",
     "text": [
      "Loading required package: AnnotationDbi\n",
      "Loading required package: OrganismDbi\n",
      "Loading required package: GenomicFeatures\n",
      "Loading required package: GO.db\n",
      "Loading required package: org.Hs.eg.db\n",
      "\n",
      "Loading required package: TxDb.Hsapiens.UCSC.hg19.knownGene\n",
      "'select()' returned 1:1 mapping between keys and columns\n"
     ]
    },
    {
     "data": {
      "text/plain": [
       "   Mode   FALSE    TRUE \n",
       "logical     330     299 "
      ]
     },
     "metadata": {},
     "output_type": "display_data"
    }
   ],
   "source": [
    "library(Homo.sapiens)\n",
    "gn <- genes(Homo.sapiens, columns=\"SYMBOL\")\n",
    "summary(counts %over% gn)"
   ]
  },
  {
   "cell_type": "markdown",
   "metadata": {},
   "source": [
    "How many genes does each peak overlap with?"
   ]
  },
  {
   "cell_type": "code",
   "execution_count": 12,
   "metadata": {},
   "outputs": [
    {
     "data": {
      "text/plain": [
       "\n",
       "  0   1   2 \n",
       "330 289  10 "
      ]
     },
     "metadata": {},
     "output_type": "display_data"
    }
   ],
   "source": [
    "table(countOverlaps(counts, gn))"
   ]
  },
  {
   "cell_type": "markdown",
   "metadata": {},
   "source": [
    "Let's look at those peaks that overlap with two genes:"
   ]
  },
  {
   "cell_type": "code",
   "execution_count": 13,
   "metadata": {
    "scrolled": true
   },
   "outputs": [
    {
     "data": {
      "text/html": [
       "<ol class=list-inline>\n",
       "\t<li>107.743</li>\n",
       "\t<li>325.387</li>\n",
       "\t<li>18.89</li>\n",
       "\t<li>69.018</li>\n",
       "\t<li>319.503</li>\n",
       "\t<li>46.973</li>\n",
       "\t<li>156.669</li>\n",
       "\t<li>269.708</li>\n",
       "\t<li>959.237</li>\n",
       "</ol>\n"
      ],
      "text/latex": [
       "\\begin{enumerate*}\n",
       "\\item 107.743\n",
       "\\item 325.387\n",
       "\\item 18.89\n",
       "\\item 69.018\n",
       "\\item 319.503\n",
       "\\item 46.973\n",
       "\\item 156.669\n",
       "\\item 269.708\n",
       "\\item 959.237\n",
       "\\end{enumerate*}\n"
      ],
      "text/markdown": [
       "1. 107.743\n",
       "2. 325.387\n",
       "3. 18.89\n",
       "4. 69.018\n",
       "5. 319.503\n",
       "6. 46.973\n",
       "7. 156.669\n",
       "8. 269.708\n",
       "9. 959.237\n",
       "\n",
       "\n"
      ],
      "text/plain": [
       "[1] 107.743 325.387  18.890  69.018 319.503  46.973 156.669 269.708 959.237"
      ]
     },
     "metadata": {},
     "output_type": "display_data"
    },
    {
     "data": {
      "text/plain": [
       "GRanges object with 9 ranges and 1 metadata column:\n",
       "            seqnames               ranges strand |          SYMBOL\n",
       "               <Rle>            <IRanges>  <Rle> | <CharacterList>\n",
       "       9229    chr18 [ 3496030,  4455266]      - |          DLGAP1\n",
       "     201477    chr18 [ 3878180,  3897069]      + |      DLGAP1-AS3\n",
       "     147429    chr18 [24445272, 24770658]      + |        AQP4-AS1\n",
       "      83539    chr18 [24495595, 24765302]      - |           CHST9\n",
       "  100505549    chr18 [55297534, 55405276]      + |    LOC100505549\n",
       "       5205    chr18 [55313659, 55470327]      - |          ATP8B1\n",
       "     221241    chr18 [61747243, 61816260]      - |       LINC00305\n",
       "     284294    chr18 [61771325, 62090827]      + |       LINC01924\n",
       "     400654    chr18 [61880318, 61927290]      - |       LINC01538\n",
       "  -------\n",
       "  seqinfo: 93 sequences (1 circular) from hg19 genome"
      ]
     },
     "metadata": {},
     "output_type": "display_data"
    }
   ],
   "source": [
    "count2 <- counts[countOverlaps(counts, gn) == 2]\n",
    "gn2 <- gn[gn %over% count2]\n",
    "width(gn2) / 1e3  #width in kb\n",
    "gn2 <- gn2[order(ranges(gn2))]\n",
    "gn2"
   ]
  },
  {
   "cell_type": "markdown",
   "metadata": {},
   "source": [
    "## Plot peaks in the UCSC genome browser\n",
    "Although the `DiffBind` package doesn't specify the genome, let's assume it is `hg19`, add a track to the `hg19` genome in the UCSC genome browser, then start the browser centered on the peak with greatest fold-change:"
   ]
  },
  {
   "cell_type": "code",
   "execution_count": 14,
   "metadata": {
    "collapsed": true
   },
   "outputs": [],
   "source": [
    "genome(counts) <- \"hg19\"\n",
    "library(rtracklayer)\n",
    "session <- browserSession(\"UCSC\")\n",
    "genome(session) <- \"hg19\"\n",
    "track(session, \"counts\") <- counts"
   ]
  },
  {
   "cell_type": "code",
   "execution_count": 15,
   "metadata": {},
   "outputs": [
    {
     "data": {
      "text/plain": [
       "UCSCView of :33031597-33041570 \n",
       "trackNames(10): 'counts' 'Base Position' ... 'Common SNPs(150)' 'RepeatMasker'"
      ]
     },
     "metadata": {},
     "output_type": "display_data"
    }
   ],
   "source": [
    "rangemaxFC <- counts[which.max(abs(counts$Fold))]\n",
    "browserView(session, range=rangemaxFC * 0.75)  #0.75 zoom-factor"
   ]
  },
  {
   "cell_type": "markdown",
   "metadata": {},
   "source": [
    "Finally, let's plot the peak that overlapped with *AQP4-AS1* on the sense strand and *CHST9* on the antisense strand:"
   ]
  },
  {
   "cell_type": "code",
   "execution_count": 16,
   "metadata": {},
   "outputs": [
    {
     "data": {
      "text/plain": [
       "GRanges object with 2 ranges and 1 metadata column:\n",
       "         seqnames               ranges strand |          SYMBOL\n",
       "            <Rle>            <IRanges>  <Rle> | <CharacterList>\n",
       "  147429    chr18 [24445272, 24770658]      + |        AQP4-AS1\n",
       "   83539    chr18 [24495595, 24765302]      - |           CHST9\n",
       "  -------\n",
       "  seqinfo: 93 sequences (1 circular) from hg19 genome"
      ]
     },
     "metadata": {},
     "output_type": "display_data"
    }
   ],
   "source": [
    "gn2[3:4]"
   ]
  },
  {
   "cell_type": "code",
   "execution_count": 17,
   "metadata": {},
   "outputs": [
    {
     "data": {
      "text/plain": [
       "GRanges object with 1 range and 0 metadata columns:\n",
       "      seqnames               ranges strand\n",
       "         <Rle>            <IRanges>  <Rle>\n",
       "  [1]    chr18 [24445272, 24770658]      *\n",
       "  -------\n",
       "  seqinfo: 93 sequences (1 circular) from hg19 genome"
      ]
     },
     "metadata": {},
     "output_type": "display_data"
    }
   ],
   "source": [
    "(plotrange <- reduce(gn2[3:4], ignore.strand=TRUE))"
   ]
  },
  {
   "cell_type": "code",
   "execution_count": 18,
   "metadata": {},
   "outputs": [
    {
     "data": {
      "text/plain": [
       "UCSCView of :69433024-69433691 \n",
       "trackNames(10): 'counts' 'Base Position' ... 'Common SNPs(150)' 'RepeatMasker'"
      ]
     },
     "metadata": {},
     "output_type": "display_data"
    }
   ],
   "source": [
    "browserView(session, range=plotrange * 0.75)"
   ]
  },
  {
   "cell_type": "markdown",
   "metadata": {},
   "source": [
    "## Annotating peaks\n",
    "\n",
    "The *ChIPseeker* library makes it easy to annotate peaks by overlapping genes, UTRs, promoters, ..."
   ]
  },
  {
   "cell_type": "code",
   "execution_count": 79,
   "metadata": {
    "scrolled": false
   },
   "outputs": [
    {
     "name": "stdout",
     "output_type": "stream",
     "text": [
      ">> preparing features information...\t\t 2018-02-16 19:16:36 \n",
      ">> identifying nearest features...\t\t 2018-02-16 19:16:36 \n",
      ">> calculating distance from peak to TSS...\t 2018-02-16 19:16:36 \n",
      ">> assigning genomic annotation...\t\t 2018-02-16 19:16:36 \n",
      ">> assigning chromosome lengths\t\t\t 2018-02-16 19:16:39 \n",
      ">> done...\t\t\t\t\t 2018-02-16 19:16:39 \n"
     ]
    },
    {
     "data": {
      "text/plain": [
       "Annotated peaks generated by ChIPseeker\n",
       "629/629  peaks were annotated\n",
       "Genomic Annotation Summary:\n",
       "              Feature  Frequency\n",
       "8    Promoter (<=1kb)  3.9745628\n",
       "9    Promoter (1-2kb)  1.4308426\n",
       "10   Promoter (2-3kb)  2.3847377\n",
       "3              5' UTR  0.3179650\n",
       "2              3' UTR  0.4769475\n",
       "6          Other Exon  2.0667727\n",
       "1          1st Intron 10.8108108\n",
       "7        Other Intron 27.9809221\n",
       "5  Downstream (<=3kb)  0.1589825\n",
       "4   Distal Intergenic 50.3974563"
      ]
     },
     "metadata": {},
     "output_type": "display_data"
    }
   ],
   "source": [
    "library(ChIPseeker)\n",
    "peakAnno <-  annotatePeak(counts,\n",
    "           TxDb = TxDb.Hsapiens.UCSC.hg19.knownGene)\n",
    "peakAnno"
   ]
  },
  {
   "cell_type": "code",
   "execution_count": 80,
   "metadata": {},
   "outputs": [
    {
     "data": {
      "image/png": "[encoded data removed]",
      "text/plain": [
       "plot without title"
      ]
     },
     "metadata": {},
     "output_type": "display_data"
    }
   ],
   "source": [
    "options(repr.plot.width=6, repr.plot.height=4)\n",
    "plotAnnoPie(peakAnno)"
   ]
  },
  {
   "cell_type": "markdown",
   "metadata": {},
   "source": [
    "**Exercise**: Look at the ChIPseeker vignette and perform additional visualizations of the peak annotations"
   ]
  },
  {
   "cell_type": "markdown",
   "metadata": {},
   "source": [
    "## Blacklisted regions\n",
    "Certain genomic regions are known to produce artefactual ChIP-seq peaks, and are most safely removed or ignored if a decent blacklist is available. For human, a good blacklist is available from ENCODE as a .bed file.\n",
    "\n",
    "**Exercise**: Import the ENCODE blacklist file using *rtracklayer*. Do any of the peaks in our `counts` object overlap with blacklisted regions? The file import code is provided below."
   ]
  },
  {
   "cell_type": "code",
   "execution_count": 57,
   "metadata": {
    "scrolled": true
   },
   "outputs": [],
   "source": [
    "suppressPackageStartupMessages(library(rtracklayer))\n",
    "bl <- import(\"https://www.encodeproject.org/files/ENCFF419RSJ/@@download/ENCFF419RSJ.bed.gz\", genome=\"hg19\")"
   ]
  },
  {
   "cell_type": "markdown",
   "metadata": {},
   "source": [
    "## Footnotes <a name=\"foot\"></a>\n",
    "\n",
    "### Model-based Analysis for ChIP-Seq (MACS)\n",
    "\n",
    "Zhang Y, Liu T, Meyer CA, Eeckhoute J, Johnson DS, Bernstein BE, Nusbaum C, Myers RM, Brown M, Li W, Liu XS. \"Model-based Analysis of ChIP-Seq (MACS)\". Genome Biol. 2008.\n",
    "<http://www.ncbi.nlm.nih.gov/pmc/articles/PMC2592715/>\n",
    "\n",
    "Software: \n",
    "\n",
    "<http://liulab.dfci.harvard.edu/MACS/>\n",
    "\n",
    "### Motif finding\n",
    "\n",
    "Wikipedia's article on DNA sequence motifs: <http://en.wikipedia.org/wiki/Sequence_motif>\n",
    "\n",
    "A non-comprehensive list of software for motif finding:\n",
    "\n",
    "- [MEME/DREME](http://meme.nbcr.net/meme/)\n",
    "- [RSAT peak-motifs](http://rsat.ulb.ac.be/peak-motifs_form.cgi)\n",
    "- [motifRG (Bioconductor)](http://www.bioconductor.org/packages/release/bioc/html/motifRG.html)\n",
    "- [rGADEM (Bioconductor)](http://www.bioconductor.org/packages/release/bioc/html/rGADEM.html)\n",
    "\n",
    "A survey of motif finding algorithms: <http://www.biomedcentral.com/1471-2105/8/S7/S21/>\n",
    "\n",
    "### GenomicRanges cheat-sheet\n",
    "![GenomicRanges cheat-sheet](https://github.com/waldronlab/BrownCOBRE2018/raw/master/notebooks_day2/GenomicRangesCheatSheet.png)"
   ]
  }
 ],
 "metadata": {
  "kernelspec": {
   "display_name": "R",
   "language": "R",
   "name": "ir"
  },
  "language_info": {
   "codemirror_mode": "r",
   "file_extension": ".r",
   "mimetype": "text/x-r-source",
   "name": "R",
   "pygments_lexer": "r",
   "version": "3.4.3"
  }
 },
 "nbformat": 4,
 "nbformat_minor": 2
}
